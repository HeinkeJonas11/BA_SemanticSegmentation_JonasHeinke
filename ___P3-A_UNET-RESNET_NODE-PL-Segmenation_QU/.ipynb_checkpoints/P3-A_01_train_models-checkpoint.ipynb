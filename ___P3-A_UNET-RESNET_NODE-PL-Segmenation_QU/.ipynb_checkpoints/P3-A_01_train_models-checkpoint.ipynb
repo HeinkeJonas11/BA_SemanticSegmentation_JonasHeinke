{
 "cells": [
  {
   "cell_type": "markdown",
   "metadata": {
    "id": "1AnJLDBQ6hGy"
   },
   "source": [
    "# Change these flags to train a specific model\n",
    "## Modifikationen\n",
    "- Ausgabe der Images und Masken für Skript\n",
    "- Convertieren der Masken zum Vergleich nach Binär, da nur Hintergrund (0) und Drüsen (1) relevant."
   ]
  },
  {
   "cell_type": "code",
   "execution_count": null,
   "metadata": {
    "id": "aV7WFJLY6hGz"
   },
   "outputs": [],
   "source": [
    "TRAIN_RESNET = True\n",
    "TRAIN_UNODE = False\n",
    "TRAIN_UNET = False\n",
    "\n",
    "def get_title():\n",
    "    if TRAIN_UNODE: return 'U-NODE'\n",
    "    elif TRAIN_RESNET: return 'RESNET'\n",
    "    elif TRAIN_UNET: return 'UNET'"
   ]
  },
  {
   "cell_type": "code",
   "execution_count": null,
   "metadata": {
    "colab": {
     "base_uri": "https://localhost:8080/"
    },
    "executionInfo": {
     "elapsed": 4048,
     "status": "ok",
     "timestamp": 1634466880318,
     "user": {
      "displayName": "jon jon",
      "photoUrl": "https://lh3.googleusercontent.com/a/default-user=s64",
      "userId": "11545148206954630185"
     },
     "user_tz": -120
    },
    "id": "vcSTc9M37YU_",
    "outputId": "9fdb4828-d205-4a90-9362-cefe29f0f64e"
   },
   "outputs": [],
   "source": [
    "!pip install git+https://github.com/rtqichen/torchdiffeq"
   ]
  },
  {
   "cell_type": "markdown",
   "metadata": {
    "id": "UcTZv6PZ6hG0"
   },
   "source": [
    "---"
   ]
  },
  {
   "cell_type": "code",
   "execution_count": null,
   "metadata": {
    "id": "ekhV3yrm6hG0"
   },
   "outputs": [],
   "source": [
    "import os\n",
    "import glob\n",
    "import random\n",
    "\n",
    "import torch\n",
    "import torch.utils.data\n",
    "\n",
    "import PIL\n",
    "import skimage.measure\n",
    "import numpy as np\n",
    "import matplotlib.pyplot as plt\n",
    "\n",
    "from tqdm import tqdm, tqdm_notebook\n",
    "\n",
    "%matplotlib inline\n",
    "from models import ConvODEUNet, ConvResUNet, ODEBlock, Unet\n",
    "from dataloader import GLaSDataLoader\n",
    "from train_utils import plot_losses\n",
    "\n",
    "from IPython.display import clear_output"
   ]
  },
  {
   "cell_type": "markdown",
   "metadata": {
    "id": "4BaEZfzcCgGm"
   },
   "source": [
    "## Konstanten, Parameter\n",
    "- jh: Zur einfacheren Parametrierung"
   ]
  },
  {
   "cell_type": "code",
   "execution_count": null,
   "metadata": {
    "id": "9SFy9lvpCkhy"
   },
   "outputs": [],
   "source": [
    "SHAPE_IMG=(3,352, 512)\n",
    "SHAPE_MASK=(352, 512)\n",
    "#SHAPE_IMG=(3,512, 768)\n",
    "#SHAPE_MASK=(512, 768)\n",
    "\n",
    "EP=600               # Epochen\n",
    "LR=0.0001             # Lernrate\n",
    "BL=5                 # Bloecke"
   ]
  },
  {
   "cell_type": "markdown",
   "metadata": {
    "id": "bcptyDap6hG0"
   },
   "source": [
    "# Commands to download the dataset"
   ]
  },
  {
   "cell_type": "code",
   "execution_count": null,
   "metadata": {
    "id": "e51BzCid6hG0"
   },
   "outputs": [],
   "source": [
    "if not os.path.exists('Warwick QU Dataset (Released 2016_07_08)'):\n",
    "    !wget https://warwick.ac.uk/fac/sci/dcs/research/tia/glascontest/download/warwick_qu_dataset_released_2016_07_08.zip\n",
    "    !unzip warwick_qu_dataset_released_2016_07_08.zip     "
   ]
  },
  {
   "cell_type": "markdown",
   "metadata": {
    "id": "YD1nVViG6hG0"
   },
   "source": [
    "## Define datasets"
   ]
  },
  {
   "cell_type": "code",
   "execution_count": null,
   "metadata": {
    "id": "EysVPXII6hG1"
   },
   "outputs": [],
   "source": [
    "torch.manual_seed(0)\n",
    "\n",
    "val_set_idx = torch.LongTensor(10).random_(0, 85)\n",
    "train_set_idx = torch.arange(0, 85)\n",
    "\n",
    "overlapping = (train_set_idx[..., None] == val_set_idx).any(-1)\n",
    "train_set_idx = torch.masked_select(train_set_idx, ~overlapping)"
   ]
  },
  {
   "cell_type": "code",
   "execution_count": null,
   "metadata": {
    "id": "CQVqndG_6hG1"
   },
   "outputs": [],
   "source": [
    "trainset = GLaSDataLoader(SHAPE_MASK, dataset_repeat=1, images=train_set_idx)\n",
    "valset = GLaSDataLoader(SHAPE_MASK, dataset_repeat=1, images=val_set_idx, validation=True)\n",
    "\n",
    "trainloader = torch.utils.data.DataLoader(trainset, batch_size=1, shuffle=True, num_workers=2)\n",
    "valloader = torch.utils.data.DataLoader(valset, batch_size=1, shuffle=False, num_workers=2)"
   ]
  },
  {
   "cell_type": "markdown",
   "metadata": {
    "id": "dBgEoz7K6hG2"
   },
   "source": [
    "# Plotting train data"
   ]
  },
  {
   "cell_type": "code",
   "execution_count": null,
   "metadata": {
    "colab": {
     "base_uri": "https://localhost:8080/",
     "height": 805
    },
    "executionInfo": {
     "elapsed": 7199,
     "status": "ok",
     "timestamp": 1634466888819,
     "user": {
      "displayName": "jon jon",
      "photoUrl": "https://lh3.googleusercontent.com/a/default-user=s64",
      "userId": "11545148206954630185"
     },
     "user_tz": -120
    },
    "id": "47H3BXfm6hG2",
    "outputId": "72cf94b5-28ce-47bc-fad3-1e262e1191c4"
   },
   "outputs": [],
   "source": [
    "fig, ax = plt.subplots(nrows=5, ncols=6, figsize=(24, 15))\n",
    "\n",
    "for y in range(5):\n",
    "    for x in range(3):\n",
    "        sample = trainset[y]\n",
    "        ax[y, x * 2].imshow(sample[0].numpy().transpose(1,2,0))\n",
    "        ax[y, x * 2 + 1].imshow(sample[1][0])\n",
    "        ax[y, x * 2].axis('off')\n",
    "        ax[y, x * 2 + 1].axis('off')\n",
    "\n",
    "plt.show();"
   ]
  },
  {
   "cell_type": "code",
   "execution_count": null,
   "metadata": {
    "colab": {
     "base_uri": "https://localhost:8080/",
     "height": 322
    },
    "executionInfo": {
     "elapsed": 928,
     "status": "ok",
     "timestamp": 1634466889732,
     "user": {
      "displayName": "jon jon",
      "photoUrl": "https://lh3.googleusercontent.com/a/default-user=s64",
      "userId": "11545148206954630185"
     },
     "user_tz": -120
    },
    "id": "kIXHPbPR6hG2",
    "outputId": "bff69ef2-6b87-433a-c78e-fcf638a7f0ec"
   },
   "outputs": [],
   "source": [
    "fig, ax = plt.subplots(nrows=1, ncols=3, figsize=(24, 15))\n",
    "\n",
    "sample = trainset[0]\n",
    "ax[1].imshow(sample[1][0].numpy())\n",
    "ax[2].imshow(sample[1].sum(dim=0))\n",
    "ax[0].imshow(sample[0].numpy().transpose(1,2,0))"
   ]
  },
  {
   "cell_type": "markdown",
   "metadata": {
    "id": "ayn3wR4Q6hG2"
   },
   "source": [
    "# Plotting validation data"
   ]
  },
  {
   "cell_type": "code",
   "execution_count": null,
   "metadata": {
    "colab": {
     "base_uri": "https://localhost:8080/",
     "height": 805
    },
    "executionInfo": {
     "elapsed": 2972,
     "status": "ok",
     "timestamp": 1634466892702,
     "user": {
      "displayName": "jon jon",
      "photoUrl": "https://lh3.googleusercontent.com/a/default-user=s64",
      "userId": "11545148206954630185"
     },
     "user_tz": -120
    },
    "id": "F26qtaX56hG3",
    "outputId": "db69f21b-d4bc-49bb-d52a-e8c55fb5bda6"
   },
   "outputs": [],
   "source": [
    "fig, ax = plt.subplots(nrows=5, ncols=6, figsize=(24, 15))\n",
    "\n",
    "for y in range(5):\n",
    "    for x in range(3):\n",
    "        sample = valset[y]\n",
    "        ax[y, x * 2].imshow(sample[0].numpy().transpose(1,2,0))\n",
    "        ax[y, x * 2 + 1].imshow(sample[1][1])\n",
    "        ax[y, x * 2].axis('off')\n",
    "        ax[y, x * 2 + 1].axis('off')\n",
    "\n",
    "plt.show(); "
   ]
  },
  {
   "cell_type": "markdown",
   "metadata": {
    "id": "EqgfIO9f6hG3"
   },
   "source": [
    "# Define network"
   ]
  },
  {
   "cell_type": "code",
   "execution_count": null,
   "metadata": {
    "id": "VlxrkwOA6hG3"
   },
   "outputs": [],
   "source": [
    "devicename='cuda'\n",
    "device = torch.device(devicename)\n",
    "\n",
    "if TRAIN_UNODE:\n",
    "    net = ConvODEUNet(num_filters=16, output_dim=2, time_dependent=True, \n",
    "                      non_linearity='lrelu', adjoint=True, tol=1e-3)\n",
    "    net.to(device)"
   ]
  },
  {
   "cell_type": "code",
   "execution_count": null,
   "metadata": {
    "id": "Jf9-D8856hG3"
   },
   "outputs": [],
   "source": [
    "if TRAIN_RESNET:\n",
    "    net = ConvResUNet(num_filters=16, output_dim=2, non_linearity='lrelu')\n",
    "    net.to(device)"
   ]
  },
  {
   "cell_type": "code",
   "execution_count": null,
   "metadata": {
    "id": "k66Er8Ia6hG3"
   },
   "outputs": [],
   "source": [
    "if TRAIN_UNET:\n",
    "    net = Unet(depth=BL, num_filters=64, output_dim=2).cuda()\n",
    "    # net = Unet(depth=5, num_filters=16, output_dim=2).cuda() # --> schlechter\n",
    "    net.to(device)"
   ]
  },
  {
   "cell_type": "markdown",
   "metadata": {
    "id": "AUs9fUAUt2r4"
   },
   "source": [
    "## Modell zeigen"
   ]
  },
  {
   "cell_type": "code",
   "execution_count": null,
   "metadata": {
    "colab": {
     "base_uri": "https://localhost:8080/"
    },
    "executionInfo": {
     "elapsed": 45,
     "status": "ok",
     "timestamp": 1634466895218,
     "user": {
      "displayName": "jon jon",
      "photoUrl": "https://lh3.googleusercontent.com/a/default-user=s64",
      "userId": "11545148206954630185"
     },
     "user_tz": -120
    },
    "id": "YWbuYTvotz5P",
    "outputId": "bd2cfc7b-e1f0-44db-a38a-7dbe5ec8ed05"
   },
   "outputs": [],
   "source": [
    "print(get_title())\n",
    "from torchsummary import summary\n",
    "#-# summary = summary(net, (3,352, 512), device='cuda')\n",
    "summary = summary(net, SHAPE_IMG, device=devicename)"
   ]
  },
  {
   "cell_type": "markdown",
   "metadata": {
    "id": "gxNUUDDeuIn6"
   },
   "source": [
    "## Verarbeitung"
   ]
  },
  {
   "cell_type": "markdown",
   "metadata": {
    "id": "jnJ85qtW6hG3"
   },
   "source": [
    "---"
   ]
  },
  {
   "cell_type": "markdown",
   "metadata": {
    "id": "L_5A1svWuOZt"
   },
   "source": []
  },
  {
   "cell_type": "code",
   "execution_count": null,
   "metadata": {
    "id": "XIwmXN-c6hG4"
   },
   "outputs": [],
   "source": [
    "for m in net.modules():\n",
    "    if isinstance(m, torch.nn.Conv2d):\n",
    "        torch.nn.init.kaiming_normal_(m.weight)\n",
    "        torch.nn.init.constant_(m.bias, 0)"
   ]
  },
  {
   "cell_type": "code",
   "execution_count": null,
   "metadata": {
    "id": "q-lZFqjc6hG4"
   },
   "outputs": [],
   "source": [
    "def count_parameters(model):\n",
    "    return sum(p.numel() for p in model.parameters() if p.requires_grad)"
   ]
  },
  {
   "cell_type": "code",
   "execution_count": null,
   "metadata": {
    "colab": {
     "base_uri": "https://localhost:8080/"
    },
    "executionInfo": {
     "elapsed": 33,
     "status": "ok",
     "timestamp": 1634466895219,
     "user": {
      "displayName": "jon jon",
      "photoUrl": "https://lh3.googleusercontent.com/a/default-user=s64",
      "userId": "11545148206954630185"
     },
     "user_tz": -120
    },
    "id": "zLPxFNNY6hG4",
    "outputId": "cbcfa5dc-b077-43f7-e8cd-61dda7176146"
   },
   "outputs": [],
   "source": [
    "count_parameters(net)"
   ]
  },
  {
   "cell_type": "markdown",
   "metadata": {
    "id": "GpgCUAPO6hG4"
   },
   "source": [
    "# Train model"
   ]
  },
  {
   "cell_type": "code",
   "execution_count": null,
   "metadata": {
    "id": "cpp8TN5o6hG4"
   },
   "outputs": [],
   "source": [
    "criterion = torch.nn.BCEWithLogitsLoss()\n",
    "val_criterion = torch.nn.BCEWithLogitsLoss()\n",
    "\n",
    "if TRAIN_UNET:\n",
    "    cross_entropy = torch.nn.BCEWithLogitsLoss()\n",
    "\n",
    "    def criterion(conf, labels):\n",
    "        out_shape = conf.shape[2:4]\n",
    "        label_shape = labels.shape[2:4]\n",
    "\n",
    "        w = (label_shape[1] - out_shape[1]) // 2\n",
    "        h = (label_shape[1] - out_shape[1]) // 2\n",
    "        dh, dw = out_shape[0:2]\n",
    "\n",
    "        conf_loss_ce = cross_entropy(conf, labels[:, :, h:h+dh, w:w+dw])\n",
    "\n",
    "        return conf_loss_ce"
   ]
  },
  {
   "cell_type": "code",
   "execution_count": null,
   "metadata": {
    "id": "fDQPRb3D6hG4"
   },
   "outputs": [],
   "source": [
    "optimizer = torch.optim.Adam(net.parameters(), lr=1e-4)"
   ]
  },
  {
   "cell_type": "code",
   "execution_count": null,
   "metadata": {
    "id": "lyH9Uw7V6hG4"
   },
   "outputs": [],
   "source": [
    "torch.backends.cudnn.benchmark = True"
   ]
  },
  {
   "cell_type": "code",
   "execution_count": null,
   "metadata": {
    "id": "J9ej18Lx6hG5"
   },
   "outputs": [],
   "source": [
    "losses = []\n",
    "val_losses = []\n",
    "nfe = [[],[],[],[],[],[],[],[],[]] if TRAIN_UNODE else None"
   ]
  },
  {
   "cell_type": "code",
   "execution_count": null,
   "metadata": {
    "id": "QuBv3XVD6hG5"
   },
   "outputs": [],
   "source": [
    "accumulate_batch = 8  # mini-batch size by gradient accumulation\n",
    "accumulated = 0\n",
    "\n",
    "if TRAIN_RESNET: filename = 'best_border_resnet_model.pt'\n",
    "elif TRAIN_UNODE: filename = 'best_border_unode_model.pt'\n",
    "elif TRAIN_UNET: filename = 'best_border_unet_model.pt'\n",
    "\n",
    "def run(lr=1e-3, epochs=100):\n",
    "    accumulated = 0\n",
    "    for param_group in optimizer.param_groups:\n",
    "        param_group['lr'] = lr\n",
    "\n",
    "    for epoch in range(epochs):\n",
    "        \n",
    "        # training loop with gradient accumulation\n",
    "        running_loss = 0.0\n",
    "        optimizer.zero_grad()\n",
    "        for data in tqdm(trainloader):\n",
    "            inputs, labels = data[0].cuda(), data[1].cuda()\n",
    "            outputs = net(inputs)\n",
    "            loss = criterion(outputs, labels) / accumulate_batch\n",
    "            loss.backward()\n",
    "            accumulated += 1\n",
    "            if accumulated == accumulate_batch:\n",
    "                optimizer.step()\n",
    "                optimizer.zero_grad()\n",
    "                accumulated = 0\n",
    "\n",
    "            running_loss += loss.item() * accumulate_batch\n",
    "\n",
    "        losses.append(running_loss / len(trainloader))\n",
    "        \n",
    "        # validation loop\n",
    "        with torch.no_grad():\n",
    "            running_loss = 0.0\n",
    "            for data in valloader:\n",
    "                inputs, labels = data[0].cuda(), data[1].cuda()\n",
    "                outputs = net(inputs)\n",
    "                loss = criterion(outputs, labels)\n",
    "                running_loss += loss.item()\n",
    "\n",
    "            val_losses.append(running_loss / len(valloader))\n",
    "            if np.argmin(val_losses) == len(val_losses) - 1 and loss < 0.4:\n",
    "                torch.save(net, filename)\n",
    "                \n",
    "            clear_output(wait=True)\n",
    "            plot_losses(inputs, outputs, losses, val_losses, get_title(), nfe, net=net)"
   ]
  },
  {
   "cell_type": "code",
   "execution_count": null,
   "metadata": {
    "colab": {
     "base_uri": "https://localhost:8080/"
    },
    "executionInfo": {
     "elapsed": 18,
     "status": "ok",
     "timestamp": 1634466895221,
     "user": {
      "displayName": "jon jon",
      "photoUrl": "https://lh3.googleusercontent.com/a/default-user=s64",
      "userId": "11545148206954630185"
     },
     "user_tz": -120
    },
    "id": "XUuIUZHZYtLm",
    "outputId": "5ab5f648-2973-4545-da4e-0fc0270d0d3c"
   },
   "outputs": [],
   "source": [
    "import datetime\n",
    "protokoll_train = open('(3-1)_protokoll.txt', mode='w')\n",
    "protokoll_train.write(f'--- Projekt 3-1 --- Shape: {SHAPE_IMG}, {SHAPE_IMG}, Epochen: {EP}, Lernrate: {LR}  ---\\n')"
   ]
  },
  {
   "cell_type": "code",
   "execution_count": null,
   "metadata": {
    "colab": {
     "base_uri": "https://localhost:8080/",
     "height": 355
    },
    "executionInfo": {
     "elapsed": 8386956,
     "status": "ok",
     "timestamp": 1634475282164,
     "user": {
      "displayName": "jon jon",
      "photoUrl": "https://lh3.googleusercontent.com/a/default-user=s64",
      "userId": "11545148206954630185"
     },
     "user_tz": -120
    },
    "id": "EV5A8uwg6hG5",
    "outputId": "44ae1a5b-fc6e-4a93-ab02-b6588abe6bdc"
   },
   "outputs": [],
   "source": [
    "if TRAIN_UNODE or TRAIN_RESNET: lr = LR  # 1e-3 \n",
    "else: lr = LR # 1e-4\n",
    "protokoll_train.write(f'Training start: {datetime.datetime.now()}\\n')\n",
    "# Training starten\n",
    "run(lr, EP - len(losses))\n",
    "protokoll_train.write(f'Training end:   {datetime.datetime.now()}\\n')\n",
    "protokoll_train.close()"
   ]
  },
  {
   "cell_type": "markdown",
   "metadata": {
    "id": "XrOn7cYr6hG5"
   },
   "source": [
    "# Calculate results"
   ]
  },
  {
   "cell_type": "code",
   "execution_count": null,
   "metadata": {
    "id": "IbqvuZPb6hG5"
   },
   "outputs": [],
   "source": [
    "# filename='best_border_unet_model.pt'\n",
    "# load best model\n",
    "net = torch.load(filename)"
   ]
  },
  {
   "cell_type": "code",
   "execution_count": null,
   "metadata": {
    "colab": {
     "base_uri": "https://localhost:8080/"
    },
    "executionInfo": {
     "elapsed": 485,
     "status": "ok",
     "timestamp": 1634475282637,
     "user": {
      "displayName": "jon jon",
      "photoUrl": "https://lh3.googleusercontent.com/a/default-user=s64",
      "userId": "11545148206954630185"
     },
     "user_tz": -120
    },
    "id": "cfLRqbH76hG6",
    "outputId": "bcf929e4-76a8-4dec-cb35-a784c73a0338"
   },
   "outputs": [],
   "source": [
    "with torch.no_grad():\n",
    "    running_loss = 0.0\n",
    "    for data in tqdm(valloader):\n",
    "        inputs, labels = data[0].cuda(), data[1].cuda()\n",
    "        outputs = net(inputs)\n",
    "        loss = criterion(outputs, labels)\n",
    "        running_loss += loss.item()\n",
    "\n",
    "    print(\"Check validation loss:\", running_loss / len(valloader))"
   ]
  },
  {
   "cell_type": "markdown",
   "metadata": {
    "id": "pCns3kT86hG6"
   },
   "source": [
    "# Visualize results on validation set"
   ]
  },
  {
   "cell_type": "code",
   "execution_count": null,
   "metadata": {
    "id": "uiBXpLhk6hG6"
   },
   "outputs": [],
   "source": [
    "from inference_utils import inference_image, postprocess"
   ]
  },
  {
   "cell_type": "code",
   "execution_count": null,
   "metadata": {
    "colab": {
     "base_uri": "https://localhost:8080/",
     "height": 910
    },
    "executionInfo": {
     "elapsed": 5261,
     "status": "ok",
     "timestamp": 1634475287894,
     "user": {
      "displayName": "jon jon",
      "photoUrl": "https://lh3.googleusercontent.com/a/default-user=s64",
      "userId": "11545148206954630185"
     },
     "user_tz": -120
    },
    "id": "GuVwrVYH6hG6",
    "outputId": "47a56a00-1ce4-46bb-cae1-97c96d0a2241"
   },
   "outputs": [],
   "source": [
    "fig, ax = plt.subplots(nrows=5, ncols=3, figsize=(4*3,3*5))\n",
    "\n",
    "ax[0, 0].set_title('Image')\n",
    "ax[0, 1].set_title('Ground-truth')\n",
    "ax[0, 2].set_title(get_title())\n",
    "\n",
    "for col in range(3):\n",
    "    for row in range(5):\n",
    "        index = val_set_idx[row]\n",
    "        image = PIL.Image.open(f'Warwick QU Dataset (Released 2016_07_08)/train_{index}.bmp')\n",
    "        gt = PIL.Image.open(f'Warwick QU Dataset (Released 2016_07_08)/train_{index}_anno.bmp')\n",
    "        \n",
    "        with torch.no_grad():\n",
    "            result, input_image = inference_image(net, image, shouldpad=TRAIN_UNET)\n",
    "            result = postprocess(result, gt)\n",
    "        if col == 0:\n",
    "            ax[row, col].imshow(image)\n",
    "        elif col == 1:\n",
    "            ax[row, col].imshow(np.array(gt) > 0)\n",
    "        else:\n",
    "            ax[row, col].imshow(image)\n",
    "            ax[row, col].imshow(result, alpha=0.5)\n",
    "                \n",
    "        ax[row, col].set_axis_off()\n",
    "\n",
    "plt.show(); "
   ]
  },
  {
   "cell_type": "markdown",
   "metadata": {
    "id": "k11TW5ZS6hG6"
   },
   "source": [
    "# Calculate metrics on test set"
   ]
  },
  {
   "cell_type": "code",
   "execution_count": null,
   "metadata": {
    "id": "CyMZH4Y46hG6"
   },
   "outputs": [],
   "source": [
    "from metrics import ObjectDice, ObjectHausdorff, F1score"
   ]
  },
  {
   "cell_type": "code",
   "execution_count": null,
   "metadata": {
    "id": "tHTFRKuL6hG7"
   },
   "outputs": [],
   "source": [
    "TEST_RESNET = True\n",
    "TEST_UNODE = False\n",
    "TEST_UNET = False"
   ]
  },
  {
   "cell_type": "code",
   "execution_count": null,
   "metadata": {
    "id": "BY2x-jih6hG7"
   },
   "outputs": [],
   "source": [
    "if TEST_UNODE: net = torch.load('best_border_unode_model.pt')\n",
    "elif TEST_RESNET: net = torch.load('best_border_resnet_model.pt')\n",
    "elif TEST_UNET: net = torch.load('best_border_unet_model.pt')"
   ]
  },
  {
   "cell_type": "code",
   "execution_count": null,
   "metadata": {
    "id": "huTVznRo6hG7"
   },
   "outputs": [],
   "source": [
    "#from MODULE.JH.transforms import TwoClasses2 #???\n",
    "from MODULE.JH.img_array_transform import ArrayTransform as TRANSFORM\n",
    "# Instanzen von Klassen ggf.\n",
    "transform=TRANSFORM() # Klassenistanz"
   ]
  },
  {
   "cell_type": "markdown",
   "metadata": {
    "id": "giqoXvQj6hG7"
   },
   "source": [
    "### Identnummernbezogene/Objektbezogene Bewertung\n",
    "- [ Id=0 - Hintergrund, Durchnummerierung der Drüsen je Maske von Id=1, 2 , 3 , ..., n"
   ]
  },
  {
   "cell_type": "code",
   "execution_count": null,
   "metadata": {
    "colab": {
     "base_uri": "https://localhost:8080/"
    },
    "executionInfo": {
     "elapsed": 5,
     "status": "ok",
     "timestamp": 1634475288380,
     "user": {
      "displayName": "jon jon",
      "photoUrl": "https://lh3.googleusercontent.com/a/default-user=s64",
      "userId": "11545148206954630185"
     },
     "user_tz": -120
    },
    "id": "ETScE6nxEdES",
    "outputId": "9314c0f1-ba32-48ac-de3d-b8b8c4a5fc16"
   },
   "outputs": [],
   "source": [
    "protokolldatei = open(f'protokoll_prognose{SHAPE_MASK}.txt','w')\n",
    "\n",
    "protokolldatei.write('\\nObjektbezogenen Kennzahlen:\\n')\n",
    "# Tabellenkopf\n",
    "print_string=(f' idx | dice_img  | f1_img    | hausdorff_img ')\n",
    "protokolldatei.write(print_string+'\\n')"
   ]
  },
  {
   "cell_type": "code",
   "execution_count": null,
   "metadata": {
    "colab": {
     "base_uri": "https://localhost:8080/",
     "height": 1000,
     "referenced_widgets": [
      "d81f7e381b0b4aab9ff839b48320ba4d",
      "1b99fa498bc349378267e70c075c5aa1",
      "8d3b2b0a28af4638bc9514bde1d40b23",
      "ac1927a92c6e4de29745d468dcdcdd04",
      "36a337ce39f14d8595f5ee1ecaa631f6",
      "cfbe4431946048dc854233d266419a1c",
      "8aa0358f19dd42a19bcd21b07c0cf12e",
      "06b80f235e7449bda24125dfabbc58e0",
      "060abfe6db864ec787b5d638ce6446d2",
      "049070d117f44dd29924cf082a361f49",
      "824a0da3d0c345b9a96e9b5dca95f3f1"
     ]
    },
    "executionInfo": {
     "elapsed": 1903071,
     "status": "ok",
     "timestamp": 1634477191449,
     "user": {
      "displayName": "jon jon",
      "photoUrl": "https://lh3.googleusercontent.com/a/default-user=s64",
      "userId": "11545148206954630185"
     },
     "user_tz": -120
    },
    "id": "b5C3M7Xo6hG7",
    "outputId": "210f7258-f4b5-49c2-e553-472121f22f9d"
   },
   "outputs": [],
   "source": [
    "dice, hausdorff, f1, dice_full = 0, 0, 0, 0\n",
    "\n",
    "if TEST_UNODE: folder = 'results_unode'\n",
    "elif TEST_UNET: folder = 'results_unet'\n",
    "elif TEST_RESNET: folder = 'results_resnet'\n",
    "    \n",
    "images = []\n",
    "for index in np.arange(1, 81):\n",
    "    if index < 61: images.append(f'testA_{index}_anno.bmp')\n",
    "    else: images.append(f'testB_{index - 60}_anno.bmp')\n",
    "print(f' idx | dice_img  | f1_img    | hausdorff_img ') # Tabellenkopf        \n",
    "for i, fname in tqdm_notebook(enumerate(images), total=80):\n",
    "    gt = PIL.Image.open(f'Warwick QU Dataset (Released 2016_07_08)/' + fname)\n",
    "    image = PIL.Image.open(f'Warwick QU Dataset (Released 2016_07_08)/' + fname.replace('_anno', ''))\n",
    "    \n",
    "    result, resized = inference_image(net, image, shouldpad=TEST_UNET)\n",
    "    result = postprocess(result, gt)\n",
    "\n",
    "    gt = skimage.measure.label(np.array(gt))\n",
    "   \n",
    "    \n",
    "    f1_img = F1score(result, gt)\n",
    "    hausdorff_img = ObjectHausdorff(result, gt)\n",
    "    dice_img = ObjectDice(result, gt)\n",
    "    \n",
    "    f1 += f1_img\n",
    "    hausdorff += hausdorff_img\n",
    "    dice += dice_img\n",
    "\n",
    "    if i == 59:        \n",
    "        diceA = dice \n",
    "        hausdorffA = hausdorff \n",
    "        f1A = f1\n",
    "\n",
    "    #print(i, f1_img, hausdorff_img, dice_img)\n",
    "    print_string=(f' {i:3d} | {dice_img:9.3f} | {f1_img:9.3f} | {hausdorff_img:13.3f} ')\n",
    "    print(print_string)\n",
    "    # --- Protokoll ---\n",
    "    protokolldatei.write(print_string+'\\n')\n",
    "\n",
    "\n",
    "diceB = dice - diceA\n",
    "hausdorffB = hausdorff - hausdorffA\n",
    "f1B = f1 - f1A\n",
    "\n",
    "print('ObjectDice:', dice / 80, 'A', diceA / 60, 'B', diceB / 20)\n",
    "print('Hausdorff:', hausdorff / 80, 'A', hausdorffA / 60, 'B', hausdorffB / 20)\n",
    "print('F1:', f1 / 80, 'A', f1A / 60, 'B', f1B / 20)\n",
    "\n",
    "\n",
    "\n"
   ]
  },
  {
   "cell_type": "code",
   "execution_count": null,
   "metadata": {
    "colab": {
     "base_uri": "https://localhost:8080/"
    },
    "executionInfo": {
     "elapsed": 9,
     "status": "ok",
     "timestamp": 1634477191450,
     "user": {
      "displayName": "jon jon",
      "photoUrl": "https://lh3.googleusercontent.com/a/default-user=s64",
      "userId": "11545148206954630185"
     },
     "user_tz": -120
    },
    "id": "omOpiFFZ06kr",
    "outputId": "70834fd4-3f08-4d27-f800-189abdaed701"
   },
   "outputs": [],
   "source": [
    "protokolldatei.write('\\n Mittelwerte, Objektbezogenen Kennzahlen (OB):\\n')\n",
    "protokolldatei.write(f'ObjectDice: {dice / 80}, A: {diceA / 60}, B: {diceB / 20}\\n')\n",
    "protokolldatei.write(f'Hausdorff: {hausdorff / 80}, A: {hausdorffA / 60}, B: {hausdorffB / 20}\\n')\n",
    "protokolldatei.write(f'F1: {f1 / 80}, A: {f1A / 60}, B: {f1B / 20}\\n')\n"
   ]
  },
  {
   "cell_type": "markdown",
   "metadata": {
    "id": "jf0xC8FV6hG7"
   },
   "source": [
    "### klassenbezogene Bewertung \n",
    "- [0 - Hintergrund, 1- Drüsen]"
   ]
  },
  {
   "cell_type": "code",
   "execution_count": null,
   "metadata": {
    "colab": {
     "base_uri": "https://localhost:8080/"
    },
    "executionInfo": {
     "elapsed": 7,
     "status": "ok",
     "timestamp": 1634477191450,
     "user": {
      "displayName": "jon jon",
      "photoUrl": "https://lh3.googleusercontent.com/a/default-user=s64",
      "userId": "11545148206954630185"
     },
     "user_tz": -120
    },
    "id": "7DM928qW5xU5",
    "outputId": "0cf9ade1-27d6-49f8-d61c-7e9846af92d4"
   },
   "outputs": [],
   "source": [
    "protokolldatei.write('\\nKlassenbezogenen Kennzahlen (KB):\\n')\n",
    "# Tabellenkopf\n",
    "print_string=(f' idx | dice_img  | f1_img    | hausdorff_img ')\n",
    "protokolldatei.write(print_string+'\\n')"
   ]
  },
  {
   "cell_type": "code",
   "execution_count": null,
   "metadata": {
    "colab": {
     "base_uri": "https://localhost:8080/",
     "height": 1000,
     "referenced_widgets": [
      "6ef91ec4bee04b368de685411c3537ee",
      "66767290ac254040b64f19b836478f74",
      "090dc473c27d4d2988620c605fc00fbe",
      "c5da7fa56c6145438dd51a4bc489540b",
      "ae013cc46df44a85b4058edb0d8b38fd",
      "e0a24b6701ba40c7b44e43705c0cb903",
      "6afb867eed4842b3a36046247e2a09f3",
      "fb7dcb9f40b84688a24266191b361e38",
      "ccae659c339b4eb38f58dab49d626c21",
      "7f0925c8828a48d5a8f6ddc25bec611a",
      "7d04955ffb6643918a6371d0bbf7915d"
     ]
    },
    "executionInfo": {
     "elapsed": 519273,
     "status": "ok",
     "timestamp": 1634477710719,
     "user": {
      "displayName": "jon jon",
      "photoUrl": "https://lh3.googleusercontent.com/a/default-user=s64",
      "userId": "11545148206954630185"
     },
     "user_tz": -120
    },
    "id": "F9vX7S3E6hG8",
    "outputId": "9707a482-4ebd-4ea4-89d2-d1ffbb21556f"
   },
   "outputs": [],
   "source": [
    "dice, hausdorff, f1, dice_full = 0, 0, 0, 0\n",
    "\n",
    "if TEST_UNODE: folder = 'results_unode'\n",
    "elif TEST_UNET: folder = 'results_unet'\n",
    "elif TEST_RESNET: folder = 'results_resnet'\n",
    "    \n",
    "images = []\n",
    "for index in np.arange(1, 81):\n",
    "    if index < 61: images.append(f'testA_{index}_anno.bmp')\n",
    "    else: images.append(f'testB_{index - 60}_anno.bmp')\n",
    "print(f' idx | dice_img  | f1_img    | hausdorff_img ') # Tabellenkopf           \n",
    "for i, fname in tqdm_notebook(enumerate(images), total=80):\n",
    "    gt = PIL.Image.open(f'Warwick QU Dataset (Released 2016_07_08)/' + fname)\n",
    "    image = PIL.Image.open(f'Warwick QU Dataset (Released 2016_07_08)/' + fname.replace('_anno', ''))\n",
    "    \n",
    "    result, resized = inference_image(net, image, shouldpad=TEST_UNET)\n",
    "    result = postprocess(result, gt)\n",
    "\n",
    "    gt = skimage.measure.label(np.array(gt))\n",
    "    \n",
    "    # To Binaer, da nur Hintergund (0) und Drüsen (1) (JH)\n",
    "    gt_kb= transform.twoClasses(gt)\n",
    "    result_kb= transform.twoClasses(result)\n",
    "    \n",
    "    \n",
    "    f1_img = F1score(result_kb, gt_kb)\n",
    "    hausdorff_img = ObjectHausdorff(result_kb, gt_kb)\n",
    "    dice_img = ObjectDice(result_kb, gt_kb)\n",
    "\n",
    "\n",
    "    \n",
    "    f1 += f1_img\n",
    "    hausdorff += hausdorff_img\n",
    "    dice += dice_img\n",
    "\n",
    "    if i == 59:        \n",
    "        diceA = dice \n",
    "        hausdorffA = hausdorff \n",
    "        f1A = f1\n",
    "\n",
    "    #print(i, f1_img, hausdorff_img, dice_img)\n",
    "    print_string=(f' {i:3d} | {dice_img:9.3f} | {f1_img:9.3f} | {hausdorff_img:13.3f} ')\n",
    "    print(print_string)\n",
    "    # --- Protokoll ---\n",
    "    protokolldatei.write(print_string+'\\n')\n",
    "\n",
    "diceB = dice - diceA\n",
    "hausdorffB = hausdorff - hausdorffA\n",
    "f1B = f1 - f1A\n",
    "\n",
    "print('ObjectDice:', dice / 80, 'A', diceA / 60, 'B', diceB / 20)\n",
    "print('Hausdorff:', hausdorff / 80, 'A', hausdorffA / 60, 'B', hausdorffB / 20)\n",
    "print('F1:', f1 / 80, 'A', f1A / 60, 'B', f1B / 20)\n",
    "\n",
    "\n"
   ]
  },
  {
   "cell_type": "code",
   "execution_count": null,
   "metadata": {
    "colab": {
     "base_uri": "https://localhost:8080/"
    },
    "executionInfo": {
     "elapsed": 14,
     "status": "ok",
     "timestamp": 1634477710719,
     "user": {
      "displayName": "jon jon",
      "photoUrl": "https://lh3.googleusercontent.com/a/default-user=s64",
      "userId": "11545148206954630185"
     },
     "user_tz": -120
    },
    "id": "V-bLOok31LtK",
    "outputId": "7f6c7eb9-c93c-4b2b-e35f-d0bfc0b86f75"
   },
   "outputs": [],
   "source": [
    "protokolldatei.write('\\n Mittelwerte, klassenbezogene Kennzahlen (KB): \\n')\n",
    "protokolldatei.write(f'ObjectDice: {dice / 80}, A: {diceA / 60}, B: {diceB / 20} \\n')\n",
    "protokolldatei.write(f'Hausdorff: {hausdorff / 80}, A: {hausdorffA / 60}, B: {hausdorffB / 20} \\n')\n",
    "protokolldatei.write(f'F1: {f1 / 80}, A: {f1A / 60}, B: {f1B / 20}\\n')"
   ]
  },
  {
   "cell_type": "code",
   "execution_count": null,
   "metadata": {
    "id": "0szsdOg7IIw5"
   },
   "outputs": [],
   "source": [
    "protokolldatei.close()"
   ]
  },
  {
   "cell_type": "markdown",
   "metadata": {
    "id": "Is85_1orazGQ"
   },
   "source": [
    "## Visualisierung 1 mit Zwischendarstellung"
   ]
  },
  {
   "cell_type": "code",
   "execution_count": null,
   "metadata": {
    "id": "ioJAmvmCaT6I"
   },
   "outputs": [],
   "source": [
    "def showPrognose(result_prog):\n",
    "    '''Zum Visualisieren des Prognoseergbnisses ohne Nachbearbeitung (ohne Postprozess)'''\n",
    "    #print(result_1.shape)\n",
    "    kanal=np.zeros((1,result_prog.shape[1], result_prog.shape[2]))\n",
    "    result_prog=np.concatenate((result_prog, kanal))\n",
    "    result_prog=result_prog.transpose((2,1,0))\n",
    "    result_prog=np.rot90(result_prog,k=1)\n",
    "    result_prog=np.flip(result_prog, 0)\n",
    "\n",
    "    return result_prog"
   ]
  },
  {
   "cell_type": "markdown",
   "metadata": {
    "id": "EUgdgFm6xq9u"
   },
   "source": []
  },
  {
   "cell_type": "code",
   "execution_count": null,
   "metadata": {
    "colab": {
     "base_uri": "https://localhost:8080/"
    },
    "executionInfo": {
     "elapsed": 14211,
     "status": "ok",
     "timestamp": 1634477724920,
     "user": {
      "displayName": "jon jon",
      "photoUrl": "https://lh3.googleusercontent.com/a/default-user=s64",
      "userId": "11545148206954630185"
     },
     "user_tz": -120
    },
    "id": "aqooXTpcaVAR",
    "outputId": "26efc4c0-930e-4571-c57b-1db171566a61"
   },
   "outputs": [],
   "source": [
    "images, gts, results_prog, results=[],[],[],[]\n",
    "for idx in range(80):\n",
    "    \n",
    "    fnameimage= f'/testA_{idx+1}.bmp'\n",
    "    fnamemask= f'/testA_{idx+1}_anno.bmp'\n",
    "    if idx >= 60:\n",
    "        fnameimage= f'/testB_{idx+1-60}.bmp'\n",
    "        fnamemask= f'/testB_{idx+1-60}_anno.bmp'\n",
    "\n",
    "    image = PIL.Image.open(f'Warwick QU Dataset (Released 2016_07_08)' + fnameimage)\n",
    "    gt = PIL.Image.open(f'Warwick QU Dataset (Released 2016_07_08)' + fnamemask)\n",
    "    with torch.no_grad():\n",
    "        # Prognose\n",
    "        result_prog, input_image = inference_image(net, image, shouldpad=TRAIN_UNET)\n",
    "        # Nachbearbeitung\n",
    "        result = postprocess(result_prog, gt)\n",
    "    images.append(image)\n",
    "    gts.append(gt)\n",
    "    \n",
    "    # Zum Visualisieren des Prognoseergbnisses ohne Nachbearbeitung \n",
    "    result_prog=showPrognose(result_prog)\n",
    "\n",
    "    results_prog.append(result_prog)\n",
    "    results.append(result)\n",
    "print(len(images))   "
   ]
  },
  {
   "cell_type": "code",
   "execution_count": null,
   "metadata": {
    "id": "YD9SMsytahLP"
   },
   "outputs": [],
   "source": [
    "from importlib import reload\n",
    "import MODULE.JH.visualize\n",
    "reload(MODULE.JH.visualize)\n",
    "\n",
    "from MODULE.JH.visualize import Show as SHOW\n",
    "\n",
    "show=SHOW(experiment='', figsize=(15,15), fontsize=16)"
   ]
  },
  {
   "cell_type": "code",
   "execution_count": null,
   "metadata": {
    "colab": {
     "base_uri": "https://localhost:8080/",
     "height": 948
    },
    "executionInfo": {
     "elapsed": 3559,
     "status": "ok",
     "timestamp": 1634477728472,
     "user": {
      "displayName": "jon jon",
      "photoUrl": "https://lh3.googleusercontent.com/a/default-user=s64",
      "userId": "11545148206954630185"
     },
     "user_tz": -120
    },
    "id": "j8aps055ak_p",
    "outputId": "b3b496e3-bb9c-4cf0-c417-2d6f3eaf1355"
   },
   "outputs": [],
   "source": [
    "idx_list=list([75,55,5])\n",
    "path_set= f'(3-1)_images_masks_listset_{str(idx_list)}.png'\n",
    "\n",
    "listset=list([images, gts, results_prog, results])\n",
    "titles=list(['Image', 'tatsächliche Maske','prognostizierte Maske', 'mit Postprocessing'])\n",
    "\n",
    "show.list_set(idx_list, listset,titles, path=path_set)"
   ]
  },
  {
   "cell_type": "code",
   "execution_count": null,
   "metadata": {
    "colab": {
     "base_uri": "https://localhost:8080/",
     "height": 703
    },
    "executionInfo": {
     "elapsed": 1342,
     "status": "ok",
     "timestamp": 1634477729789,
     "user": {
      "displayName": "jon jon",
      "photoUrl": "https://lh3.googleusercontent.com/a/default-user=s64",
      "userId": "11545148206954630185"
     },
     "user_tz": -120
    },
    "id": "nYj-uwelfdc3",
    "outputId": "e70e1491-1e23-490f-cc3d-f5dfd902b61c"
   },
   "outputs": [],
   "source": [
    "show=SHOW(experiment='', figsize=(15,11), fontsize=14)\n",
    "path_set= f'(3-1)_images_masks_Objekte_{str(idx_list)}.png'\n",
    "\n",
    "listset=list([images, gts, results])\n",
    "titles=list(['Image', 'tatsächliche Maske','Prognose mit Postprocessing'])\n",
    "\n",
    "show.list_set(idx_list, listset,titles, path=path_set)"
   ]
  },
  {
   "cell_type": "markdown",
   "metadata": {
    "id": "tHHb9aUfaV-A"
   },
   "source": []
  },
  {
   "cell_type": "markdown",
   "metadata": {
    "id": "O33v3l6XaYIY"
   },
   "source": [
    "## Visualisierung 2"
   ]
  },
  {
   "cell_type": "code",
   "execution_count": null,
   "metadata": {
    "colab": {
     "base_uri": "https://localhost:8080/",
     "height": 580
    },
    "executionInfo": {
     "elapsed": 5676,
     "status": "ok",
     "timestamp": 1634477735463,
     "user": {
      "displayName": "jon jon",
      "photoUrl": "https://lh3.googleusercontent.com/a/default-user=s64",
      "userId": "11545148206954630185"
     },
     "user_tz": -120
    },
    "id": "1dk8m4GN6hG8",
    "outputId": "b869d043-4585-4f3d-e374-33a7b780600b"
   },
   "outputs": [],
   "source": [
    "# Ergänzung: Ausgabe von Images und Masken für das Skript (JH)\n",
    "\n",
    "fig, ax = plt.subplots(nrows=3, ncols=3, figsize=(4*3,3*3))\n",
    "samples=[14, 53, 51]\n",
    "\n",
    "for col in range(3):\n",
    "    for row in range(3):\n",
    "        #index = val_set_idx[samples[row]]\n",
    "        ax[row, 0].set_title(f'Image {samples[row]}')\n",
    "        ax[row, 1].set_title(f'tatsächliche Maske {samples[row]}')\n",
    "        ax[row, 2].set_title(f'prognostizierte Maske {samples[row]}')\n",
    "        \n",
    "        index = samples[row]\n",
    "        \n",
    "        fnameimage= f'/testA_{index+1}.bmp'\n",
    "        fnamemask= f'/testA_{index+1}_anno.bmp'\n",
    "        if index >= 60:\n",
    "            fnameimage= f'/testB_{index+1-60}.bmp'\n",
    "            fnamemask= f'/testB_{index+1-60}_anno.bmp'\n",
    "            \n",
    "        \n",
    "        image = PIL.Image.open(f'Warwick QU Dataset (Released 2016_07_08)' + fnameimage)\n",
    "        gt = PIL.Image.open(f'Warwick QU Dataset (Released 2016_07_08)' + fnamemask)\n",
    "        \n",
    "        with torch.no_grad():\n",
    "            result, input_image = inference_image(net, image, shouldpad=TRAIN_UNET)\n",
    "            result = postprocess(result, gt)\n",
    "        \n",
    "        \n",
    "        with torch.no_grad():\n",
    "            result, input_image = inference_image(net, image, shouldpad=TRAIN_UNET)\n",
    "            result = postprocess(result, gt)\n",
    "        if col == 0:\n",
    "            ax[row, col].imshow(image)\n",
    "        elif col == 1:\n",
    "            #ax[row, col].imshow(np.array(gt) > 0)\n",
    "            ax[row, col].imshow(np.array(gt))\n",
    "        else:\n",
    "            ax[row, col].imshow(image)\n",
    "            ax[row, col].imshow(result, alpha=1)\n",
    "                \n",
    "        ax[row, col].set_axis_off()\n",
    "\n",
    "plt.savefig(f'Test_Image_Maske_Prognose{samples}.png', bbox_inches=\"tight\")\n",
    "plt.show(); "
   ]
  },
  {
   "cell_type": "code",
   "execution_count": null,
   "metadata": {
    "colab": {
     "base_uri": "https://localhost:8080/"
    },
    "executionInfo": {
     "elapsed": 41,
     "status": "ok",
     "timestamp": 1634477735464,
     "user": {
      "displayName": "jon jon",
      "photoUrl": "https://lh3.googleusercontent.com/a/default-user=s64",
      "userId": "11545148206954630185"
     },
     "user_tz": -120
    },
    "id": "Wg7IH_am6hG8",
    "outputId": "258f7907-6f47-4f5d-9dc3-1495f39eead0"
   },
   "outputs": [],
   "source": [
    "print('ENDE')"
   ]
  }
 ],
 "metadata": {
  "accelerator": "GPU",
  "colab": {
   "collapsed_sections": [],
   "machine_shape": "hm",
   "name": "P3-A_01_train_models (352x512_epoch600) (202107-03)_Add(Klassenbezug, Visualisierung).ipynb",
   "provenance": []
  },
  "kernelspec": {
   "display_name": "Python 3",
   "language": "python",
   "name": "python3"
  },
  "language_info": {
   "codemirror_mode": {
    "name": "ipython",
    "version": 3
   },
   "file_extension": ".py",
   "mimetype": "text/x-python",
   "name": "python",
   "nbconvert_exporter": "python",
   "pygments_lexer": "ipython3",
   "version": "3.8.8"
  },
  "widgets": {
   "application/vnd.jupyter.widget-state+json": {
    "049070d117f44dd29924cf082a361f49": {
     "model_module": "@jupyter-widgets/controls",
     "model_module_version": "1.5.0",
     "model_name": "DescriptionStyleModel",
     "state": {
      "_model_module": "@jupyter-widgets/controls",
      "_model_module_version": "1.5.0",
      "_model_name": "DescriptionStyleModel",
      "_view_count": null,
      "_view_module": "@jupyter-widgets/base",
      "_view_module_version": "1.2.0",
      "_view_name": "StyleView",
      "description_width": ""
     }
    },
    "060abfe6db864ec787b5d638ce6446d2": {
     "model_module": "@jupyter-widgets/base",
     "model_module_version": "1.2.0",
     "model_name": "LayoutModel",
     "state": {
      "_model_module": "@jupyter-widgets/base",
      "_model_module_version": "1.2.0",
      "_model_name": "LayoutModel",
      "_view_count": null,
      "_view_module": "@jupyter-widgets/base",
      "_view_module_version": "1.2.0",
      "_view_name": "LayoutView",
      "align_content": null,
      "align_items": null,
      "align_self": null,
      "border": null,
      "bottom": null,
      "display": null,
      "flex": null,
      "flex_flow": null,
      "grid_area": null,
      "grid_auto_columns": null,
      "grid_auto_flow": null,
      "grid_auto_rows": null,
      "grid_column": null,
      "grid_gap": null,
      "grid_row": null,
      "grid_template_areas": null,
      "grid_template_columns": null,
      "grid_template_rows": null,
      "height": null,
      "justify_content": null,
      "justify_items": null,
      "left": null,
      "margin": null,
      "max_height": null,
      "max_width": null,
      "min_height": null,
      "min_width": null,
      "object_fit": null,
      "object_position": null,
      "order": null,
      "overflow": null,
      "overflow_x": null,
      "overflow_y": null,
      "padding": null,
      "right": null,
      "top": null,
      "visibility": null,
      "width": null
     }
    },
    "06b80f235e7449bda24125dfabbc58e0": {
     "model_module": "@jupyter-widgets/controls",
     "model_module_version": "1.5.0",
     "model_name": "ProgressStyleModel",
     "state": {
      "_model_module": "@jupyter-widgets/controls",
      "_model_module_version": "1.5.0",
      "_model_name": "ProgressStyleModel",
      "_view_count": null,
      "_view_module": "@jupyter-widgets/base",
      "_view_module_version": "1.2.0",
      "_view_name": "StyleView",
      "bar_color": null,
      "description_width": ""
     }
    },
    "090dc473c27d4d2988620c605fc00fbe": {
     "model_module": "@jupyter-widgets/controls",
     "model_module_version": "1.5.0",
     "model_name": "HTMLModel",
     "state": {
      "_dom_classes": [],
      "_model_module": "@jupyter-widgets/controls",
      "_model_module_version": "1.5.0",
      "_model_name": "HTMLModel",
      "_view_count": null,
      "_view_module": "@jupyter-widgets/controls",
      "_view_module_version": "1.5.0",
      "_view_name": "HTMLView",
      "description": "",
      "description_tooltip": null,
      "layout": "IPY_MODEL_6afb867eed4842b3a36046247e2a09f3",
      "placeholder": "​",
      "style": "IPY_MODEL_e0a24b6701ba40c7b44e43705c0cb903",
      "value": "100%"
     }
    },
    "1b99fa498bc349378267e70c075c5aa1": {
     "model_module": "@jupyter-widgets/base",
     "model_module_version": "1.2.0",
     "model_name": "LayoutModel",
     "state": {
      "_model_module": "@jupyter-widgets/base",
      "_model_module_version": "1.2.0",
      "_model_name": "LayoutModel",
      "_view_count": null,
      "_view_module": "@jupyter-widgets/base",
      "_view_module_version": "1.2.0",
      "_view_name": "LayoutView",
      "align_content": null,
      "align_items": null,
      "align_self": null,
      "border": null,
      "bottom": null,
      "display": null,
      "flex": null,
      "flex_flow": null,
      "grid_area": null,
      "grid_auto_columns": null,
      "grid_auto_flow": null,
      "grid_auto_rows": null,
      "grid_column": null,
      "grid_gap": null,
      "grid_row": null,
      "grid_template_areas": null,
      "grid_template_columns": null,
      "grid_template_rows": null,
      "height": null,
      "justify_content": null,
      "justify_items": null,
      "left": null,
      "margin": null,
      "max_height": null,
      "max_width": null,
      "min_height": null,
      "min_width": null,
      "object_fit": null,
      "object_position": null,
      "order": null,
      "overflow": null,
      "overflow_x": null,
      "overflow_y": null,
      "padding": null,
      "right": null,
      "top": null,
      "visibility": null,
      "width": null
     }
    },
    "36a337ce39f14d8595f5ee1ecaa631f6": {
     "model_module": "@jupyter-widgets/controls",
     "model_module_version": "1.5.0",
     "model_name": "HTMLModel",
     "state": {
      "_dom_classes": [],
      "_model_module": "@jupyter-widgets/controls",
      "_model_module_version": "1.5.0",
      "_model_name": "HTMLModel",
      "_view_count": null,
      "_view_module": "@jupyter-widgets/controls",
      "_view_module_version": "1.5.0",
      "_view_name": "HTMLView",
      "description": "",
      "description_tooltip": null,
      "layout": "IPY_MODEL_824a0da3d0c345b9a96e9b5dca95f3f1",
      "placeholder": "​",
      "style": "IPY_MODEL_049070d117f44dd29924cf082a361f49",
      "value": " 80/80 [31:42&lt;00:00, 31.85s/it]"
     }
    },
    "66767290ac254040b64f19b836478f74": {
     "model_module": "@jupyter-widgets/base",
     "model_module_version": "1.2.0",
     "model_name": "LayoutModel",
     "state": {
      "_model_module": "@jupyter-widgets/base",
      "_model_module_version": "1.2.0",
      "_model_name": "LayoutModel",
      "_view_count": null,
      "_view_module": "@jupyter-widgets/base",
      "_view_module_version": "1.2.0",
      "_view_name": "LayoutView",
      "align_content": null,
      "align_items": null,
      "align_self": null,
      "border": null,
      "bottom": null,
      "display": null,
      "flex": null,
      "flex_flow": null,
      "grid_area": null,
      "grid_auto_columns": null,
      "grid_auto_flow": null,
      "grid_auto_rows": null,
      "grid_column": null,
      "grid_gap": null,
      "grid_row": null,
      "grid_template_areas": null,
      "grid_template_columns": null,
      "grid_template_rows": null,
      "height": null,
      "justify_content": null,
      "justify_items": null,
      "left": null,
      "margin": null,
      "max_height": null,
      "max_width": null,
      "min_height": null,
      "min_width": null,
      "object_fit": null,
      "object_position": null,
      "order": null,
      "overflow": null,
      "overflow_x": null,
      "overflow_y": null,
      "padding": null,
      "right": null,
      "top": null,
      "visibility": null,
      "width": null
     }
    },
    "6afb867eed4842b3a36046247e2a09f3": {
     "model_module": "@jupyter-widgets/base",
     "model_module_version": "1.2.0",
     "model_name": "LayoutModel",
     "state": {
      "_model_module": "@jupyter-widgets/base",
      "_model_module_version": "1.2.0",
      "_model_name": "LayoutModel",
      "_view_count": null,
      "_view_module": "@jupyter-widgets/base",
      "_view_module_version": "1.2.0",
      "_view_name": "LayoutView",
      "align_content": null,
      "align_items": null,
      "align_self": null,
      "border": null,
      "bottom": null,
      "display": null,
      "flex": null,
      "flex_flow": null,
      "grid_area": null,
      "grid_auto_columns": null,
      "grid_auto_flow": null,
      "grid_auto_rows": null,
      "grid_column": null,
      "grid_gap": null,
      "grid_row": null,
      "grid_template_areas": null,
      "grid_template_columns": null,
      "grid_template_rows": null,
      "height": null,
      "justify_content": null,
      "justify_items": null,
      "left": null,
      "margin": null,
      "max_height": null,
      "max_width": null,
      "min_height": null,
      "min_width": null,
      "object_fit": null,
      "object_position": null,
      "order": null,
      "overflow": null,
      "overflow_x": null,
      "overflow_y": null,
      "padding": null,
      "right": null,
      "top": null,
      "visibility": null,
      "width": null
     }
    },
    "6ef91ec4bee04b368de685411c3537ee": {
     "model_module": "@jupyter-widgets/controls",
     "model_module_version": "1.5.0",
     "model_name": "HBoxModel",
     "state": {
      "_dom_classes": [],
      "_model_module": "@jupyter-widgets/controls",
      "_model_module_version": "1.5.0",
      "_model_name": "HBoxModel",
      "_view_count": null,
      "_view_module": "@jupyter-widgets/controls",
      "_view_module_version": "1.5.0",
      "_view_name": "HBoxView",
      "box_style": "",
      "children": [
       "IPY_MODEL_090dc473c27d4d2988620c605fc00fbe",
       "IPY_MODEL_c5da7fa56c6145438dd51a4bc489540b",
       "IPY_MODEL_ae013cc46df44a85b4058edb0d8b38fd"
      ],
      "layout": "IPY_MODEL_66767290ac254040b64f19b836478f74"
     }
    },
    "7d04955ffb6643918a6371d0bbf7915d": {
     "model_module": "@jupyter-widgets/base",
     "model_module_version": "1.2.0",
     "model_name": "LayoutModel",
     "state": {
      "_model_module": "@jupyter-widgets/base",
      "_model_module_version": "1.2.0",
      "_model_name": "LayoutModel",
      "_view_count": null,
      "_view_module": "@jupyter-widgets/base",
      "_view_module_version": "1.2.0",
      "_view_name": "LayoutView",
      "align_content": null,
      "align_items": null,
      "align_self": null,
      "border": null,
      "bottom": null,
      "display": null,
      "flex": null,
      "flex_flow": null,
      "grid_area": null,
      "grid_auto_columns": null,
      "grid_auto_flow": null,
      "grid_auto_rows": null,
      "grid_column": null,
      "grid_gap": null,
      "grid_row": null,
      "grid_template_areas": null,
      "grid_template_columns": null,
      "grid_template_rows": null,
      "height": null,
      "justify_content": null,
      "justify_items": null,
      "left": null,
      "margin": null,
      "max_height": null,
      "max_width": null,
      "min_height": null,
      "min_width": null,
      "object_fit": null,
      "object_position": null,
      "order": null,
      "overflow": null,
      "overflow_x": null,
      "overflow_y": null,
      "padding": null,
      "right": null,
      "top": null,
      "visibility": null,
      "width": null
     }
    },
    "7f0925c8828a48d5a8f6ddc25bec611a": {
     "model_module": "@jupyter-widgets/controls",
     "model_module_version": "1.5.0",
     "model_name": "DescriptionStyleModel",
     "state": {
      "_model_module": "@jupyter-widgets/controls",
      "_model_module_version": "1.5.0",
      "_model_name": "DescriptionStyleModel",
      "_view_count": null,
      "_view_module": "@jupyter-widgets/base",
      "_view_module_version": "1.2.0",
      "_view_name": "StyleView",
      "description_width": ""
     }
    },
    "824a0da3d0c345b9a96e9b5dca95f3f1": {
     "model_module": "@jupyter-widgets/base",
     "model_module_version": "1.2.0",
     "model_name": "LayoutModel",
     "state": {
      "_model_module": "@jupyter-widgets/base",
      "_model_module_version": "1.2.0",
      "_model_name": "LayoutModel",
      "_view_count": null,
      "_view_module": "@jupyter-widgets/base",
      "_view_module_version": "1.2.0",
      "_view_name": "LayoutView",
      "align_content": null,
      "align_items": null,
      "align_self": null,
      "border": null,
      "bottom": null,
      "display": null,
      "flex": null,
      "flex_flow": null,
      "grid_area": null,
      "grid_auto_columns": null,
      "grid_auto_flow": null,
      "grid_auto_rows": null,
      "grid_column": null,
      "grid_gap": null,
      "grid_row": null,
      "grid_template_areas": null,
      "grid_template_columns": null,
      "grid_template_rows": null,
      "height": null,
      "justify_content": null,
      "justify_items": null,
      "left": null,
      "margin": null,
      "max_height": null,
      "max_width": null,
      "min_height": null,
      "min_width": null,
      "object_fit": null,
      "object_position": null,
      "order": null,
      "overflow": null,
      "overflow_x": null,
      "overflow_y": null,
      "padding": null,
      "right": null,
      "top": null,
      "visibility": null,
      "width": null
     }
    },
    "8aa0358f19dd42a19bcd21b07c0cf12e": {
     "model_module": "@jupyter-widgets/base",
     "model_module_version": "1.2.0",
     "model_name": "LayoutModel",
     "state": {
      "_model_module": "@jupyter-widgets/base",
      "_model_module_version": "1.2.0",
      "_model_name": "LayoutModel",
      "_view_count": null,
      "_view_module": "@jupyter-widgets/base",
      "_view_module_version": "1.2.0",
      "_view_name": "LayoutView",
      "align_content": null,
      "align_items": null,
      "align_self": null,
      "border": null,
      "bottom": null,
      "display": null,
      "flex": null,
      "flex_flow": null,
      "grid_area": null,
      "grid_auto_columns": null,
      "grid_auto_flow": null,
      "grid_auto_rows": null,
      "grid_column": null,
      "grid_gap": null,
      "grid_row": null,
      "grid_template_areas": null,
      "grid_template_columns": null,
      "grid_template_rows": null,
      "height": null,
      "justify_content": null,
      "justify_items": null,
      "left": null,
      "margin": null,
      "max_height": null,
      "max_width": null,
      "min_height": null,
      "min_width": null,
      "object_fit": null,
      "object_position": null,
      "order": null,
      "overflow": null,
      "overflow_x": null,
      "overflow_y": null,
      "padding": null,
      "right": null,
      "top": null,
      "visibility": null,
      "width": null
     }
    },
    "8d3b2b0a28af4638bc9514bde1d40b23": {
     "model_module": "@jupyter-widgets/controls",
     "model_module_version": "1.5.0",
     "model_name": "HTMLModel",
     "state": {
      "_dom_classes": [],
      "_model_module": "@jupyter-widgets/controls",
      "_model_module_version": "1.5.0",
      "_model_name": "HTMLModel",
      "_view_count": null,
      "_view_module": "@jupyter-widgets/controls",
      "_view_module_version": "1.5.0",
      "_view_name": "HTMLView",
      "description": "",
      "description_tooltip": null,
      "layout": "IPY_MODEL_8aa0358f19dd42a19bcd21b07c0cf12e",
      "placeholder": "​",
      "style": "IPY_MODEL_cfbe4431946048dc854233d266419a1c",
      "value": "100%"
     }
    },
    "ac1927a92c6e4de29745d468dcdcdd04": {
     "model_module": "@jupyter-widgets/controls",
     "model_module_version": "1.5.0",
     "model_name": "FloatProgressModel",
     "state": {
      "_dom_classes": [],
      "_model_module": "@jupyter-widgets/controls",
      "_model_module_version": "1.5.0",
      "_model_name": "FloatProgressModel",
      "_view_count": null,
      "_view_module": "@jupyter-widgets/controls",
      "_view_module_version": "1.5.0",
      "_view_name": "ProgressView",
      "bar_style": "success",
      "description": "",
      "description_tooltip": null,
      "layout": "IPY_MODEL_060abfe6db864ec787b5d638ce6446d2",
      "max": 80,
      "min": 0,
      "orientation": "horizontal",
      "style": "IPY_MODEL_06b80f235e7449bda24125dfabbc58e0",
      "value": 80
     }
    },
    "ae013cc46df44a85b4058edb0d8b38fd": {
     "model_module": "@jupyter-widgets/controls",
     "model_module_version": "1.5.0",
     "model_name": "HTMLModel",
     "state": {
      "_dom_classes": [],
      "_model_module": "@jupyter-widgets/controls",
      "_model_module_version": "1.5.0",
      "_model_name": "HTMLModel",
      "_view_count": null,
      "_view_module": "@jupyter-widgets/controls",
      "_view_module_version": "1.5.0",
      "_view_name": "HTMLView",
      "description": "",
      "description_tooltip": null,
      "layout": "IPY_MODEL_7d04955ffb6643918a6371d0bbf7915d",
      "placeholder": "​",
      "style": "IPY_MODEL_7f0925c8828a48d5a8f6ddc25bec611a",
      "value": " 80/80 [08:39&lt;00:00,  6.94s/it]"
     }
    },
    "c5da7fa56c6145438dd51a4bc489540b": {
     "model_module": "@jupyter-widgets/controls",
     "model_module_version": "1.5.0",
     "model_name": "FloatProgressModel",
     "state": {
      "_dom_classes": [],
      "_model_module": "@jupyter-widgets/controls",
      "_model_module_version": "1.5.0",
      "_model_name": "FloatProgressModel",
      "_view_count": null,
      "_view_module": "@jupyter-widgets/controls",
      "_view_module_version": "1.5.0",
      "_view_name": "ProgressView",
      "bar_style": "success",
      "description": "",
      "description_tooltip": null,
      "layout": "IPY_MODEL_ccae659c339b4eb38f58dab49d626c21",
      "max": 80,
      "min": 0,
      "orientation": "horizontal",
      "style": "IPY_MODEL_fb7dcb9f40b84688a24266191b361e38",
      "value": 80
     }
    },
    "ccae659c339b4eb38f58dab49d626c21": {
     "model_module": "@jupyter-widgets/base",
     "model_module_version": "1.2.0",
     "model_name": "LayoutModel",
     "state": {
      "_model_module": "@jupyter-widgets/base",
      "_model_module_version": "1.2.0",
      "_model_name": "LayoutModel",
      "_view_count": null,
      "_view_module": "@jupyter-widgets/base",
      "_view_module_version": "1.2.0",
      "_view_name": "LayoutView",
      "align_content": null,
      "align_items": null,
      "align_self": null,
      "border": null,
      "bottom": null,
      "display": null,
      "flex": null,
      "flex_flow": null,
      "grid_area": null,
      "grid_auto_columns": null,
      "grid_auto_flow": null,
      "grid_auto_rows": null,
      "grid_column": null,
      "grid_gap": null,
      "grid_row": null,
      "grid_template_areas": null,
      "grid_template_columns": null,
      "grid_template_rows": null,
      "height": null,
      "justify_content": null,
      "justify_items": null,
      "left": null,
      "margin": null,
      "max_height": null,
      "max_width": null,
      "min_height": null,
      "min_width": null,
      "object_fit": null,
      "object_position": null,
      "order": null,
      "overflow": null,
      "overflow_x": null,
      "overflow_y": null,
      "padding": null,
      "right": null,
      "top": null,
      "visibility": null,
      "width": null
     }
    },
    "cfbe4431946048dc854233d266419a1c": {
     "model_module": "@jupyter-widgets/controls",
     "model_module_version": "1.5.0",
     "model_name": "DescriptionStyleModel",
     "state": {
      "_model_module": "@jupyter-widgets/controls",
      "_model_module_version": "1.5.0",
      "_model_name": "DescriptionStyleModel",
      "_view_count": null,
      "_view_module": "@jupyter-widgets/base",
      "_view_module_version": "1.2.0",
      "_view_name": "StyleView",
      "description_width": ""
     }
    },
    "d81f7e381b0b4aab9ff839b48320ba4d": {
     "model_module": "@jupyter-widgets/controls",
     "model_module_version": "1.5.0",
     "model_name": "HBoxModel",
     "state": {
      "_dom_classes": [],
      "_model_module": "@jupyter-widgets/controls",
      "_model_module_version": "1.5.0",
      "_model_name": "HBoxModel",
      "_view_count": null,
      "_view_module": "@jupyter-widgets/controls",
      "_view_module_version": "1.5.0",
      "_view_name": "HBoxView",
      "box_style": "",
      "children": [
       "IPY_MODEL_8d3b2b0a28af4638bc9514bde1d40b23",
       "IPY_MODEL_ac1927a92c6e4de29745d468dcdcdd04",
       "IPY_MODEL_36a337ce39f14d8595f5ee1ecaa631f6"
      ],
      "layout": "IPY_MODEL_1b99fa498bc349378267e70c075c5aa1"
     }
    },
    "e0a24b6701ba40c7b44e43705c0cb903": {
     "model_module": "@jupyter-widgets/controls",
     "model_module_version": "1.5.0",
     "model_name": "DescriptionStyleModel",
     "state": {
      "_model_module": "@jupyter-widgets/controls",
      "_model_module_version": "1.5.0",
      "_model_name": "DescriptionStyleModel",
      "_view_count": null,
      "_view_module": "@jupyter-widgets/base",
      "_view_module_version": "1.2.0",
      "_view_name": "StyleView",
      "description_width": ""
     }
    },
    "fb7dcb9f40b84688a24266191b361e38": {
     "model_module": "@jupyter-widgets/controls",
     "model_module_version": "1.5.0",
     "model_name": "ProgressStyleModel",
     "state": {
      "_model_module": "@jupyter-widgets/controls",
      "_model_module_version": "1.5.0",
      "_model_name": "ProgressStyleModel",
      "_view_count": null,
      "_view_module": "@jupyter-widgets/base",
      "_view_module_version": "1.2.0",
      "_view_name": "StyleView",
      "bar_color": null,
      "description_width": ""
     }
    }
   }
  }
 },
 "nbformat": 4,
 "nbformat_minor": 1
}

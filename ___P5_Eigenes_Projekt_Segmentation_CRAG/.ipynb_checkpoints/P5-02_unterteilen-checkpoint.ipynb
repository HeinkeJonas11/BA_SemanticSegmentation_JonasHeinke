{
 "cells": [
  {
   "cell_type": "markdown",
   "id": "4c5f9be6",
   "metadata": {
    "id": "4c5f9be6"
   },
   "source": [
    "# P5-02: Subdivide pictures from dataset\n",
    "\n",
    "This sub-project subdivides or divides larger images and masks into several small ones. This can be necessary if image-mask pairs cannot be used directly for training due to their high resolution and a scaling-down should be avoided."
   ]
  },
  {
   "cell_type": "markdown",
   "id": "Nepfa86xMcJC",
   "metadata": {
    "id": "Nepfa86xMcJC"
   },
   "source": [
    "## Libraries, modules, classes"
   ]
  },
  {
   "cell_type": "code",
   "execution_count": null,
   "id": "57091fe1",
   "metadata": {
    "id": "57091fe1"
   },
   "outputs": [],
   "source": [
    "import os\n",
    "#-----------------\n",
    "from configuration_CRAG import Path   as PATH # Paths and filenames\n",
    "from configuration_CRAG import Inputs as IMG  # Image parameters\n",
    "from MODULE.JH.subdivide_pictures import SubdividePictures as SUBPICTURE "
   ]
  },
  {
   "cell_type": "code",
   "execution_count": null,
   "id": "4b51df75",
   "metadata": {
    "id": "4b51df75"
   },
   "outputs": [],
   "source": [
    "VERBOSE=True\n",
    "SUBDIVIDE_trainimages=False ## ggf. in die Konfigurationsdatei [True - Train images, False - Test images]"
   ]
  },
  {
   "cell_type": "markdown",
   "id": "cec85c00",
   "metadata": {
    "id": "cec85c00"
   },
   "source": [
    "## 1. Download the fil names of dataset and generate path names"
   ]
  },
  {
   "cell_type": "code",
   "execution_count": null,
   "id": "f1ea4092",
   "metadata": {
    "id": "f1ea4092"
   },
   "outputs": [],
   "source": [
    "path=PATH() # Instance of the class required for method call\n",
    "#subdivide_trainimages=False\n",
    "if SUBDIVIDE_trainimages:\n",
    "    #TRAIN: Original training images for cutting\n",
    "    path_images=path.trainimages\n",
    "    path_masks=path.trainmasks\n",
    "    path_sub_images=path.sub_trainimages\n",
    "    path_sub_masks =path.sub_trainmasks\n",
    "else:    \n",
    "    # TEST: Original test images for cutting\n",
    "    path_images=path.testimages\n",
    "    path_masks=path.testmasks\n",
    "    path_sub_images=path.sub_testimages\n",
    "    path_sub_masks =path.sub_testmasks\n",
    "# input and target files\n",
    "image_filenames  = path.get_filenames(path_images ,dateifilter= '*.png')\n",
    "mask_filenames   = path.get_filenames(path_masks, dateifilter= '*.png')"
   ]
  },
  {
   "cell_type": "code",
   "execution_count": null,
   "id": "d1afe70f",
   "metadata": {
    "colab": {
     "base_uri": "https://localhost:8080/"
    },
    "executionInfo": {
     "elapsed": 30,
     "status": "ok",
     "timestamp": 1635329972328,
     "user": {
      "displayName": "jon jon",
      "photoUrl": "https://lh3.googleusercontent.com/a/default-user=s64",
      "userId": "11545148206954630185"
     },
     "user_tz": -120
    },
    "id": "d1afe70f",
    "outputId": "a702ee50-9ed1-4105-9e6b-891c001640f9"
   },
   "outputs": [],
   "source": [
    "\n",
    "print('Projektpfad:  ', path.project)\n",
    "print('Datensetpfad: ', path.dataset)\n",
    "print('Number of image-mask pairs: ',len(image_filenames),' : ', len(mask_filenames))\n",
    "if VERBOSE:\n",
    "    for idx in range(len(image_filenames)):\n",
    "        print(idx, ' | ', os.path.basename(image_filenames[idx]),'\\t-> ', os.path.basename(mask_filenames[idx]))"
   ]
  },
  {
   "cell_type": "markdown",
   "id": "88890da3",
   "metadata": {
    "id": "88890da3"
   },
   "source": [
    "## 2. Cut"
   ]
  },
  {
   "cell_type": "code",
   "execution_count": null,
   "id": "f8e694e4",
   "metadata": {
    "colab": {
     "base_uri": "https://localhost:8080/"
    },
    "executionInfo": {
     "elapsed": 26,
     "status": "ok",
     "timestamp": 1635329972329,
     "user": {
      "displayName": "jon jon",
      "photoUrl": "https://lh3.googleusercontent.com/a/default-user=s64",
      "userId": "11545148206954630185"
     },
     "user_tz": -120
    },
    "id": "f8e694e4",
    "outputId": "781f6dc3-2db1-4c6c-eb32-f5db06abc39a"
   },
   "outputs": [],
   "source": [
    "\n",
    "\n",
    "img=IMG()\n",
    "# Instance of the class for cutting up the large images\n",
    "subPicture=SUBPICTURE(image_filenames, mask_filenames,\\\n",
    "                      path_sub_images,path_sub_masks,\\\n",
    "                      (img.h_sub, img.w_sub), \\\n",
    "                      instanzen=2, verbose=True) "
   ]
  },
  {
   "cell_type": "code",
   "execution_count": null,
   "id": "qoFoNgHbHl9c",
   "metadata": {
    "colab": {
     "base_uri": "https://localhost:8080/"
    },
    "executionInfo": {
     "elapsed": 21,
     "status": "ok",
     "timestamp": 1635329972330,
     "user": {
      "displayName": "jon jon",
      "photoUrl": "https://lh3.googleusercontent.com/a/default-user=s64",
      "userId": "11545148206954630185"
     },
     "user_tz": -120
    },
    "id": "qoFoNgHbHl9c",
    "outputId": "6435b635-519c-4343-8ca5-a9a5d9b41f58"
   },
   "outputs": [],
   "source": [
    "if VERBOSE:                     \n",
    "  print(f'\\n{path_sub_images}\\n{path_sub_masks}\\n{img.h_sub}x{img.w_sub}')"
   ]
  },
  {
   "cell_type": "code",
   "execution_count": null,
   "id": "633ed067",
   "metadata": {
    "colab": {
     "base_uri": "https://localhost:8080/",
     "height": 1000
    },
    "executionInfo": {
     "elapsed": 8387,
     "status": "ok",
     "timestamp": 1635329980701,
     "user": {
      "displayName": "jon jon",
      "photoUrl": "https://lh3.googleusercontent.com/a/default-user=s64",
      "userId": "11545148206954630185"
     },
     "user_tz": -120
    },
    "id": "633ed067",
    "outputId": "bc45b1ad-6bc8-4dcb-b83b-a3010c04c68c",
    "scrolled": true
   },
   "outputs": [],
   "source": [
    "# Divides and shows a sample\n",
    "idx=20\n",
    "subPicture.onepair(idx)"
   ]
  },
  {
   "cell_type": "code",
   "execution_count": null,
   "id": "dbb60eab",
   "metadata": {
    "colab": {
     "base_uri": "https://localhost:8080/",
     "height": 1000
    },
    "id": "dbb60eab",
    "outputId": "f0ccb3a0-fb7b-4898-d1a9-ba350d53c0b5"
   },
   "outputs": [],
   "source": [
    "# Disassembles the complete data set for training or testing\n",
    "subPicture.allpairs()"
   ]
  },
  {
   "cell_type": "code",
   "execution_count": null,
   "id": "3a592074",
   "metadata": {
    "id": "3a592074"
   },
   "outputs": [],
   "source": [
    "print('END')"
   ]
  },
  {
   "cell_type": "code",
   "execution_count": null,
   "id": "95b8232d",
   "metadata": {
    "id": "95b8232d"
   },
   "outputs": [],
   "source": []
  }
 ],
 "metadata": {
  "colab": {
   "collapsed_sections": [],
   "machine_shape": "hm",
   "name": "P5-02_unterteilen.ipynb",
   "provenance": []
  },
  "kernelspec": {
   "display_name": "Python 3",
   "language": "python",
   "name": "python3"
  },
  "language_info": {
   "codemirror_mode": {
    "name": "ipython",
    "version": 3
   },
   "file_extension": ".py",
   "mimetype": "text/x-python",
   "name": "python",
   "nbconvert_exporter": "python",
   "pygments_lexer": "ipython3",
   "version": "3.8.8"
  }
 },
 "nbformat": 4,
 "nbformat_minor": 5
}

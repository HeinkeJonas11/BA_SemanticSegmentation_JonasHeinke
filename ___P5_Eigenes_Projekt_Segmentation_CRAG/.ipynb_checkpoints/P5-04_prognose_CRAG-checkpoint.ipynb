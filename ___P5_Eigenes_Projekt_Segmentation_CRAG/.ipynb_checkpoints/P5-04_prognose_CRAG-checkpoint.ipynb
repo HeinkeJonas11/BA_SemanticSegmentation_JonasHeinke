{
 "cells": [
  {
   "cell_type": "markdown",
   "metadata": {
    "id": "0jPDJuNM132G"
   },
   "source": [
    "# P5-04: Prediction and post-processing of the masks\n",
    "Post-processing with two versions:\n",
    "- Contour code, standard library\n",
    "- Chain code in python"
   ]
  },
  {
   "cell_type": "markdown",
   "metadata": {
    "id": "HSCSdJbl2q64"
   },
   "source": [
    "## Libraries, modules"
   ]
  },
  {
   "cell_type": "code",
   "execution_count": null,
   "metadata": {
    "id": "IzdknRB4132H"
   },
   "outputs": [],
   "source": [
    "# Imports\n",
    "import numpy as np\n",
    "import torch\n",
    "from skimage.io import imread\n",
    "from skimage.transform import resize\n",
    "import os\n",
    "from PIL import Image\n",
    "import pickle # to save\n",
    "from scipy import ndimage\n",
    "# PL - Pinckaers, Litjens\n",
    "from  MODULE.PL.metrics import ObjectDice, ObjectHausdorff, F1score\n",
    "# JS -Schmidt\n",
    "from MODULE.JS.unet import UNet\n",
    "# JH - Jonas Heinke\n",
    "# Configuration data\n",
    "from configuration_CRAG import Path   as PATH     # Paths and filenames\n",
    "from configuration_CRAG import Inputs as INPUT       # Image parameters\n",
    "from configuration_CRAG import CfgModel as CFG_MODEL # Model parameters\n",
    "from configuration_CRAG import Postprocess as POST    # post processing\n",
    "from configuration_CRAG import EXPERIMENT      # Name of the experiment\n",
    "# Image operations, chain code, converting\n",
    "import MODULE.JH.image_processing as IP\n",
    "# Transformations\n",
    "from MODULE.JH.img_array_transform import ArrayTransform as TRANSFORM\n",
    "# Prediction with adjustments\n",
    "from MODULE.JH.prediction import Prediction as PREDICTION\n",
    "# View image mask sets\n",
    "from MODULE.JH.visualize import Show as SHOW\n"
   ]
  },
  {
   "cell_type": "code",
   "execution_count": null,
   "metadata": {
    "colab": {
     "base_uri": "https://localhost:8080/"
    },
    "executionInfo": {
     "elapsed": 13,
     "status": "ok",
     "timestamp": 1635343545207,
     "user": {
      "displayName": "jon jon",
      "photoUrl": "https://lh3.googleusercontent.com/a/default-user=s64",
      "userId": "11545148206954630185"
     },
     "user_tz": -120
    },
    "id": "OStwiZsX132I",
    "outputId": "7da44fa4-d72c-458b-9c70-003d887a79d8"
   },
   "outputs": [],
   "source": [
    "# for control\n",
    "VERBOSE=True\n",
    "# Experiment\n",
    "print(EXPERIMENT)"
   ]
  },
  {
   "cell_type": "markdown",
   "metadata": {
    "id": "YQ2WvkSN132J"
   },
   "source": [
    "## 1. List of file paths of the test data"
   ]
  },
  {
   "cell_type": "code",
   "execution_count": null,
   "metadata": {
    "id": "OyYfgT-c132J"
   },
   "outputs": [],
   "source": [
    "path=PATH() # Instance of the class required for method call.\n",
    "# Source paths of the test images and test masks.\n",
    "# HIER ANPASSEN FÜR DATENSET !!!\n",
    "path_images=path.testimages\n",
    "path_masks=path.testmasks\n",
    "if INPUT.divide:\n",
    "  path_images = path.sub_testimages\n",
    "  path_masks = path.sub_testmasks\n",
    "\n",
    "# Source path of the trained model.\n",
    "path_model_experiment=path.model / EXPERIMENT\n",
    "# Destination path for results of the experiment\n",
    "path_result_experiment   = path.results  / EXPERIMENT\n",
    "if not os.path.exists(path_result_experiment):\n",
    "    os.mkdir(path_result_experiment)\n",
    "# input and masks files\n",
    "image_filenames  = path.get_filenames(path_images, dateifilter= '*.png', sort=True)\n",
    "mask_filenames   = path.get_filenames(path_masks,  dateifilter= '*.png', sort=True)"
   ]
  },
  {
   "cell_type": "code",
   "execution_count": null,
   "metadata": {
    "colab": {
     "base_uri": "https://localhost:8080/"
    },
    "executionInfo": {
     "elapsed": 17,
     "status": "ok",
     "timestamp": 1635343547000,
     "user": {
      "displayName": "jon jon",
      "photoUrl": "https://lh3.googleusercontent.com/a/default-user=s64",
      "userId": "11545148206954630185"
     },
     "user_tz": -120
    },
    "id": "RoNbj4nc132J",
    "outputId": "c577347d-155f-4aae-8825-478f390c396b"
   },
   "outputs": [],
   "source": [
    "print('Number of image-mask pairs (samples) for prediction: ',len(image_filenames),' : ', len(mask_filenames))\n",
    "if VERBOSE:\n",
    "    for idx in range(len(image_filenames)):\n",
    "        print(idx, ' | ', os.path.basename(image_filenames[idx]),'\\t-> ', os.path.basename(mask_filenames[idx]))"
   ]
  },
  {
   "cell_type": "markdown",
   "metadata": {
    "id": "ipniRVQS132J"
   },
   "source": [
    "## 2. Read in images and masks\n",
    "- The size of the test images and test masks correspond to the training. Scaling is done accordingly."
   ]
  },
  {
   "cell_type": "code",
   "execution_count": null,
   "metadata": {
    "id": "RKWIXBpm132K"
   },
   "outputs": [],
   "source": [
    "# read images and store them in memory.\n",
    "images = [imread(img_name) for img_name in image_filenames]\n",
    "actual_masks = [imread(mask_name) for mask_name in mask_filenames]\n",
    "# Resize images and targets.\n",
    "images_res = [resize(img, (INPUT.h_res, INPUT.w_res, INPUT.c_res)) for img in images]\n",
    "resize_kwargs = {'order': 0, 'anti_aliasing': False, 'preserve_range': True}\n",
    "actual_masks_res = [resize(mask, (INPUT.h_res, INPUT.w_res), **resize_kwargs) for mask in actual_masks]\n",
    "# Namber of samples\n",
    "sample_anzahl=len(images)\n",
    "#Test# sample_anzahl=3"
   ]
  },
  {
   "cell_type": "markdown",
   "metadata": {
    "id": "I5br6ALN132K"
   },
   "source": [
    "## 3. Set up the model und\n",
    "## 4. Trainiertes Modell laden\n",
    "Prediction parameters must correspond to the training parameters. Common configuration supports this process.\n"
   ]
  },
  {
   "cell_type": "code",
   "execution_count": null,
   "metadata": {
    "colab": {
     "base_uri": "https://localhost:8080/"
    },
    "executionInfo": {
     "elapsed": 12231,
     "status": "ok",
     "timestamp": 1635343619349,
     "user": {
      "displayName": "jon jon",
      "photoUrl": "https://lh3.googleusercontent.com/a/default-user=s64",
      "userId": "11545148206954630185"
     },
     "user_tz": -120
    },
    "id": "Rb3H90WH132K",
    "outputId": "a8423034-97b2-4994-e4fd-5a210409ecb2"
   },
   "outputs": [],
   "source": [
    "# Determination of the available device (CPU, GPU).\n",
    "device = torch.device(\"cuda\" if torch.cuda.is_available() else \"cpu\")\n",
    "# model\n",
    "model = UNet(in_channels=INPUT.c_res,\n",
    "             out_channels= CFG_MODEL.c_out,\n",
    "             n_blocks=CFG_MODEL.n_blocks,\n",
    "             start_filters=CFG_MODEL.ft,\n",
    "             activation='relu',\n",
    "             normalization='batch',\n",
    "             conv_mode='same',\n",
    "             dim=2).to(device)\n",
    "\n",
    "model_weights = torch.load(path_model_experiment/ 'model')\n",
    "model.load_state_dict(model_weights)"
   ]
  },
  {
   "cell_type": "markdown",
   "metadata": {
    "id": "pQRjZ0BBRTGD"
   },
   "source": [
    "## 5. Prognose"
   ]
  },
  {
   "cell_type": "code",
   "execution_count": null,
   "metadata": {
    "colab": {
     "base_uri": "https://localhost:8080/"
    },
    "executionInfo": {
     "elapsed": 2721,
     "status": "ok",
     "timestamp": 1635343622035,
     "user": {
      "displayName": "jon jon",
      "photoUrl": "https://lh3.googleusercontent.com/a/default-user=s64",
      "userId": "11545148206954630185"
     },
     "user_tz": -120
    },
    "id": "1q0E8hFD132L",
    "outputId": "e802189a-c5aa-45d1-e219-259e1394cbd1",
    "pycharm": {
     "name": "#%%\n"
    }
   },
   "outputs": [],
   "source": [
    "# Prediction of the segmentation mask\n",
    "prediction=PREDICTION(model, device, True)\n",
    "predict_masks = [prediction.mask(img) for img in images_res]"
   ]
  },
  {
   "cell_type": "markdown",
   "metadata": {
    "id": "98Lavsqa132L"
   },
   "source": [
    "### Evaluation\n",
    "- Here just for checking purposes, see project \"P5-05 result visualization\""
   ]
  },
  {
   "cell_type": "code",
   "execution_count": null,
   "metadata": {
    "colab": {
     "base_uri": "https://localhost:8080/"
    },
    "executionInfo": {
     "elapsed": 143929,
     "status": "ok",
     "timestamp": 1635343765930,
     "user": {
      "displayName": "jon jon",
      "photoUrl": "https://lh3.googleusercontent.com/a/default-user=s64",
      "userId": "11545148206954630185"
     },
     "user_tz": -120
    },
    "id": "Qp2jXvOF132L",
    "outputId": "3e28a81d-d56a-406c-df14-aee66fbcff23"
   },
   "outputs": [],
   "source": [
    "transform=TRANSFORM()\n",
    "dice, hausdorff, f1, dice_full = 0, 0, 0, 0\n",
    "i_error=0\n",
    "anzahl=0\n",
    "# Table header\n",
    "print_string=(f' idx | dice-idx  | f1-score  | weighted shape | actual masks       | predict masks')\n",
    "print(print_string)\n",
    "for idx in range(sample_anzahl):\n",
    "    try:\n",
    "        predict_mask_two= transform.twoClasses(predict_masks[idx])\n",
    "        actual_masks_two= transform.twoClasses(actual_masks_res[idx])\n",
    "        dice_img = ObjectDice(predict_mask_two,        actual_masks_two)\n",
    "        f1_img = F1score(predict_mask_two,              actual_masks_two)\n",
    "        hausdorff_img = ObjectHausdorff(predict_mask_two,  actual_masks_two)\n",
    "        dice += dice_img\n",
    "        f1 += f1_img\n",
    "        hausdorff += hausdorff_img\n",
    "        print_string=(f' {idx:3d} | {dice_img:9.3f} | {f1_img:9.3f} | {hausdorff_img:13.3f} | {os.path.basename(mask_filenames[idx])} | predict_masks[{idx+1:-02d}])')\n",
    "        print(print_string)\n",
    "        anzahl +=1\n",
    "    except:\n",
    "        i_error +=1\n",
    "        print('Error: ',i_error, 'Cycle: ', idx)"
   ]
  },
  {
   "cell_type": "code",
   "execution_count": null,
   "metadata": {
    "colab": {
     "base_uri": "https://localhost:8080/"
    },
    "executionInfo": {
     "elapsed": 17,
     "status": "ok",
     "timestamp": 1635343765932,
     "user": {
      "displayName": "jon jon",
      "photoUrl": "https://lh3.googleusercontent.com/a/default-user=s64",
      "userId": "11545148206954630185"
     },
     "user_tz": -120
    },
    "id": "_zuOdMsS132M",
    "outputId": "2df3b458-b68f-4e82-cde8-b3de5665f06b"
   },
   "outputs": [],
   "source": [
    "print('-- Mean values ------------------------------------')\n",
    "print('ObjectDice:', dice / anzahl )\n",
    "print('F1:', f1 / anzahl )\n",
    "print('Weighted shape:', hausdorff / anzahl) # weighted shape = hausdorff\n",
    "print('Number io.: ', anzahl)\n",
    "print('Errors: ', i_error)"
   ]
  },
  {
   "cell_type": "markdown",
   "metadata": {
    "id": "KWwh46HD132M"
   },
   "source": [
    "## 6. Post-processing of the predicted masks (-> object masks) and code to outline the predicted glands and their identification\n",
    "Two alternative variants\n",
    "- Remove small objects\n",
    "- Separate objects as far as possible (binary intensity morphology)\n",
    "- Outline\n",
    "- Set IDs\n",
    "\n",
    "Binary intensity morphology with module: scipy.ndimage\n",
    "- Separating objects.\n",
    "- Can only differentiate between two states (background and object).\n",
    "- But can emphasize a very specific object and separate it from one another.\n",
    "Konur code with module: skimage.measure\n",
    "- Can outline objects and assign object-specific IDs\n",
    "- Empty areas of the objects can be filled"
   ]
  },
  {
   "cell_type": "code",
   "execution_count": null,
   "metadata": {
    "id": "19XvUp21132M"
   },
   "outputs": [],
   "source": [
    "# Lists\n",
    "contour_codes_list=[]\n",
    "# object_filled_list=[]\n",
    "predict_masks_morph_list=[]\n",
    "object_array_list=[]"
   ]
  },
  {
   "cell_type": "code",
   "execution_count": null,
   "metadata": {
    "id": "ShBZlKpv132M"
   },
   "outputs": [],
   "source": [
    "# VARIANT 2 - contour code (library / module: skimage.measure)\n",
    "# Identification of the objects, variant 2\n",
    "if POST.ident=='measure':\n",
    "    # Fill holes\n",
    "    idObjects= IP.ObjectIDsOfArray()\n",
    "    for idx in range(sample_anzahl):\n",
    "        mask_morph=idObjects.fill_objects(predict_masks[idx], POST.opening_structure)\n",
    "        contur_codes, object_array=idObjects.getObjects(mask_morph)\n",
    "        predict_masks_morph_list.append(mask_morph)\n",
    "        object_array_list.append(object_array)\n",
    "        contour_codes_list.append(contur_codes) \n"
   ]
  },
  {
   "cell_type": "code",
   "execution_count": null,
   "metadata": {
    "id": "yIrdsVx2132M"
   },
   "outputs": [],
   "source": [
    "convert=IP.Convert() # Instance to convert\n",
    "# VARIANT 1: CHAINCODE (Python)\n",
    "if POST.ident=='chain':\n",
    "    for idx in range(sample_anzahl):\n",
    "        mask_morph=ndimage.binary_opening(predict_masks[idx], structure=np.ones(POST.opening_structure)).astype(int)\n",
    "        # -> Returns: 0 = no object or 1 = object\n",
    "        print('\\n--- Mask idx: ', idx)\n",
    "        idObject= IP.IdentifyObject(mask_morph, False) # Klasseninstanz MODUL\n",
    "        # class-id - areas with this id are processed\n",
    "        # id_ - The elements of the area receive this id\n",
    "        chaincodes, object_array, fill_array=idObject.chaincode(class_id=1, id_=1)       # Klassenmethode\n",
    "        # Converts chain code to contour array\n",
    "        contour_codes=convert.chains_to_contourcodes_2(chaincodes)\n",
    "        predict_masks_morph_list.append(mask_morph)\n",
    "        contour_codes_list.append(contour_codes)\n",
    "        object_array_list.append(object_array) "
   ]
  },
  {
   "cell_type": "markdown",
   "metadata": {
    "id": "TaOrXYcS132N"
   },
   "source": [
    "## Save object arrays and contour codes"
   ]
  },
  {
   "cell_type": "code",
   "execution_count": null,
   "metadata": {
    "colab": {
     "base_uri": "https://localhost:8080/"
    },
    "executionInfo": {
     "elapsed": 5,
     "status": "ok",
     "timestamp": 1635343771170,
     "user": {
      "displayName": "jon jon",
      "photoUrl": "https://lh3.googleusercontent.com/a/default-user=s64",
      "userId": "11545148206954630185"
     },
     "user_tz": -120
    },
    "id": "yWSjzZJY132N",
    "outputId": "badf874b-094b-46c5-cbe1-d0497d0bb59f"
   },
   "outputs": [],
   "source": [
    "# Control dimensions\n",
    "if VERBOSE:\n",
    "    print('Input images:   ', images_res[0].shape)\n",
    "    print('Actual masks:  ',  actual_masks_res[0].shape)\n",
    "    print('Prediction masks: ', predict_masks[0].shape)\n",
    "    print('Path of model: ', path_model_experiment)\n",
    "    print('Path of result: ', path_result_experiment)\n",
    "# Prepare directories for saving the images.\n",
    "path_inputImages = path_result_experiment / 'images'    # Scaled images\n",
    "path_actualMasks= path_result_experiment / 'actualMasks'        # Actual masks\n",
    "path_predictMasks= path_result_experiment / 'predictMasks'      # Predicted masks\n",
    "path_predictMasksMorph= path_result_experiment / 'predictMasksMorph' # with opening (morph)\n",
    "path_predictObjects= path_result_experiment / 'predictObjects'  # with indexed glands (objects)\n",
    "path_predictContourCodes = path_result_experiment / 'predictContourCodes' # Contours of the glands\n",
    "# New subdirectories\n",
    "os.chdir(path_result_experiment)\n",
    "os.mkdir(path_inputImages)\n",
    "os.mkdir(path_actualMasks)\n",
    "os.mkdir(path_predictMasks)\n",
    "os.mkdir(path_predictMasksMorph)\n",
    "os.mkdir(path_predictObjects)\n",
    "os.mkdir(path_predictContourCodes)"
   ]
  },
  {
   "cell_type": "code",
   "execution_count": null,
   "metadata": {
    "id": "njGNkuVc132N"
   },
   "outputs": [],
   "source": [
    "show=SHOW(figsize=(15,25))"
   ]
  },
  {
   "cell_type": "code",
   "execution_count": null,
   "metadata": {
    "colab": {
     "base_uri": "https://localhost:8080/",
     "height": 1000
    },
    "executionInfo": {
     "elapsed": 5629,
     "status": "ok",
     "timestamp": 1635343776796,
     "user": {
      "displayName": "jon jon",
      "photoUrl": "https://lh3.googleusercontent.com/a/default-user=s64",
      "userId": "11545148206954630185"
     },
     "user_tz": -120
    },
    "id": "qmiTdsDX132N",
    "outputId": "0ed4a0b4-d5e8-4a38-d312-5841e1828776",
    "scrolled": true
   },
   "outputs": [],
   "source": [
    "idx_list=list([25,29,11])\n",
    "#idx_list=list([10,11,12,13])\n",
    "idx_list=list([0,1,2])\n",
    "listset=list([images,  actual_masks,         predict_masks, predict_masks_morph_list,  object_array_list])\n",
    "titles=list(['Image', 'Aktual mask', 'Predicted mask', 'with morphology',    'IDs - identify'])\n",
    "path_set= path_result_experiment  / f'images_masks_listset_(P5-04)_{str(idx_list)}.png'\n",
    "show.list_set(idx_list, listset, titles, path=path_set)"
   ]
  },
  {
   "cell_type": "markdown",
   "metadata": {
    "id": "JRXAMnch132N"
   },
   "source": [
    "## Save the results"
   ]
  },
  {
   "cell_type": "code",
   "execution_count": null,
   "metadata": {
    "colab": {
     "base_uri": "https://localhost:8080/"
    },
    "executionInfo": {
     "elapsed": 8170,
     "status": "ok",
     "timestamp": 1635343784954,
     "user": {
      "displayName": "jon jon",
      "photoUrl": "https://lh3.googleusercontent.com/a/default-user=s64",
      "userId": "11545148206954630185"
     },
     "user_tz": -120
    },
    "id": "gncl-MYT132N",
    "outputId": "8ad0bb0e-f8e3-47d7-c368-f52f98e5ed66"
   },
   "outputs": [],
   "source": [
    "# Save images, masks and predicted masks of the test images.\n",
    "for idx in range(sample_anzahl):\n",
    "    print('idx:', idx, end=', ')\n",
    "    # All files have the same file name, but are saved in different directories.\n",
    "    file_name=f'result_test_{idx:02d}.png'\n",
    "    # Convert from ndarray to * .png\n",
    "    input_image         = Image.fromarray((images_res[idx]*255).astype(np.uint8))\n",
    "    actual_mask_img     = Image.fromarray((actual_masks_res[idx]).astype(np.uint8))\n",
    "    predict_mask_img    = Image.fromarray((predict_masks[idx]).astype(np.uint8))\n",
    "    predict_masks_morph_img = Image.fromarray((predict_masks_morph_list[idx]).astype(np.uint8))\n",
    "    object_image        = Image.fromarray((object_array_list[idx]).astype(np.uint8))\n",
    "    # Saving the images including intermediate results\n",
    "    input_image.save(path_inputImages / file_name)\n",
    "    actual_mask_img.save(path_actualMasks / file_name)\n",
    "    predict_mask_img.save(path_predictMasks / file_name)\n",
    "    predict_masks_morph_img.save(path_predictMasksMorph / file_name)\n",
    "    object_image.save(path_predictObjects / file_name)\n",
    "    # Chain code \n",
    "    file_name=f'result_test_{idx:02d}.pkl'\n",
    "    file_codes=open(path_predictContourCodes / file_name, 'wb')\n",
    "    pickle.dump(contour_codes_list[idx], file_codes)\n",
    "    file_codes.close()"
   ]
  },
  {
   "cell_type": "code",
   "execution_count": null,
   "metadata": {
    "colab": {
     "base_uri": "https://localhost:8080/"
    },
    "executionInfo": {
     "elapsed": 11,
     "status": "ok",
     "timestamp": 1635343784954,
     "user": {
      "displayName": "jon jon",
      "photoUrl": "https://lh3.googleusercontent.com/a/default-user=s64",
      "userId": "11545148206954630185"
     },
     "user_tz": -120
    },
    "id": "h4-MsFbq132O",
    "outputId": "a756c92a-ec0b-4b52-f911-521403bbf2ef"
   },
   "outputs": [],
   "source": [
    "print('end of prediction')"
   ]
  }
 ],
 "metadata": {
  "accelerator": "GPU",
  "colab": {
   "collapsed_sections": [
    "I5br6ALN132K"
   ],
   "name": "P5-04_prognose_CRAG.ipynb",
   "provenance": []
  },
  "interpreter": {
   "hash": "262feefacaf13861d5d2a2790cf41d9475d21ba620dc67373bfc25ee73deb0c1"
  },
  "kernelspec": {
   "display_name": "Python 3",
   "language": "python",
   "name": "python3"
  },
  "language_info": {
   "codemirror_mode": {
    "name": "ipython",
    "version": 3
   },
   "file_extension": ".py",
   "mimetype": "text/x-python",
   "name": "python",
   "nbconvert_exporter": "python",
   "pygments_lexer": "ipython3",
   "version": "3.8.8"
  }
 },
 "nbformat": 4,
 "nbformat_minor": 1
}

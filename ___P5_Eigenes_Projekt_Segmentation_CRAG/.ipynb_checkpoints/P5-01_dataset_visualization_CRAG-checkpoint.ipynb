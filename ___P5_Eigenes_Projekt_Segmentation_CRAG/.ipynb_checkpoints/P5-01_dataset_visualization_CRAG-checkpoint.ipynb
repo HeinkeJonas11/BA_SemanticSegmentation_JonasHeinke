{
 "cells": [
  {
   "cell_type": "markdown",
   "id": "593ee009",
   "metadata": {
    "id": "593ee009"
   },
   "source": [
    "# 5-01 Analysis of the data set\n",
    "\n",
    "The aim is to determine the maximum number of objects with different identifications within the data set.\n",
    "\n",
    "The annotations are masks that are used for semantic segmentation. It is the targets that are needed to train a neural network. These masks mark objects in relation to an original image. To differentiate between the objects, each mask object has an object-specific identification number (class number) with consecutive numbering starting with 1. The background itself is given the number 0.\n",
    "\n",
    "The object classification by means of a neural network (semantic instance segmentation) requires the number of maximum output channels as a parameter. The mask objects provide information about this.\n",
    "\n",
    "In this project section, the mask images are analyzed in order to determine the maximum number of possible object types."
   ]
  },
  {
   "cell_type": "markdown",
   "id": "538e863b",
   "metadata": {
    "id": "538e863b"
   },
   "source": [
    "## Libraries, modules, classes"
   ]
  },
  {
   "cell_type": "code",
   "execution_count": null,
   "id": "d0c4ba0d",
   "metadata": {
    "id": "d0c4ba0d"
   },
   "outputs": [],
   "source": [
    "import numpy as np\n",
    "import os\n",
    "from skimage.io import imread\n",
    "# JH - Jonas Heinke\n",
    "from configuration_CRAG import Path   as PATH # Paths and filenames\n",
    "from MODULE.JH.visualize import Show as SHOW"
   ]
  },
  {
   "cell_type": "markdown",
   "id": "a83078a9",
   "metadata": {
    "id": "a83078a9"
   },
   "source": [
    "## Constants"
   ]
  },
  {
   "cell_type": "code",
   "execution_count": null,
   "id": "2860ad55",
   "metadata": {
    "id": "2860ad55"
   },
   "outputs": [],
   "source": [
    "# for display only\n",
    "VERBOSE=True"
   ]
  },
  {
   "cell_type": "markdown",
   "id": "5d4872ca",
   "metadata": {
    "id": "5d4872ca"
   },
   "source": [
    "**Text fett markieren**## 1. Generate file names as a list\n",
    "A path for the images and a path for the associated masks are selected."
   ]
  },
  {
   "cell_type": "code",
   "execution_count": null,
   "id": "1c20540c",
   "metadata": {
    "id": "1c20540c"
   },
   "outputs": [],
   "source": [
    "path=PATH() # Instance of the class required for method call\n",
    "path_images=[path.trainimages, path.testimages]\n",
    "path_masks= [path.trainmasks, path.testmasks]\n",
    "dataset=0\n",
    "# input and target files\n",
    "image_filenames  = path.get_filenames(path_images[dataset] ,dateifilter= '*.png', sort=True)\n",
    "mask_filenames = path.get_filenames(path_masks[dataset], dateifilter= '*.png', sort=True)"
   ]
  },
  {
   "cell_type": "code",
   "execution_count": null,
   "id": "7234346c",
   "metadata": {
    "colab": {
     "base_uri": "https://localhost:8080/"
    },
    "executionInfo": {
     "elapsed": 10,
     "status": "ok",
     "timestamp": 1635325224221,
     "user": {
      "displayName": "jon jon",
      "photoUrl": "https://lh3.googleusercontent.com/a/default-user=s64",
      "userId": "11545148206954630185"
     },
     "user_tz": -120
    },
    "id": "7234346c",
    "outputId": "7d388274-4785-4a9d-8752-e72d2c8326e7"
   },
   "outputs": [],
   "source": [
    "print('Number of image-mask pairs:: ',len(image_filenames),' : ', len(mask_filenames))\n",
    "if VERBOSE:\n",
    "    for idx in range(len(image_filenames)):\n",
    "        print(idx, ' | ', os.path.basename(image_filenames[idx]),'\\t-> ', os.path.basename(mask_filenames[idx]))"
   ]
  },
  {
   "cell_type": "markdown",
   "id": "576e4a4a",
   "metadata": {
    "id": "576e4a4a"
   },
   "source": [
    "##  2. Loading the images and the associated masks from the directories"
   ]
  },
  {
   "cell_type": "code",
   "execution_count": null,
   "id": "f7d0f895",
   "metadata": {
    "id": "f7d0f895"
   },
   "outputs": [],
   "source": [
    "# read images and store them in memory\n",
    "images = [imread(img_name) for img_name in image_filenames]\n",
    "masks = [imread(mask_name) for mask_name in mask_filenames]"
   ]
  },
  {
   "cell_type": "code",
   "execution_count": null,
   "id": "05683efe",
   "metadata": {
    "colab": {
     "base_uri": "https://localhost:8080/"
    },
    "executionInfo": {
     "elapsed": 13,
     "status": "ok",
     "timestamp": 1635325456562,
     "user": {
      "displayName": "jon jon",
      "photoUrl": "https://lh3.googleusercontent.com/a/default-user=s64",
      "userId": "11545148206954630185"
     },
     "user_tz": -120
    },
    "id": "05683efe",
    "outputId": "169ac3c2-3dd0-4a12-ae76-bceb4561b808"
   },
   "outputs": [],
   "source": [
    "if VERBOSE:    \n",
    "    print('path_images: ', path_images)\n",
    "    print('path_masks : ', path_masks)\n",
    "    print('Anzahl der Bilder: inputs {}, targets {} '.format(len(images), len(masks)))\n",
    "    print('Shape of origin: inputs {}, targets {} '.format(images[0].shape, masks[0].shape))"
   ]
  },
  {
   "cell_type": "markdown",
   "id": "0e12c043",
   "metadata": {
    "id": "0e12c043"
   },
   "source": [
    "## 3. Determination of the number of objects in a mask"
   ]
  },
  {
   "cell_type": "code",
   "execution_count": null,
   "id": "488ab886",
   "metadata": {
    "colab": {
     "base_uri": "https://localhost:8080/"
    },
    "executionInfo": {
     "elapsed": 468,
     "status": "ok",
     "timestamp": 1635325457022,
     "user": {
      "displayName": "jon jon",
      "photoUrl": "https://lh3.googleusercontent.com/a/default-user=s64",
      "userId": "11545148206954630185"
     },
     "user_tz": -120
    },
    "id": "488ab886",
    "outputId": "15bd64eb-e623-4594-90b1-75df1f6c7ee7"
   },
   "outputs": [],
   "source": [
    "max_class_of_all=0\n",
    "id\n",
    "max_idx=[]\n",
    "for i in range(len(masks)):\n",
    "    max_idx.append(masks[i].max())\n",
    "if VERBOSE:\n",
    "    print([f'{max_idx[i]}[{i}]' for i in range(len(max_idx))])"
   ]
  },
  {
   "cell_type": "code",
   "execution_count": null,
   "id": "ccfffb9d",
   "metadata": {
    "colab": {
     "base_uri": "https://localhost:8080/"
    },
    "executionInfo": {
     "elapsed": 4,
     "status": "ok",
     "timestamp": 1635325457023,
     "user": {
      "displayName": "jon jon",
      "photoUrl": "https://lh3.googleusercontent.com/a/default-user=s64",
      "userId": "11545148206954630185"
     },
     "user_tz": -120
    },
    "id": "ccfffb9d",
    "outputId": "9d56fd5c-c7a8-4101-8763-2f29e75e1ad3"
   },
   "outputs": [],
   "source": [
    "max_idx_all=max(max_idx)\n",
    "idx_of_max= np.argmax(max_idx)\n",
    "print('Maximum number of classes or number of object IDs:\\n Max= {}[idx={}]: '.\n",
    "      format(max_idx_all,idx_of_max ))    "
   ]
  },
  {
   "cell_type": "markdown",
   "id": "1d13f2ae",
   "metadata": {
    "id": "1d13f2ae"
   },
   "source": [
    "## 4. Visualization"
   ]
  },
  {
   "cell_type": "markdown",
   "id": "905d8587",
   "metadata": {
    "id": "905d8587"
   },
   "source": [
    "#### Histograms"
   ]
  },
  {
   "cell_type": "code",
   "execution_count": null,
   "id": "b3a6d3b4",
   "metadata": {
    "id": "b3a6d3b4"
   },
   "outputs": [],
   "source": [
    "#+ from MODULE.JH.visualize import Show as SHOW\n",
    "show=SHOW(experiment='', figsize=(60,70), fontsize=16)"
   ]
  },
  {
   "cell_type": "code",
   "execution_count": null,
   "id": "b74eb9c9",
   "metadata": {
    "colab": {
     "base_uri": "https://localhost:8080/",
     "height": 319
    },
    "executionInfo": {
     "elapsed": 294234,
     "status": "ok",
     "timestamp": 1635325751254,
     "user": {
      "displayName": "jon jon",
      "photoUrl": "https://lh3.googleusercontent.com/a/default-user=s64",
      "userId": "11545148206954630185"
     },
     "user_tz": -120
    },
    "id": "b74eb9c9",
    "outputId": "865646c8-c41f-4746-d266-aebf295a0e06"
   },
   "outputs": [],
   "source": [
    "#histogramms=[]\n",
    "histogramm=[show.histogramm(mask,f'(5-1)_Sum_histogram__{dataset}',\\\n",
    "                            ordinate='Frequency, Häufigkeit H', relativ=False)\\\n",
    "            for mask in masks]"
   ]
  },
  {
   "cell_type": "code",
   "execution_count": null,
   "id": "d742d42f",
   "metadata": {
    "colab": {
     "base_uri": "https://localhost:8080/",
     "height": 319
    },
    "executionInfo": {
     "elapsed": 1771,
     "status": "ok",
     "timestamp": 1635325753020,
     "user": {
      "displayName": "jon jon",
      "photoUrl": "https://lh3.googleusercontent.com/a/default-user=s64",
      "userId": "11545148206954630185"
     },
     "user_tz": -120
    },
    "id": "d742d42f",
    "outputId": "ad462c72-d05f-48f9-bad0-f2c342a4b064"
   },
   "outputs": [],
   "source": [
    "histogramm=show.histogramm(masks[idx_of_max],f'(5-1)_histogram_{dataset}_({idx_of_max})',\\\n",
    "                            ordinate='Relative frequency, Häufigkeit h', relativ=True)"
   ]
  },
  {
   "cell_type": "markdown",
   "id": "4b874d66",
   "metadata": {
    "id": "4b874d66"
   },
   "source": [
    "#### Images and masks"
   ]
  },
  {
   "cell_type": "code",
   "execution_count": null,
   "id": "0350fd48",
   "metadata": {
    "colab": {
     "base_uri": "https://localhost:8080/",
     "height": 1000
    },
    "executionInfo": {
     "elapsed": 11660,
     "status": "ok",
     "timestamp": 1635325764675,
     "user": {
      "displayName": "jon jon",
      "photoUrl": "https://lh3.googleusercontent.com/a/default-user=s64",
      "userId": "11545148206954630185"
     },
     "user_tz": -120
    },
    "id": "0350fd48",
    "outputId": "654fa453-52c0-4ec4-d193-92319c9b4ab6"
   },
   "outputs": [],
   "source": [
    "show=SHOW(experiment='', figsize=(40,20), fontsize=40)\n",
    "idx_list=[14, 2, 165]\n",
    "path_set= f'(5-1)_images_masks_listset_{dataset}_{str(idx_list)}.png'\n",
    "listset=list([images, masks])\n",
    "titles=list(['Image', 'Actual mask'])\n",
    "show.list_set(idx_list, listset,titles, path=path_set)"
   ]
  },
  {
   "cell_type": "code",
   "execution_count": null,
   "id": "27efdd1c",
   "metadata": {
    "colab": {
     "base_uri": "https://localhost:8080/"
    },
    "executionInfo": {
     "elapsed": 13,
     "status": "ok",
     "timestamp": 1635325764676,
     "user": {
      "displayName": "jon jon",
      "photoUrl": "https://lh3.googleusercontent.com/a/default-user=s64",
      "userId": "11545148206954630185"
     },
     "user_tz": -120
    },
    "id": "27efdd1c",
    "outputId": "37e846f1-b9ba-4cfe-84d0-82b14486b072"
   },
   "outputs": [],
   "source": [
    "print('END')"
   ]
  },
  {
   "cell_type": "code",
   "execution_count": null,
   "id": "52884521",
   "metadata": {
    "id": "52884521"
   },
   "outputs": [],
   "source": []
  }
 ],
 "metadata": {
  "colab": {
   "collapsed_sections": [],
   "machine_shape": "hm",
   "name": "P5-01_dataset_visualization_CRAG.ipynb",
   "provenance": []
  },
  "kernelspec": {
   "display_name": "Python 3",
   "language": "python",
   "name": "python3"
  },
  "language_info": {
   "codemirror_mode": {
    "name": "ipython",
    "version": 3
   },
   "file_extension": ".py",
   "mimetype": "text/x-python",
   "name": "python",
   "nbconvert_exporter": "python",
   "pygments_lexer": "ipython3",
   "version": "3.8.8"
  }
 },
 "nbformat": 4,
 "nbformat_minor": 5
}

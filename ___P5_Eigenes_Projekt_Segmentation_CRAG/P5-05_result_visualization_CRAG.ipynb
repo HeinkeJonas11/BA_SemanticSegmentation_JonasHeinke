{
 "cells": [
  {
   "cell_type": "markdown",
   "metadata": {
    "id": "eUzPtzML7MQM"
   },
   "source": [
    "# P5-05: Results visualization - CRAG\n",
    "- Used to display the prediction results\n",
    "- Compares predicted masks with actual masks\n",
    "- Compares the predicted objects with the actual objects \n",
    "- Illustration of Images, Masks and Glands"
   ]
  },
  {
   "cell_type": "markdown",
   "metadata": {
    "id": "FyynMR-TYkRD"
   },
   "source": [
    "## Libraries, moduls"
   ]
  },
  {
   "cell_type": "code",
   "execution_count": null,
   "metadata": {
    "id": "leMScoyM7MQN"
   },
   "outputs": [],
   "source": [
    "# Imports\n",
    "import numpy as np\n",
    "from skimage.io import imread\n",
    "import os\n",
    "import matplotlib.pyplot as plt\n",
    "import pickle # zum Speichern\n",
    "import statistics # zur Auswertung\n",
    "import scipy.stats as stat #+\n",
    "# PL - Pinckaers, Litjens\n",
    "from  MODULE.PL.metrics import ObjectDice, ObjectHausdorff, F1score\n",
    "# JH - Jonas Heinke\n",
    "from configuration_CRAG import Path   as PATH   # Paths and filenames\n",
    "from configuration_CRAG import EXPERIMENT # Name / key of the experiment   \n",
    "from MODULE.JH.img_array_transform import ArrayTransform as TRANSFORM\n",
    "from MODULE.JH.visualize import Show as SHOW"
   ]
  },
  {
   "cell_type": "code",
   "execution_count": null,
   "metadata": {
    "colab": {
     "base_uri": "https://localhost:8080/"
    },
    "executionInfo": {
     "elapsed": 7,
     "status": "ok",
     "timestamp": 1635344791783,
     "user": {
      "displayName": "jon jon",
      "photoUrl": "https://lh3.googleusercontent.com/a/default-user=s64",
      "userId": "11545148206954630185"
     },
     "user_tz": -120
    },
    "id": "Zt9vmXg_7MQO",
    "outputId": "d53a0a08-31d9-44f9-e154-31cd506dffed"
   },
   "outputs": [],
   "source": [
    "# For control\n",
    "VERBOSE=True\n",
    "# Experiment\n",
    "print(EXPERIMENT)"
   ]
  },
  {
   "cell_type": "markdown",
   "metadata": {
    "id": "_4dvsHJC7MQO"
   },
   "source": [
    "## 1. List of file paths"
   ]
  },
  {
   "cell_type": "code",
   "execution_count": null,
   "metadata": {
    "id": "uZrP-DA97MQP"
   },
   "outputs": [],
   "source": [
    "path=PATH() # Instance of the class required for method call\n",
    "# Source paths\n",
    "path_experiment   = path.results  / EXPERIMENT   #  Results of the experiment\n",
    "path_inputImages       = path.results  / EXPERIMENT/ 'images'\n",
    "path_actualMasks  = path.results  / EXPERIMENT/ 'actualMasks'\n",
    "path_predictMasks = path.results  / EXPERIMENT/ 'predictMasks'\n",
    "path_predictMasksMorph = path.results  / EXPERIMENT/ 'predictMasksMorph'\n",
    "path_predictObjects= path.results  / EXPERIMENT/ 'predictObjects' \n",
    "path_predictContourCodes= path.results  / EXPERIMENT/ 'predictContourCodes'\n",
    "#  Paths with filenames\n",
    "inputImages_filenames  = np.sort(path.get_filenames(path_inputImages  , dateifilter= '*.png'))\n",
    "actualMasks_filenames  = np.sort(path.get_filenames(path_actualMasks, dateifilter= '*.png'))\n",
    "predictMasks_filenames = np.sort(path.get_filenames(path_predictMasks, dateifilter= '*.png'))\n",
    "predictMasksMorph_filenames   = np.sort(path.get_filenames(path_predictMasksMorph, dateifilter= '*.png'))\n",
    "predictObjects_filenames      = np.sort(path.get_filenames(path_predictObjects, dateifilter= '*.png'))\n",
    "predictContourCodes_filenames = np.sort(path.get_filenames(path_predictContourCodes , dateifilter= '*.pkl'))\n",
    "# Number of samples\n",
    "sample_anzahl=len(inputImages_filenames) # -> the same for everyone"
   ]
  },
  {
   "cell_type": "code",
   "execution_count": null,
   "metadata": {
    "colab": {
     "base_uri": "https://localhost:8080/"
    },
    "executionInfo": {
     "elapsed": 8,
     "status": "ok",
     "timestamp": 1635344793818,
     "user": {
      "displayName": "jon jon",
      "photoUrl": "https://lh3.googleusercontent.com/a/default-user=s64",
      "userId": "11545148206954630185"
     },
     "user_tz": -120
    },
    "id": "7QlDT_zx7MQP",
    "outputId": "1a7d2501-cc2b-439e-c45b-30b1f0c888f6"
   },
   "outputs": [],
   "source": [
    "if VERBOSE:\n",
    "    print(path_experiment)"
   ]
  },
  {
   "cell_type": "code",
   "execution_count": null,
   "metadata": {
    "colab": {
     "base_uri": "https://localhost:8080/"
    },
    "executionInfo": {
     "elapsed": 4,
     "status": "ok",
     "timestamp": 1635344793819,
     "user": {
      "displayName": "jon jon",
      "photoUrl": "https://lh3.googleusercontent.com/a/default-user=s64",
      "userId": "11545148206954630185"
     },
     "user_tz": -120
    },
    "id": "kcIN3Pws7MQP",
    "outputId": "a716f4c5-23e7-4337-bbd2-719511a4aeb0",
    "scrolled": true
   },
   "outputs": [],
   "source": [
    "print(f'Number of image-mask-samples for prediction: {sample_anzahl}\\n')\n",
    "if VERBOSE:\n",
    "    for idx in range(len(inputImages_filenames)):\n",
    "        print(idx, ' | ', os.path.basename(inputImages_filenames[idx]),' >',\\\n",
    "                          os.path.basename(actualMasks_filenames[idx]) ,' >',\\\n",
    "                          os.path.basename(predictMasks_filenames[idx]) ,' >',\\\n",
    "                          os.path.basename(predictMasksMorph_filenames[idx]) ,' >',\\\n",
    "                          os.path.basename(predictContourCodes_filenames[idx]))"
   ]
  },
  {
   "cell_type": "markdown",
   "metadata": {
    "id": "lTTPWjnz7MQQ"
   },
   "source": [
    "## 2. Read in images, masks and contours\n",
    "- The size of the test images and test masks correspond to those of the training."
   ]
  },
  {
   "cell_type": "code",
   "execution_count": null,
   "metadata": {
    "colab": {
     "base_uri": "https://localhost:8080/"
    },
    "executionInfo": {
     "elapsed": 163439,
     "status": "ok",
     "timestamp": 1635344957255,
     "user": {
      "displayName": "jon jon",
      "photoUrl": "https://lh3.googleusercontent.com/a/default-user=s64",
      "userId": "11545148206954630185"
     },
     "user_tz": -120
    },
    "id": "2ei1bYzZ7MQQ",
    "outputId": "67d4a822-2227-435b-c2c2-3ce46353e910"
   },
   "outputs": [],
   "source": [
    "input_images=[]\n",
    "actual_masks=[]\n",
    "predict_masks=[]\n",
    "predict_masks_morph=[]\n",
    "predict_objects=[]\n",
    "contourcodes_list=[]\n",
    "for idx in range(sample_anzahl):\n",
    "    input_images.append(imread(inputImages_filenames[idx]))\n",
    "    actual_masks.append(imread(actualMasks_filenames[idx]))\n",
    "    predict_masks.append(imread(predictMasks_filenames[idx]))\n",
    "    predict_masks_morph.append(imread(predictMasksMorph_filenames[idx]))\n",
    "    predict_objects.append(imread(predictObjects_filenames[idx]))\n",
    "    file=open(predictContourCodes_filenames[idx], 'rb')\n",
    "    contourcodes_list.append(pickle.load(file))   \n",
    "if VERBOSE:    \n",
    "    print(input_images[0].shape, actual_masks[0].shape, predict_masks[0].shape, predict_masks_morph[0].shape, predict_objects[0].shape)"
   ]
  },
  {
   "cell_type": "markdown",
   "metadata": {
    "id": "WI_mNRjA7MQQ"
   },
   "source": [
    "## 3. Evaluation of the test set (MEASURE)"
   ]
  },
  {
   "cell_type": "markdown",
   "metadata": {
    "id": "QHtyWJB47MQR"
   },
   "source": [
    "### a) Evaluation of the prediction masks without post-processing"
   ]
  },
  {
   "cell_type": "code",
   "execution_count": null,
   "metadata": {
    "colab": {
     "base_uri": "https://localhost:8080/"
    },
    "executionInfo": {
     "elapsed": 12,
     "status": "ok",
     "timestamp": 1635344957255,
     "user": {
      "displayName": "jon jon",
      "photoUrl": "https://lh3.googleusercontent.com/a/default-user=s64",
      "userId": "11545148206954630185"
     },
     "user_tz": -120
    },
    "id": "XrSzQdzw7MQR",
    "outputId": "a59d5314-5fb9-4c5a-9a19-b1f1ab059081"
   },
   "outputs": [],
   "source": [
    "if VERBOSE:\n",
    "    print(actual_masks[0])\n",
    "    print(predict_masks[0])"
   ]
  },
  {
   "cell_type": "code",
   "execution_count": null,
   "metadata": {
    "colab": {
     "base_uri": "https://localhost:8080/"
    },
    "executionInfo": {
     "elapsed": 161819,
     "status": "ok",
     "timestamp": 1635345119071,
     "user": {
      "displayName": "jon jon",
      "photoUrl": "https://lh3.googleusercontent.com/a/default-user=s64",
      "userId": "11545148206954630185"
     },
     "user_tz": -120
    },
    "id": "jvbgbKbf7MQR",
    "outputId": "a045ad2f-bbe4-460d-cf85-4249394b794f"
   },
   "outputs": [],
   "source": [
    "transform=TRANSFORM()\n",
    "dice, hausdorff, f1, dice_full = 0, 0, 0, 0\n",
    "i_error=0\n",
    "i_leer=0\n",
    "anzahl=0\n",
    "dice_list=[]\n",
    "protokolldatei = open(path_experiment / 'protocol_prediction_class-based.txt','w')\n",
    "protokolldatei.write('---------------------------------------------\\n')  #+\n",
    "protokolldatei.write(f'images_res.shape: {input_images[0].shape},\\\n",
    "                    actual_masks_res.shape: {actual_masks[0].shape},\\\n",
    "                    predict_masks.shape: {predict_masks[0].shape}\\n\\n')\n",
    "# Table header\n",
    "print_string=(f' idx | dice-idx  | f1-score  | weighted shape | actual masks       | predict masks')\n",
    "print(print_string)\n",
    "protokolldatei.write(print_string+'\\n')\n",
    "for idx in range(sample_anzahl):\n",
    "  try:\n",
    "    if actual_masks[idx].max() != 0 and predict_masks[idx].max != 0:\n",
    "      actual_mask= transform.twoClasses(actual_masks[idx])\n",
    "      predict_mask= predict_masks[idx]\n",
    "      dice_img = ObjectDice(predict_mask,        actual_mask)\n",
    "      dice_list.append(dice_img) \n",
    "      f1_img = F1score(predict_mask,              actual_mask)\n",
    "      hausdorff_img = ObjectHausdorff(predict_mask,  actual_mask)\n",
    "      dice += dice_img\n",
    "      f1 += f1_img\n",
    "      hausdorff += hausdorff_img\n",
    "      print_string=(f' {idx:3d} | {dice_img:9.3f} | {f1_img:9.3f} | {hausdorff_img:14.3f} | {os.path.basename(actualMasks_filenames[idx])} | {os.path.basename(predictMasks_filenames[idx])}')\n",
    "      print(print_string)\n",
    "      anzahl += 1\n",
    "      # --- Protokoll ---\n",
    "      protokolldatei.write(print_string+'\\n')\n",
    "      #-------------------------------------\n",
    "    else:\n",
    "      i_leer += 1\n",
    "      print('Leer: ',i_leer, 'Cycle', idx)   \n",
    "  except:\n",
    "    i_error += 1\n",
    "    print('Error: ',i_error, 'Cycle', idx)"
   ]
  },
  {
   "cell_type": "code",
   "execution_count": null,
   "metadata": {
    "colab": {
     "base_uri": "https://localhost:8080/"
    },
    "executionInfo": {
     "elapsed": 44,
     "status": "ok",
     "timestamp": 1635345119072,
     "user": {
      "displayName": "jon jon",
      "photoUrl": "https://lh3.googleusercontent.com/a/default-user=s64",
      "userId": "11545148206954630185"
     },
     "user_tz": -120
    },
    "id": "njPtlvlgwzbT",
    "outputId": "bd440d9c-45fb-4995-f774-c57b6c6dff4a"
   },
   "outputs": [],
   "source": [
    "title = '\\n Prediction, class-based'\n",
    "anzahl_emty_error = f'\\n count io.: {anzahl} | empty: {i_leer} |  error: {i_error}'\n",
    "kenngroessen = f'\\n All result parameters (Average value of experiment) -> dice-idx: {dice / anzahl} | f1-score: {f1 / anzahl} | weighted shape: {hausdorff / anzahl}'\n",
    "mittel_median = f'\\n dice -> mittelwert: {np.mean(dice_list)} | Median: {statistics.median(dice_list)}'\n",
    "standard_konvidenz = f'\\n dice -> Standardabweichung S: {np.std(dice_list)} | Konfidenzintervalle mit t: {stat.t.interval(alpha=0.95, df=len(dice_list)-1, loc=np.mean(dice_list), scale=stat.sem(dice_list)) }' \n",
    "min_max_spannweite = f'\\n dice -> Min: {min(dice_list)} | Max: {max(dice_list)} | Spannweite: {max(dice_list) - min(dice_list)}'\n",
    "# Display\n",
    "print(title)\n",
    "print(anzahl_emty_error)\n",
    "print(kenngroessen)\n",
    "print(mittel_median ) \n",
    "print(standard_konvidenz)\n",
    "print(min_max_spannweite)\n",
    "# File\n",
    "protokolldatei.write(title)\n",
    "protokolldatei.write(anzahl_emty_error)\n",
    "protokolldatei.write(kenngroessen)\n",
    "protokolldatei.write(mittel_median)\n",
    "protokolldatei.write(standard_konvidenz)\n",
    "protokolldatei.write(min_max_spannweite)\n",
    "\n",
    "protokolldatei.close() "
   ]
  },
  {
   "cell_type": "markdown",
   "metadata": {
    "id": "C2che-oX7MQS"
   },
   "source": [
    "### b) Evaluation of the post-processing prediction masks"
   ]
  },
  {
   "cell_type": "code",
   "execution_count": null,
   "metadata": {
    "colab": {
     "base_uri": "https://localhost:8080/"
    },
    "executionInfo": {
     "elapsed": 159500,
     "status": "ok",
     "timestamp": 1635345278536,
     "user": {
      "displayName": "jon jon",
      "photoUrl": "https://lh3.googleusercontent.com/a/default-user=s64",
      "userId": "11545148206954630185"
     },
     "user_tz": -120
    },
    "id": "sktIfv8G7MQS",
    "outputId": "7096bbd8-5712-4411-8e69-93fb56745315"
   },
   "outputs": [],
   "source": [
    "dice, hausdorff, f1, dice_full = 0, 0, 0, 0\n",
    "i_error=0\n",
    "i_leer\n",
    "anzahl=0\n",
    "dice_list=[]\n",
    "\n",
    "protokolldatei = open(path_experiment /\\\n",
    "                      'protocol_prediction_with_post-processing_class-base.txt','w')\n",
    "protokolldatei.write('---------------------------------------------\\n')  #+\n",
    "protokolldatei.write(f'input_images_res.shape: {input_images[0].shape},\\\n",
    "                    actual_masks_res.shape: {actual_masks[0].shape},\\\n",
    "                    predict_masks_morph.shape: {predict_masks[0].shape}\\n\\n')\n",
    "# Table header\n",
    "print_string=(f' idx | dice-idx  | f1-score  | weighted shape | actual masks       | predict masks')\n",
    "print(print_string)\n",
    "protokolldatei.write(print_string+'\\n')\n",
    "for idx in range(sample_anzahl):\n",
    "  try:\n",
    "    if actual_masks[idx].max() != 0 and predict_masks_morph[idx].max != 0:\n",
    "      # Compare objects with the masks of the same class\n",
    "      actual_mask       = transform.twoClasses(actual_masks[idx])\n",
    "      predict_mask_morph=predict_masks_morph[idx]\n",
    "      dice_img = ObjectDice(predict_mask_morph,        actual_mask)\n",
    "      dice_list.append(dice_img) \n",
    "      f1_img = F1score(predict_mask_morph,              actual_mask)\n",
    "      hausdorff_img = ObjectHausdorff(predict_mask_morph,  actual_mask)\n",
    "      dice += dice_img\n",
    "      f1 += f1_img\n",
    "      hausdorff += hausdorff_img\n",
    "      print_string=(f' {idx:3d} | {dice_img:9.3f} | {f1_img:9.3f} | {hausdorff_img:13.3f} | {os.path.basename(actualMasks_filenames[idx])} | {os.path.basename(predictMasksMorph_filenames[idx])}')\n",
    "      print(print_string)\n",
    "      anzahl +=1\n",
    "      # --- Protokol ---\n",
    "      protokolldatei.write(print_string+'\\n')\n",
    "      #-------------------------------------\n",
    "    else:\n",
    "      i_leer += 1\n",
    "      print('Leer: ',i_leer, 'Cycle', idx)      \n",
    "  except:\n",
    "    i_error += 1\n",
    "    print('Error: ',i_error, 'Cycle: ', idx)\n"
   ]
  },
  {
   "cell_type": "code",
   "execution_count": null,
   "metadata": {
    "colab": {
     "base_uri": "https://localhost:8080/"
    },
    "executionInfo": {
     "elapsed": 14,
     "status": "ok",
     "timestamp": 1635345278537,
     "user": {
      "displayName": "jon jon",
      "photoUrl": "https://lh3.googleusercontent.com/a/default-user=s64",
      "userId": "11545148206954630185"
     },
     "user_tz": -120
    },
    "id": "wQyE5ZKtvha5",
    "outputId": "85fbb7dc-1fcf-400b-9bf7-f611ca8082f8"
   },
   "outputs": [],
   "source": [
    "title = '\\n Prediction with post-processing, class-based'\n",
    "anzahl_emty_error = f'\\n count io.: {anzahl} | empty: {i_leer} |  error: {i_error}'\n",
    "kenngroessen = f'\\n All result parameters (Average value of experiment) -> dice-idx: {dice / anzahl} | f1-score: {f1 / anzahl} | weighted shape: {hausdorff / anzahl}'\n",
    "mittel_median = f'\\n dice -> mittelwert: {np.mean(dice_list)} | Median: {statistics.median(dice_list)}'\n",
    "standard_konvidenz = f'\\n dice -> Standardabweichung S: {np.std(dice_list)} | Konfidenzintervalle mit t: {stat.t.interval(alpha=0.95, df=len(dice_list)-1, loc=np.mean(dice_list), scale=stat.sem(dice_list)) }' \n",
    "min_max_spannweite = f'\\n dice -> Min: {min(dice_list)} | Max: {max(dice_list)} | Spannweite: {max(dice_list) - min(dice_list)}'\n",
    "# Display\n",
    "print(title)\n",
    "print(anzahl_emty_error)\n",
    "print(kenngroessen)\n",
    "print(mittel_median ) \n",
    "print(standard_konvidenz)\n",
    "print(min_max_spannweite)\n",
    "# File\n",
    "protokolldatei.write(title)\n",
    "protokolldatei.write(anzahl_emty_error)\n",
    "protokolldatei.write(kenngroessen)\n",
    "protokolldatei.write(mittel_median)\n",
    "protokolldatei.write(standard_konvidenz)\n",
    "protokolldatei.write(min_max_spannweite)\n",
    "\n",
    "protokolldatei.close() "
   ]
  },
  {
   "cell_type": "markdown",
   "metadata": {
    "id": "j-3egfae7MQT"
   },
   "source": [
    "### c) Evaluation of the predicted glands (objects)"
   ]
  },
  {
   "cell_type": "code",
   "execution_count": null,
   "metadata": {
    "colab": {
     "base_uri": "https://localhost:8080/"
    },
    "executionInfo": {
     "elapsed": 424370,
     "status": "ok",
     "timestamp": 1635345702898,
     "user": {
      "displayName": "jon jon",
      "photoUrl": "https://lh3.googleusercontent.com/a/default-user=s64",
      "userId": "11545148206954630185"
     },
     "user_tz": -120
    },
    "id": "moK2RWTg7MQT",
    "outputId": "dd98799e-6486-413e-ccd4-87d1a9cb8d0e"
   },
   "outputs": [],
   "source": [
    "# Bewerung der nachbearbeiten Prognosemasken\n",
    "dice, hausdorff, f1, dice_full = 0, 0, 0, 0\n",
    "\n",
    "i_error = 0\n",
    "i_leer = 0\n",
    "anzahl = 0\n",
    "dice_list=[]\n",
    "\n",
    "protokolldatei = open(path_experiment /\\\n",
    "                      'protokoll_prediction_with_post-processing_object-based.txt','w') #+\n",
    "protokolldatei.write('---------------------------------------------\\n')  #+\n",
    "protokolldatei.write(f'images_res.shape: {input_images[0].shape},\\\n",
    "                    actual_masks_res.shape: {actual_masks[0].shape},\\\n",
    "                    predict_masks.shape: {predict_objects[0].shape}\\n\\n')\n",
    "# Table header\n",
    "print_string=(f' idx | dice-idx  | f1-score  | weighted shape | actual masks       | predict masks')\n",
    "print(print_string)\n",
    "protokolldatei.write(print_string+'\\n')\n",
    "for idx in range(sample_anzahl):\n",
    "  try:\n",
    "    if actual_masks[idx].max() != 0 and predict_objects[idx].max != 0: \n",
    "        # The objects (glands) of the mask end are compared.\n",
    "        actual_mask = actual_masks[idx]\n",
    "        predict_object = predict_objects[idx]\n",
    "        dice_img = ObjectDice(predict_object,        actual_mask)\n",
    "        dice_list.append(dice_img)                                      # new\n",
    "        f1_img = F1score(predict_object,              actual_mask)\n",
    "        hausdorff_img = ObjectHausdorff(predict_object,  actual_mask)\n",
    "        dice += dice_img\n",
    "        f1 += f1_img\n",
    "        hausdorff += hausdorff_img\n",
    "        print_string = (f' {idx:3d} | {dice_img:9.3f} | {f1_img:9.3f} | {hausdorff_img:13.3f} | {os.path.basename(actualMasks_filenames[idx])} | {os.path.basename(predictObjects_filenames[idx])}')\n",
    "        print(print_string)\n",
    "        anzahl +=1\n",
    "        # --- Protokol ---\n",
    "        protokolldatei.write(print_string+'\\n')\n",
    "    else:\n",
    "      i_leer += 1\n",
    "      print('Leer: ',i_leer, 'Cycle', idx)      \n",
    "  except:\n",
    "    i_error += 1\n",
    "    print('Error: ',i_error, 'Cycle: ', idx)"
   ]
  },
  {
   "cell_type": "code",
   "execution_count": null,
   "metadata": {
    "colab": {
     "base_uri": "https://localhost:8080/"
    },
    "executionInfo": {
     "elapsed": 6,
     "status": "ok",
     "timestamp": 1635345702898,
     "user": {
      "displayName": "jon jon",
      "photoUrl": "https://lh3.googleusercontent.com/a/default-user=s64",
      "userId": "11545148206954630185"
     },
     "user_tz": -120
    },
    "id": "4kSWOPEy7MQT",
    "outputId": "3817cf30-7257-4d63-ff63-d76a8d411717"
   },
   "outputs": [],
   "source": [
    "title = '\\n Prediction with post-processing, object-based'\n",
    "anzahl_emty_error = f'\\n count io.: {anzahl} | empty: {i_leer} |  error: {i_error}'\n",
    "kenngroessen = f'\\n All result parameters (Average value of experiment) -> dice-idx: {dice / anzahl} | f1-score: {f1 / anzahl} | weighted shape: {hausdorff / anzahl}'\n",
    "mittel_median = f'\\n dice -> mittelwert: {np.mean(dice_list)} | Median: {statistics.median(dice_list)}'\n",
    "standard_konvidenz = f'\\n dice -> Standardabweichung S: {np.std(dice_list)} | Konfidenzintervalle mit t: {stat.t.interval(alpha=0.95, df=len(dice_list)-1, loc=np.mean(dice_list), scale=stat.sem(dice_list)) }' \n",
    "min_max_spannweite = f'\\n dice -> Min: {min(dice_list)} | Max: {max(dice_list)} | Spannweite: {max(dice_list) - min(dice_list)}'\n",
    "# Display\n",
    "print(title)\n",
    "print(anzahl_emty_error)\n",
    "print(kenngroessen)\n",
    "print(mittel_median ) \n",
    "print(standard_konvidenz)\n",
    "print(min_max_spannweite)\n",
    "# File\n",
    "protokolldatei.write(title)\n",
    "protokolldatei.write(anzahl_emty_error)\n",
    "protokolldatei.write(kenngroessen)\n",
    "protokolldatei.write(mittel_median)\n",
    "protokolldatei.write(standard_konvidenz)\n",
    "protokolldatei.write(min_max_spannweite)\n",
    "\n",
    "protokolldatei.close() "
   ]
  },
  {
   "cell_type": "code",
   "execution_count": null,
   "metadata": {
    "colab": {
     "base_uri": "https://localhost:8080/",
     "height": 806
    },
    "executionInfo": {
     "elapsed": 1344,
     "status": "ok",
     "timestamp": 1635345704239,
     "user": {
      "displayName": "jon jon",
      "photoUrl": "https://lh3.googleusercontent.com/a/default-user=s64",
      "userId": "11545148206954630185"
     },
     "user_tz": -120
    },
    "id": "9_KysWEpHRKJ",
    "outputId": "84ab55ca-ce57-40ab-bdf3-32b842d19316"
   },
   "outputs": [],
   "source": [
    "# Histogram of Dice\n",
    "print(dice_list)\n",
    "fig=plt.figure(figsize=(16,12))\n",
    "n,bins,patches=plt.hist(dice_list, bins=11, range=(0.3, 0.9),histtype='bar',\\\n",
    "                        align='left', color='gray',alpha=0.5, density=True, cumulative=False, label='Dice-Index (Onjects)')\n",
    "plt.xlabel('Dice-Index $Dice$', size=28)\n",
    "plt.ylabel('Häufigkeit  $h($$\\Delta$$P)$', size=28)\n",
    "plt.title(\"Dice index histogram of the glands\", size=28)\n",
    "plt.tick_params(labelsize=20)\n",
    "plt.legend(fontsize=20)\n",
    "plt.grid()\n",
    "plt.savefig(path_experiment /'Dice index histogram of the glands')\n",
    "plt.show()"
   ]
  },
  {
   "cell_type": "markdown",
   "metadata": {
    "id": "O2GhxOP47MQT"
   },
   "source": [
    "## 4. Draw the contour in an array and in an image"
   ]
  },
  {
   "cell_type": "code",
   "execution_count": null,
   "metadata": {
    "id": "ujKUM0l67MQT"
   },
   "outputs": [],
   "source": [
    "class DrawCodeInArray():\n",
    "    ''' 2. Zeichnet in ein Array, hier eine Kontur\n",
    "    HINWEIS: Schnellere Berechnung wenn Klasse im Notebook'''\n",
    "    #Konstruktor\n",
    "    def __init__(self, verbose):\n",
    "        super(DrawCodeInArray, self).__init__()\n",
    "        # Steuert Ausgabe zur Kontrolle    \n",
    "        self.verbose = verbose\n",
    "    def all_contours(self, contour_array, contour_codes, element_value=255, depth=1):\n",
    "        '''\n",
    "        2.2 Verwendet den Code um eine Kontur in eine Array zu übertragen.\n",
    "        Eingang Methode:\n",
    "            contour_array - Array, dass verändert wird\n",
    "            contour_codes - Koordinaten der Konturen (mehrere pro array)\n",
    "            element_value - Wert, den die Konturpunkte erhalten\n",
    "            depth - Dicke des Konturzuges (Konturdicke)\n",
    "        Rückgabe:\n",
    "            contour_array- Array mit Kontur entsprechend des Konturcods\n",
    "        '''\n",
    "        for contour in contour_codes:\n",
    "            for point in contour:\n",
    "                #print(point[0], point[1]) #x, y\n",
    "                contour_array[int(point[0]), int(point[1])]=element_value\n",
    "                try:\n",
    "                    for d in range(0, depth): # Kontour dicker zeichnen\n",
    "                        contour_array[int(point[0]+d), int(point[1])+d]=element_value\n",
    "                        contour_array[int(point[0]-d), int(point[1])-d]=element_value\n",
    "                except:\n",
    "                    pass\n",
    "        return contour_array"
   ]
  },
  {
   "cell_type": "code",
   "execution_count": null,
   "metadata": {
    "colab": {
     "base_uri": "https://localhost:8080/"
    },
    "executionInfo": {
     "elapsed": 1335,
     "status": "ok",
     "timestamp": 1635345705566,
     "user": {
      "displayName": "jon jon",
      "photoUrl": "https://lh3.googleusercontent.com/a/default-user=s64",
      "userId": "11545148206954630185"
     },
     "user_tz": -120
    },
    "id": "UZBbodzB7MQU",
    "outputId": "c05de49b-f0c3-441b-a7ca-849fce24b753",
    "tags": [
     "outputPrepend"
    ]
   },
   "outputs": [],
   "source": [
    "# -> contourcodes_list[0][0][1][0])\n",
    "# [listenelement], [contour eines Listenelementes], [Punkt]  , [Punktkoordinaten_x_y]\n",
    "# Contour as an array\n",
    "contourarray_list=[]\n",
    "for idx in range(sample_anzahl):\n",
    "    # It is drawn in here\n",
    "    contour_array=np.zeros(predict_objects[idx].shape, dtype=int)\n",
    "    drawInArray=DrawCodeInArray(True)\n",
    "    # Contour of a mask\n",
    "    conturcodes=contourcodes_list[idx]\n",
    "    print(f'{idx}', end=', ')\n",
    "    contourarray=drawInArray.all_contours(contour_array,conturcodes, 255, 2)\n",
    "    contourarray_list.append(contourarray)  "
   ]
  },
  {
   "cell_type": "code",
   "execution_count": null,
   "metadata": {
    "colab": {
     "base_uri": "https://localhost:8080/"
    },
    "executionInfo": {
     "elapsed": 4631,
     "status": "ok",
     "timestamp": 1635345710196,
     "user": {
      "displayName": "jon jon",
      "photoUrl": "https://lh3.googleusercontent.com/a/default-user=s64",
      "userId": "11545148206954630185"
     },
     "user_tz": -120
    },
    "id": "_HxjMXmM7MQU",
    "outputId": "578e0767-cb73-4ad8-f4b4-12e8f82919b6"
   },
   "outputs": [],
   "source": [
    "# Draw the contour in the input image\n",
    "contourimage_list=[]\n",
    "for idx in range(sample_anzahl):\n",
    "    contourimage=np.array(input_images[idx], copy=True)\n",
    "    drawInArray=DrawCodeInArray(True)\n",
    "    print(f'{idx}', end=', ')\n",
    "    contourimage=drawInArray.all_contours(contourimage,contourcodes_list[idx], 0, 4)\n",
    "    contourimage_list.append(contourimage) "
   ]
  },
  {
   "cell_type": "markdown",
   "metadata": {
    "id": "OKB5rt6S7MQU"
   },
   "source": [
    "### Comparison of visualization"
   ]
  },
  {
   "cell_type": "code",
   "execution_count": null,
   "metadata": {
    "id": "P9N0PejR7MQU"
   },
   "outputs": [],
   "source": [
    "show=SHOW(experiment=EXPERIMENT, figsize=(15,30), fontsize=16)"
   ]
  },
  {
   "cell_type": "code",
   "execution_count": null,
   "metadata": {
    "colab": {
     "base_uri": "https://localhost:8080/",
     "height": 1000
    },
    "executionInfo": {
     "elapsed": 8907,
     "status": "ok",
     "timestamp": 1635345719096,
     "user": {
      "displayName": "jon jon",
      "photoUrl": "https://lh3.googleusercontent.com/a/default-user=s64",
      "userId": "11545148206954630185"
     },
     "user_tz": -120
    },
    "id": "mu0hipkk7MQU",
    "outputId": "ed539965-c1b7-4ce8-c1b8-80e434ae5278"
   },
   "outputs": [],
   "source": [
    "idx_list=list([6,19,16])\n",
    "path_set= path_experiment  / f'images_masks_listset_(P5-05)_{str(idx_list)}.png'\n",
    "listset=list([input_images, actual_masks,         predict_masks,\\\n",
    "              predict_masks_morph,     predict_objects,  contourimage_list ] )\n",
    "titles=list(['Image', 'Actual mask', 'predicted mask',\\\n",
    "             'post-processed',    'Predicted glands', 'Images with contours'])\n",
    "show.list_set(idx_list, listset,titles, path=path_set)"
   ]
  },
  {
   "cell_type": "code",
   "execution_count": null,
   "metadata": {
    "colab": {
     "base_uri": "https://localhost:8080/",
     "height": 1000
    },
    "executionInfo": {
     "elapsed": 6490,
     "status": "ok",
     "timestamp": 1635345725561,
     "user": {
      "displayName": "jon jon",
      "photoUrl": "https://lh3.googleusercontent.com/a/default-user=s64",
      "userId": "11545148206954630185"
     },
     "user_tz": -120
    },
    "id": "8VQWJEXB7MQU",
    "outputId": "ffd8e847-02b5-4da2-c17c-3d8c3becb55f"
   },
   "outputs": [],
   "source": [
    "idx_list=list([10,20,26])\n",
    "path_set= path_experiment  / f'images_masks_listset_(P05)_{str(idx_list)}.png'\n",
    "listset=list([input_images, actual_masks,         predict_masks,\\\n",
    "              predict_masks_morph,     predict_objects,  contourimage_list ] )\n",
    "titles=list(['Image', 'Actual mask', 'predicted mask',\\\n",
    "             'post-processed',    'Predicted glands', 'Images with contours'])\n",
    "show.list_set(idx_list, listset,titles, path=path_set)"
   ]
  },
  {
   "cell_type": "code",
   "execution_count": null,
   "metadata": {
    "colab": {
     "base_uri": "https://localhost:8080/"
    },
    "executionInfo": {
     "elapsed": 12,
     "status": "ok",
     "timestamp": 1635345725561,
     "user": {
      "displayName": "jon jon",
      "photoUrl": "https://lh3.googleusercontent.com/a/default-user=s64",
      "userId": "11545148206954630185"
     },
     "user_tz": -120
    },
    "id": "U0ceU2Ka7MQU",
    "outputId": "fc482231-883e-4035-c0b6-958f72128670"
   },
   "outputs": [],
   "source": [
    "print('End of visualizing')"
   ]
  }
 ],
 "metadata": {
  "colab": {
   "collapsed_sections": [],
   "machine_shape": "hm",
   "name": "P5-05_result_visualization_CRAG.ipynb",
   "provenance": []
  },
  "interpreter": {
   "hash": "f057f675914b11b512bf379bae07be6e1618e8fe1362d0973cc146d2f4f584aa"
  },
  "kernelspec": {
   "display_name": "Python 3",
   "language": "python",
   "name": "python3"
  },
  "language_info": {
   "codemirror_mode": {
    "name": "ipython",
    "version": 3
   },
   "file_extension": ".py",
   "mimetype": "text/x-python",
   "name": "python",
   "nbconvert_exporter": "python",
   "pygments_lexer": "ipython3",
   "version": "3.8.8"
  }
 },
 "nbformat": 4,
 "nbformat_minor": 1
}

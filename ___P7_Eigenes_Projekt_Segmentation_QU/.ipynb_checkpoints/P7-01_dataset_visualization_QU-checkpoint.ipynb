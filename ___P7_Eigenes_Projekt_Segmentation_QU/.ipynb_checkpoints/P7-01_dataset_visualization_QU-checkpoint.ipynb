{
 "cells": [
  {
   "cell_type": "markdown",
   "id": "593ee009",
   "metadata": {
    "id": "593ee009"
   },
   "source": [
    "# Analysis of the data set\n",
    "\n",
    "The aim is to determine the maximum number of objects with different identifications within the data set.\n",
    "\n",
    "The annotations are masks that are used for semantic segmentation. It is the targets that are needed to train a neural network. These masks mark objects in relation to an original image. To differentiate between the objects, each mask object has an object-specific identification number (class number) with consecutive numbering starting with 1. The background itself is given the number 0.\n",
    "\n",
    "The object classification by means of a neural network (semantic instance segmentation) requires the number of maximum output channels as a parameter. The mask objects provide information about this.\n",
    "\n",
    "In this project section, the mask images are analyzed in order to determine the maximum number of possible object types."
   ]
  },
  {
   "cell_type": "markdown",
   "id": "538e863b",
   "metadata": {
    "id": "538e863b"
   },
   "source": [
    "## Libraries, modules, classes"
   ]
  },
  {
   "cell_type": "code",
   "execution_count": null,
   "id": "d0c4ba0d",
   "metadata": {
    "executionInfo": {
     "elapsed": 2349,
     "status": "ok",
     "timestamp": 1635771547965,
     "user": {
      "displayName": "Jonas Heinke",
      "photoUrl": "https://lh3.googleusercontent.com/a/default-user=s64",
      "userId": "01074642255162384074"
     },
     "user_tz": -60
    },
    "id": "d0c4ba0d"
   },
   "outputs": [],
   "source": [
    "# library, module\n",
    "from skimage.color import rgb2gray\n",
    "import numpy as np\n",
    "import cv2\n",
    "import matplotlib.pyplot as plt\n",
    "%matplotlib inline\n",
    "from scipy import ndimage\n",
    "import pathlib\n",
    "import glob\n",
    "import os\n",
    "from skimage.io import imread\n",
    "import importlib # zum aktualisieren von Bibliotheken\n",
    "from skimage.transform import resize\n",
    "# --------------------------\n",
    "from configuration_QU import Path   as PATH   # Pfade und Dateinamen"
   ]
  },
  {
   "cell_type": "markdown",
   "id": "a83078a9",
   "metadata": {
    "id": "a83078a9"
   },
   "source": [
    "## Constants"
   ]
  },
  {
   "cell_type": "code",
   "execution_count": null,
   "id": "2860ad55",
   "metadata": {
    "id": "2860ad55"
   },
   "outputs": [],
   "source": [
    "# Veranlasst Ausgaben \n",
    "VERBOSE=True"
   ]
  },
  {
   "cell_type": "markdown",
   "id": "f8041795",
   "metadata": {},
   "source": [
    "## Commands to download the dataset"
   ]
  },
  {
   "cell_type": "code",
   "execution_count": null,
   "id": "ebf1236c",
   "metadata": {},
   "outputs": [],
   "source": [
    "if not os.path.exists('Warwick QU Dataset (Released 2016_07_08)'):\n",
    "    !wget https://warwick.ac.uk/fac/sci/dcs/research/tia/glascontest/download/warwick_qu_dataset_released_2016_07_08.zip\n",
    "    !unzip warwick_qu_dataset_released_2016_07_08.zip     "
   ]
  },
  {
   "cell_type": "markdown",
   "id": "5d4872ca",
   "metadata": {
    "id": "5d4872ca"
   },
   "source": [
    "## Create file names as a list\n",
    "A path for the images and a path for the associated masks are selected."
   ]
  },
  {
   "cell_type": "code",
   "execution_count": null,
   "id": "1c20540c",
   "metadata": {
    "colab": {
     "base_uri": "https://localhost:8080/"
    },
    "executionInfo": {
     "elapsed": 20,
     "status": "ok",
     "timestamp": 1629113958681,
     "user": {
      "displayName": "jon jon",
      "photoUrl": "",
      "userId": "11545148206954630185"
     },
     "user_tz": -120
    },
    "id": "1c20540c",
    "outputId": "a1b21dfd-d6e0-486b-e7f6-4000f738320f"
   },
   "outputs": [],
   "source": [
    "path=PATH() # Instanz der Klasse für Methodenaufruf erforderlich\n",
    "path_images=path.trainimages\n",
    "path_masks=path.trainmasks\n",
    "imgfilter= ['train_??.bmp',       'testA_??.bmp',     'testB_??.bmp']\n",
    "maskfilter=['train_??_anno.bmp', 'testA_??_anno.bmp', 'testB_??_anno.bmp']\n",
    "dataset=0\n",
    "# input and target files -TRAIN[0], TESTA[1], TESTB[2]\n",
    "image_filenames = path.get_filenames(path_images, dateifilter= imgfilter[dataset],  sort=True)\n",
    "mask_filenames  = path.get_filenames(path_masks,  dateifilter= maskfilter[dataset], sort=True)\n",
    "if VERBOSE:\n",
    "    print(path_images)\n",
    "    print(path_masks)"
   ]
  },
  {
   "cell_type": "code",
   "execution_count": null,
   "id": "7234346c",
   "metadata": {
    "colab": {
     "base_uri": "https://localhost:8080/"
    },
    "executionInfo": {
     "elapsed": 16,
     "status": "ok",
     "timestamp": 1629113958681,
     "user": {
      "displayName": "jon jon",
      "photoUrl": "",
      "userId": "11545148206954630185"
     },
     "user_tz": -120
    },
    "id": "7234346c",
    "outputId": "652560e6-16c9-4f95-935e-14a792c9920e"
   },
   "outputs": [],
   "source": [
    "print('Anzahl der Bild-Masken-Paare: ',len(image_filenames),' : ', len(mask_filenames))\n",
    "if VERBOSE:\n",
    "    for idx in range(len(image_filenames)):\n",
    "        # print(os.path.basename(images_names[idx]),' | ', os.path.basename(targets_names[idx]))\n",
    "        print(idx, ' | ', os.path.basename(image_filenames[idx]),'\\t\\t-> ', os.path.basename(mask_filenames[idx]))"
   ]
  },
  {
   "cell_type": "markdown",
   "id": "576e4a4a",
   "metadata": {
    "id": "576e4a4a"
   },
   "source": [
    "## Loading the images and the associated masks from the directories"
   ]
  },
  {
   "cell_type": "code",
   "execution_count": null,
   "id": "f7d0f895",
   "metadata": {
    "id": "f7d0f895"
   },
   "outputs": [],
   "source": [
    "# read images and store them in memory\n",
    "images = [imread(img_name) for img_name in image_filenames]\n",
    "masks = [imread(mask_name) for mask_name in mask_filenames]"
   ]
  },
  {
   "cell_type": "code",
   "execution_count": null,
   "id": "05683efe",
   "metadata": {
    "colab": {
     "base_uri": "https://localhost:8080/"
    },
    "executionInfo": {
     "elapsed": 7,
     "status": "ok",
     "timestamp": 1629113959619,
     "user": {
      "displayName": "jon jon",
      "photoUrl": "",
      "userId": "11545148206954630185"
     },
     "user_tz": -120
    },
    "id": "05683efe",
    "outputId": "d3462db1-4e20-46b5-896a-54b86f6e6536"
   },
   "outputs": [],
   "source": [
    "if VERBOSE:    \n",
    "    print('path_images: ', path_images)\n",
    "    print('path_masks : ', path_masks)\n",
    "    # print(targets_names)\n",
    "    print('Anzahl der Bilder: inputs {}, targets {} '.format(len(images), len(masks)))\n",
    "    print('Shape of origin: inputs {}, targets {} '.format(images[0].shape, masks[0].shape))"
   ]
  },
  {
   "cell_type": "markdown",
   "id": "81e91e89",
   "metadata": {
    "id": "81e91e89"
   },
   "source": [
    "## Determination of the number of objects in a mask"
   ]
  },
  {
   "cell_type": "code",
   "execution_count": null,
   "id": "488ab886",
   "metadata": {
    "colab": {
     "base_uri": "https://localhost:8080/"
    },
    "executionInfo": {
     "elapsed": 7,
     "status": "ok",
     "timestamp": 1629113959620,
     "user": {
      "displayName": "jon jon",
      "photoUrl": "",
      "userId": "11545148206954630185"
     },
     "user_tz": -120
    },
    "id": "488ab886",
    "outputId": "a13a7e90-85b0-4080-b813-bd45d9e9d597"
   },
   "outputs": [],
   "source": [
    "max_class_of_all=0\n",
    "max_idx=[]\n",
    "for i in range(len(masks)):\n",
    "    max_idx.append(masks[i].max())\n",
    "print(max_idx)"
   ]
  },
  {
   "cell_type": "code",
   "execution_count": null,
   "id": "ccfffb9d",
   "metadata": {
    "colab": {
     "base_uri": "https://localhost:8080/"
    },
    "executionInfo": {
     "elapsed": 5,
     "status": "ok",
     "timestamp": 1629113959620,
     "user": {
      "displayName": "jon jon",
      "photoUrl": "",
      "userId": "11545148206954630185"
     },
     "user_tz": -120
    },
    "id": "ccfffb9d",
    "outputId": "91e62836-43b8-4168-c985-f85bf9c3e3c1"
   },
   "outputs": [],
   "source": [
    "max_idx_all=max(max_idx)\n",
    "idx_of_max= np.argmax(max_idx)\n",
    "print('Maximum number of classes or number of object IDs:\\n Max= {}[idx={}]: '.\n",
    "      format(max_idx_all,idx_of_max ))    "
   ]
  },
  {
   "cell_type": "markdown",
   "id": "1LKqSMQvI0S2",
   "metadata": {
    "id": "1LKqSMQvI0S2"
   },
   "source": [
    "## Visualization"
   ]
  },
  {
   "cell_type": "markdown",
   "id": "aHeAx_tkI7q3",
   "metadata": {
    "id": "aHeAx_tkI7q3"
   },
   "source": [
    "##### Histograms"
   ]
  },
  {
   "cell_type": "code",
   "execution_count": null,
   "id": "uYuhPRF9IpTZ",
   "metadata": {
    "id": "uYuhPRF9IpTZ"
   },
   "outputs": [],
   "source": [
    "from MODULE.JH.visualize import Show as SHOW\n",
    "show=SHOW(experiment='', figsize=(60,70), fontsize=16)"
   ]
  },
  {
   "cell_type": "code",
   "execution_count": null,
   "id": "ACUx0327IqNG",
   "metadata": {
    "colab": {
     "base_uri": "https://localhost:8080/",
     "height": 319
    },
    "executionInfo": {
     "elapsed": 55389,
     "status": "ok",
     "timestamp": 1629114015406,
     "user": {
      "displayName": "jon jon",
      "photoUrl": "",
      "userId": "11545148206954630185"
     },
     "user_tz": -120
    },
    "id": "ACUx0327IqNG",
    "outputId": "07273d2d-e6bc-42b1-b66b-0dc3d8683670"
   },
   "outputs": [],
   "source": [
    "#histogramms=[]\n",
    "histogramm=[show.histogramm(mask,f'(7-1)_Summ_histogram_{maskfilter[dataset][:5]}',\\\n",
    "                            ordinate='Frequency, Häufigkeit H', relativ=False)\\\n",
    "            for mask in masks]"
   ]
  },
  {
   "cell_type": "code",
   "execution_count": null,
   "id": "CUtC0ln3JQBb",
   "metadata": {
    "colab": {
     "base_uri": "https://localhost:8080/",
     "height": 319
    },
    "executionInfo": {
     "elapsed": 9,
     "status": "ok",
     "timestamp": 1629114015407,
     "user": {
      "displayName": "jon jon",
      "photoUrl": "",
      "userId": "11545148206954630185"
     },
     "user_tz": -120
    },
    "id": "CUtC0ln3JQBb",
    "outputId": "36b65a8f-0dc5-4b40-d153-ef47890466fc"
   },
   "outputs": [],
   "source": [
    "histogramm=show.histogramm(masks[idx_of_max],f'(7-1)_Histogramm_{maskfilter[dataset][:5]}_({idx_of_max})',\\\n",
    "                            ordinate='Relative Häufigkeit h', relativ=True)"
   ]
  },
  {
   "cell_type": "markdown",
   "id": "zbImrtw7JVjD",
   "metadata": {
    "id": "zbImrtw7JVjD"
   },
   "source": [
    "#### Images and masks"
   ]
  },
  {
   "cell_type": "code",
   "execution_count": null,
   "id": "po0yn_GOJQgi",
   "metadata": {
    "colab": {
     "base_uri": "https://localhost:8080/",
     "height": 591
    },
    "executionInfo": {
     "elapsed": 6578,
     "status": "ok",
     "timestamp": 1629114021980,
     "user": {
      "displayName": "jon jon",
      "photoUrl": "",
      "userId": "11545148206954630185"
     },
     "user_tz": -120
    },
    "id": "po0yn_GOJQgi",
    "outputId": "8f4b0cfe-427a-4ed1-c88f-0b1635164983"
   },
   "outputs": [],
   "source": [
    "show=SHOW(experiment='', figsize=(40,18), fontsize=40)\n",
    "idx_list=[10, 20, 32]\n",
    "path_set= f'(7-1)_images_masks_listset_{maskfilter[dataset][:5]}_{str(idx_list)}.png'\n",
    "listset=list([images, masks])\n",
    "titles=list(['Image', 'Actual masks'])\n",
    "show.list_set(idx_list, listset,titles, path=path_set)"
   ]
  },
  {
   "cell_type": "code",
   "execution_count": null,
   "id": "27efdd1c",
   "metadata": {
    "colab": {
     "base_uri": "https://localhost:8080/"
    },
    "executionInfo": {
     "elapsed": 14,
     "status": "ok",
     "timestamp": 1629114021981,
     "user": {
      "displayName": "jon jon",
      "photoUrl": "",
      "userId": "11545148206954630185"
     },
     "user_tz": -120
    },
    "id": "27efdd1c",
    "outputId": "d7e6a6ea-1cf1-45f7-c00e-ba46202414aa"
   },
   "outputs": [],
   "source": [
    "print('ENDE')"
   ]
  },
  {
   "cell_type": "code",
   "execution_count": null,
   "id": "52884521",
   "metadata": {
    "id": "52884521"
   },
   "outputs": [],
   "source": []
  }
 ],
 "metadata": {
  "accelerator": "GPU",
  "colab": {
   "collapsed_sections": [],
   "name": "P7-01_dataset_visualization_QU.ipynb",
   "provenance": []
  },
  "kernelspec": {
   "display_name": "Python 3",
   "language": "python",
   "name": "python3"
  },
  "language_info": {
   "codemirror_mode": {
    "name": "ipython",
    "version": 3
   },
   "file_extension": ".py",
   "mimetype": "text/x-python",
   "name": "python",
   "nbconvert_exporter": "python",
   "pygments_lexer": "ipython3",
   "version": "3.8.8"
  }
 },
 "nbformat": 4,
 "nbformat_minor": 5
}

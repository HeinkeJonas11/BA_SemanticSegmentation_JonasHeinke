{
 "cells": [
  {
   "cell_type": "markdown",
   "metadata": {
    "id": "7wO281W4YMaa"
   },
   "source": [
    "# P7-05: Results visualization - QU\n",
    "- Used to display the prediction results\n",
    "- Compares predicted masks with actual masks\n",
    "- Compares the predicted objects with the actual objects \n",
    "- Illustration of Images, Masks and Glands"
   ]
  },
  {
   "cell_type": "markdown",
   "metadata": {
    "id": "cNQuS1z-YgWP"
   },
   "source": [
    "## Libraries, moduls"
   ]
  },
  {
   "cell_type": "code",
   "execution_count": null,
   "metadata": {
    "id": "HO59SZLKYMab"
   },
   "outputs": [],
   "source": [
    "# Imports\n",
    "import pathlib\n",
    "import numpy as np\n",
    "import torch\n",
    "from skimage.io import imread\n",
    "from skimage.transform import resize\n",
    "import os\n",
    "import matplotlib.pyplot as plt\n",
    "from PIL import Image\n",
    "import pickle # zum speichern\n",
    "# PL - Pinckaers, Litjens\n",
    "from  MODULE.PL.metrics import ObjectDice, ObjectHausdorff, F1score\n",
    "# JS -Schmidt\n",
    "from MODULE.JS.inference import predict\n",
    "from MODULE.JS.transformations import normalize_01, re_normalize\n",
    "from MODULE.JS.unet import UNet\n",
    "# JH - Jonas Heinke\n",
    "from configuration_QU import Path   as PATH   # Paths and filenames\n",
    "from configuration_QU import Inputs as INPUT    # Image parameters\n",
    "from configuration_QU import CfgModel as CFG_MODEL  # Model parameters\n",
    "from configuration_QU import EXPERIMENT # Name / key of the experiment    \n",
    "from MODULE.JH.img_array_transform import ArrayTransform as TRANSFORM\n",
    "from MODULE.JH.visualize import Show as SHOW"
   ]
  },
  {
   "cell_type": "code",
   "execution_count": null,
   "metadata": {
    "colab": {
     "base_uri": "https://localhost:8080/"
    },
    "executionInfo": {
     "elapsed": 6,
     "status": "ok",
     "timestamp": 1629903623659,
     "user": {
      "displayName": "jon jon",
      "photoUrl": "",
      "userId": "11545148206954630185"
     },
     "user_tz": -120
    },
    "id": "4clGYt8CYMab",
    "outputId": "43ba947f-a862-4d3d-a7d8-e28a912f4c4c"
   },
   "outputs": [],
   "source": [
    "# For control\n",
    "VERBOSE=True\n",
    "# Experiment\n",
    "print(EXPERIMENT)\n",
    "# QU_(bl)_blocks5_cout2_optAdam_lr0.001_ep600_h352_w512_ft64"
   ]
  },
  {
   "cell_type": "markdown",
   "metadata": {
    "id": "8POXPypzYMac"
   },
   "source": [
    "## List of file paths"
   ]
  },
  {
   "cell_type": "code",
   "execution_count": null,
   "metadata": {
    "colab": {
     "base_uri": "https://localhost:8080/"
    },
    "executionInfo": {
     "elapsed": 1247,
     "status": "ok",
     "timestamp": 1629903624901,
     "user": {
      "displayName": "jon jon",
      "photoUrl": "",
      "userId": "11545148206954630185"
     },
     "user_tz": -120
    },
    "id": "VMW8DupjYMac",
    "outputId": "c0296d01-d6e4-43bc-ac0f-2d021a8bc0ed"
   },
   "outputs": [],
   "source": [
    "path=PATH() # Instance of the class required for method call\n",
    "# Source paths\n",
    "path_experiment   = path.results  / EXPERIMENT              #  Ergebnisse des Experiments\n",
    "if VERBOSE:\n",
    "    print('Serie: ', path.serie)\n",
    "    print(path_experiment)\n",
    "path_inputImages       = path.results  / EXPERIMENT / 'images'\n",
    "path_actualMasks  = path.results  / EXPERIMENT / 'actualMasks'\n",
    "path_predictMasks = path.results  / EXPERIMENT / 'predictMasks'\n",
    "path_predictMasksMorph = path.results  / EXPERIMENT / 'predictMasksMorph'\n",
    "path_predictObjects= path.results  / EXPERIMENT / 'predictObjects'  # =nachbearbeitete prognostizierte Masken\n",
    "path_predictContourCodes= path.results  / EXPERIMENT / 'predictContourCodes' #= Kontur der prognostizierten Objekte\n",
    "#  Paths with filenames\n",
    "inputImages_filenames  = np.sort(path.get_filenames(path_inputImages  , dateifilter= '*.png'))\n",
    "actualMasks_filenames  = np.sort(path.get_filenames(path_actualMasks, dateifilter= '*.png'))\n",
    "predictMasks_filenames = np.sort(path.get_filenames(path_predictMasks, dateifilter= '*.png'))\n",
    "predictMasksMorph_filenames   = np.sort(path.get_filenames(path_predictMasksMorph, dateifilter= '*.png'))\n",
    "predictObjects_filenames      = np.sort(path.get_filenames(path_predictObjects, dateifilter= '*.png'))\n",
    "predictContourCodes_filenames = np.sort(path.get_filenames(path_predictContourCodes , dateifilter= '*.pkl'))\n",
    "# Number of samples\n",
    "sample_anzahl=len(inputImages_filenames) # -> für alle gleich"
   ]
  },
  {
   "cell_type": "code",
   "execution_count": null,
   "metadata": {
    "colab": {
     "base_uri": "https://localhost:8080/"
    },
    "executionInfo": {
     "elapsed": 7,
     "status": "ok",
     "timestamp": 1629903624902,
     "user": {
      "displayName": "jon jon",
      "photoUrl": "",
      "userId": "11545148206954630185"
     },
     "user_tz": -120
    },
    "id": "So_ZO1bzYMad",
    "outputId": "087fc9ba-1705-4aa5-d10e-0072539ada69",
    "scrolled": true
   },
   "outputs": [],
   "source": [
    "print(f'Number of image-mask-samples for prediction: {sample_anzahl}\\n')\n",
    "if VERBOSE:\n",
    "    for idx in range(len(inputImages_filenames)):\n",
    "        print(idx, ' | ', os.path.basename(inputImages_filenames[idx]),' >',\\\n",
    "                          os.path.basename(actualMasks_filenames[idx]) ,' >',\\\n",
    "                          os.path.basename(predictMasks_filenames[idx]) ,' >',\\\n",
    "                          os.path.basename(predictMasksMorph_filenames[idx]) ,' >',\\\n",
    "                          os.path.basename(predictContourCodes_filenames[idx]))\n",
    "        "
   ]
  },
  {
   "cell_type": "markdown",
   "metadata": {
    "id": "WI9dngSpYMad"
   },
   "source": [
    "## Read in images, masks and contours\n",
    "- The size of the test images and test masks correspond to those of the training."
   ]
  },
  {
   "cell_type": "code",
   "execution_count": null,
   "metadata": {
    "colab": {
     "base_uri": "https://localhost:8080/"
    },
    "executionInfo": {
     "elapsed": 73899,
     "status": "ok",
     "timestamp": 1629903698797,
     "user": {
      "displayName": "jon jon",
      "photoUrl": "",
      "userId": "11545148206954630185"
     },
     "user_tz": -120
    },
    "id": "IVXQaRuJYMae",
    "outputId": "d252f5af-912b-45cd-818f-ebacfe86c393"
   },
   "outputs": [],
   "source": [
    "input_images=[]\n",
    "actual_masks=[]\n",
    "predict_masks=[]\n",
    "predict_masks_morph=[]\n",
    "predict_objects=[]\n",
    "contourcodes_list=[]\n",
    "\n",
    "for idx in range(sample_anzahl):\n",
    "    input_images.append(imread(inputImages_filenames[idx]))\n",
    "    actual_masks.append(imread(actualMasks_filenames[idx]))\n",
    "    predict_masks.append(imread(predictMasks_filenames[idx]))\n",
    "    predict_masks_morph.append(imread(predictMasksMorph_filenames[idx]))\n",
    "    predict_objects.append(imread(predictObjects_filenames[idx]))\n",
    "    file=open(predictContourCodes_filenames[idx], 'rb')\n",
    "    contourcodes_list.append(pickle.load(file))\n",
    "if VERBOSE:    \n",
    "    print(input_images[0].shape, actual_masks[0].shape, predict_masks[0].shape, predict_masks_morph[0].shape, predict_objects[0].shape)"
   ]
  },
  {
   "cell_type": "markdown",
   "metadata": {
    "id": "kMii2uksYMaf"
   },
   "source": [
    "## Evaluation of the test set (MEASURE)"
   ]
  },
  {
   "cell_type": "markdown",
   "metadata": {
    "id": "k7HMY_0HYMaf"
   },
   "source": [
    "### a) Evaluation of the prediction masks without post-processing"
   ]
  },
  {
   "cell_type": "code",
   "execution_count": null,
   "metadata": {
    "colab": {
     "base_uri": "https://localhost:8080/"
    },
    "executionInfo": {
     "elapsed": 343913,
     "status": "ok",
     "timestamp": 1629904042706,
     "user": {
      "displayName": "jon jon",
      "photoUrl": "",
      "userId": "11545148206954630185"
     },
     "user_tz": -120
    },
    "id": "ZvzjzN-QYMaf",
    "outputId": "4c52df64-13fb-40e2-d37c-ec2aae214eea"
   },
   "outputs": [],
   "source": [
    "transform=TRANSFORM()\n",
    "dice, hausdorff, f1, dice_full = 0, 0, 0, 0\n",
    "i_error=0\n",
    "anzahl=0\n",
    "protokolldatei = open(path_experiment / 'protocol_prediction_class-based.txt','w') #+\n",
    "protokolldatei.write('---------------------------------------------\\n')  #+\n",
    "protokolldatei.write(f'images_res.shape: {input_images[0].shape},\\\n",
    "                    actual_masks_res.shape: {actual_masks[0].shape},\\\n",
    "                    predict_masks.shape: {predict_masks[0].shape}\\n\\n')\n",
    "# Table header\n",
    "print_string=(f' idx | dice-idx  | f1-score  | weighted shape | actual masks       | predict masks')\n",
    "print(print_string)\n",
    "protokolldatei.write(print_string+'\\n')\n",
    "for idx in range(sample_anzahl):\n",
    "    try:\n",
    "        actual_mask= transform.twoClasses(actual_masks[idx])\n",
    "        predict_mask= predict_masks[idx]\n",
    "        dice_img = ObjectDice(predict_mask,        actual_mask)\n",
    "        f1_img = F1score(predict_mask,              actual_mask)\n",
    "        hausdorff_img = ObjectHausdorff(predict_mask,  actual_mask)\n",
    "        dice += dice_img\n",
    "        f1 += f1_img\n",
    "        hausdorff += hausdorff_img\n",
    "        print_string=(f' {idx:3d} | {dice_img:9.3f} | {f1_img:9.3f} | {hausdorff_img:13.3f} | {os.path.basename(actualMasks_filenames[idx])} | {os.path.basename(predictMasks_filenames[idx])}')\n",
    "        print(print_string)\n",
    "        anzahl +=1\n",
    "        # --- Protokoll ---\n",
    "        protokolldatei.write(print_string+'\\n')\n",
    "        #-------------------------------------\n",
    "    except:\n",
    "        i_error +=1\n",
    "        print('Error: ',i_error, 'Zyklus: ', idx)\n",
    "    else:\n",
    "        pass\n"
   ]
  },
  {
   "cell_type": "code",
   "execution_count": null,
   "metadata": {
    "colab": {
     "base_uri": "https://localhost:8080/"
    },
    "executionInfo": {
     "elapsed": 32,
     "status": "ok",
     "timestamp": 1629904042708,
     "user": {
      "displayName": "jon jon",
      "photoUrl": "",
      "userId": "11545148206954630185"
     },
     "user_tz": -120
    },
    "id": "gjXqnYGWYMaf",
    "outputId": "099b544a-6a4e-4788-bde0-917d14d3411d"
   },
   "outputs": [],
   "source": [
    "print('Prediction, class-based')\n",
    "print('-- Averages -----------')\n",
    "print('dice-idx:', dice / anzahl )\n",
    "print('f1-score:', f1 / anzahl )\n",
    "print('weighted shape:', hausdorff / anzahl)\n",
    "print('count io.: ', anzahl)\n",
    "print('errors: ', i_error)\n",
    "protokolldatei.write('Prediction, class-based\\n')\n",
    "protokolldatei.write(f'\\n Average: dice-idx: {dice / anzahl}, f1-score: {f1 / anzahl}, weighted shape: {hausdorff / anzahl}\\n')\n",
    "protokolldatei.close()"
   ]
  },
  {
   "cell_type": "markdown",
   "metadata": {
    "id": "xAXgKiljYMag"
   },
   "source": [
    "### b) Evaluation of the post-processing prediction masks"
   ]
  },
  {
   "cell_type": "code",
   "execution_count": null,
   "metadata": {
    "colab": {
     "base_uri": "https://localhost:8080/"
    },
    "executionInfo": {
     "elapsed": 319135,
     "status": "ok",
     "timestamp": 1629904361815,
     "user": {
      "displayName": "jon jon",
      "photoUrl": "",
      "userId": "11545148206954630185"
     },
     "user_tz": -120
    },
    "id": "pZroy-D6YMag",
    "outputId": "ebe1cae0-5c81-46ed-ed3f-3ec1a0e941cf"
   },
   "outputs": [],
   "source": [
    "dice, hausdorff, f1, dice_full = 0, 0, 0, 0\n",
    "i_error=0\n",
    "anzahl=0\n",
    "\n",
    "protokolldatei = open(path_experiment /\\\n",
    "                      'protocol_prediction_with_post-processing_class-base.txt','w') #+\n",
    "protokolldatei.write('---------------------------------------------\\n')  #+\n",
    "protokolldatei.write(f'input_images_res.shape: {input_images[0].shape},\\\n",
    "                    actual_masks_res.shape: {actual_masks[0].shape},\\\n",
    "                    predict_masks_morph.shape: {predict_masks[0].shape}\\n\\n')\n",
    "# Tabellenkopf\n",
    "print_string=(f' idx | dice_img  | f1_img    | hausdorff_img | actualMasks        | predict_masks_morph')\n",
    "print(print_string)\n",
    "protokolldatei.write(print_string+'\\n')\n",
    "for idx in range(sample_anzahl):\n",
    "    try:\n",
    "        actual_mask       = transform.twoClasses(actual_masks[idx])\n",
    "        predict_mask_morph=predict_masks_morph[idx]\n",
    "        dice_img = ObjectDice(predict_mask_morph,        actual_mask)\n",
    "        f1_img = F1score(predict_mask_morph,              actual_mask)\n",
    "        hausdorff_img = ObjectHausdorff(predict_mask_morph,  actual_mask)\n",
    "        dice += dice_img\n",
    "        f1 += f1_img\n",
    "        hausdorff += hausdorff_img\n",
    "        print_string=(f' {idx:3d} | {dice_img:9.3f} | {f1_img:9.3f} | {hausdorff_img:13.3f} | {os.path.basename(actualMasks_filenames[idx])} | {os.path.basename(predictMasksMorph_filenames[idx])}')\n",
    "        print(print_string)\n",
    "        anzahl +=1\n",
    "        # --- Protokoll ---\n",
    "        protokolldatei.write(print_string+'\\n')\n",
    "        #-------------------------------------\n",
    "    except:\n",
    "        i_error +=1\n",
    "        print('Error: ',i_error, 'Cycle: ', idx)"
   ]
  },
  {
   "cell_type": "code",
   "execution_count": null,
   "metadata": {
    "colab": {
     "base_uri": "https://localhost:8080/"
    },
    "executionInfo": {
     "elapsed": 47,
     "status": "ok",
     "timestamp": 1629904361816,
     "user": {
      "displayName": "jon jon",
      "photoUrl": "",
      "userId": "11545148206954630185"
     },
     "user_tz": -120
    },
    "id": "WhSSO5SVYMag",
    "outputId": "a5c96a9a-875f-4eea-d8ef-edaede7867ea"
   },
   "outputs": [],
   "source": [
    "print('Prediction with post-processing, class-based')\n",
    "print('-- Averages --------------------------------')\n",
    "print('dice-idx:', dice / anzahl )\n",
    "print('f1-score:', f1 / anzahl )\n",
    "print('weighted shape:', hausdorff / anzahl)\n",
    "print('count io.: ', anzahl)\n",
    "print('errors: ', i_error)\n",
    "protokolldatei.write('Prediction with post-processing, class-based\\n')\n",
    "protokolldatei.write(f'\\n Average: dice-idx: {dice / anzahl}, f1-score: {f1 / anzahl}, weighted shape: {hausdorff / anzahl}\\n')\n",
    "protokolldatei.close() "
   ]
  },
  {
   "cell_type": "markdown",
   "metadata": {
    "id": "950xv0FOYMag"
   },
   "source": [
    "### c) Evaluation of the predicted glands (objects)"
   ]
  },
  {
   "cell_type": "code",
   "execution_count": null,
   "metadata": {
    "colab": {
     "base_uri": "https://localhost:8080/"
    },
    "executionInfo": {
     "elapsed": 345614,
     "status": "ok",
     "timestamp": 1629904707389,
     "user": {
      "displayName": "jon jon",
      "photoUrl": "",
      "userId": "11545148206954630185"
     },
     "user_tz": -120
    },
    "id": "VPuQ0rDZYMag",
    "outputId": "0d3a2da8-3730-4372-8b7d-5ffa5f08bcea"
   },
   "outputs": [],
   "source": [
    "dice, hausdorff, f1, dice_full = 0, 0, 0, 0\n",
    "i_error=0\n",
    "anzahl=0\n",
    "protokolldatei = open(path_experiment /\\\n",
    "                      'protokoll_prediction_with_post-processing_object-based.txt','w')\n",
    "protokolldatei.write('---------------------------------------------\\n')  #+\n",
    "protokolldatei.write(f'images_res.shape: {input_images[0].shape},\\\n",
    "                    actual_masks_res.shape: {actual_masks[0].shape},\\\n",
    "                    predict_masks.shape: {predict_objects[0].shape}\\n\\n')\n",
    "# Table header\n",
    "print_string=(f' idx | dice-idx  | f1-score  | weighted shape | actual masks       | predict masks')\n",
    "print(print_string)\n",
    "protokolldatei.write(print_string+'\\n')\n",
    "for idx in range(sample_anzahl):\n",
    "    try:\n",
    "        actual_mask= actual_masks[idx]\n",
    "        predict_object= predict_objects[idx]\n",
    "        dice_img = ObjectDice(predict_object,        actual_mask)\n",
    "        f1_img = F1score(predict_object,              actual_mask)\n",
    "        hausdorff_img = ObjectHausdorff(predict_object,  actual_mask)\n",
    "        dice += dice_img\n",
    "        f1 += f1_img\n",
    "        hausdorff += hausdorff_img\n",
    "        print_string=(f' {idx:3d} | {dice_img:9.3f} | {f1_img:9.3f} | {hausdorff_img:13.3f} | {os.path.basename(actualMasks_filenames[idx])} | {os.path.basename(predictObjects_filenames[idx])}')\n",
    "        print(print_string)\n",
    "        anzahl +=1\n",
    "        # --- Protokoll ---\n",
    "        protokolldatei.write(print_string+'\\n')\n",
    "        #-------------------------------------\n",
    "    except:\n",
    "        i_error +=1\n",
    "        print('Error: ',i_error, 'Cycle: ', idx)\n",
    "    else:\n",
    "        pass        "
   ]
  },
  {
   "cell_type": "code",
   "execution_count": null,
   "metadata": {
    "colab": {
     "base_uri": "https://localhost:8080/"
    },
    "executionInfo": {
     "elapsed": 23,
     "status": "ok",
     "timestamp": 1629904707391,
     "user": {
      "displayName": "jon jon",
      "photoUrl": "",
      "userId": "11545148206954630185"
     },
     "user_tz": -120
    },
    "id": "1EvG6MgvYMah",
    "outputId": "acbde327-f4b4-4785-993c-152ceb92f136"
   },
   "outputs": [],
   "source": [
    "print('Mit Nachbearbeitung, Objektbezogen')\n",
    "print('--Mittelwerte------------------------------------')\n",
    "print('ObjectDice:', dice / anzahl )\n",
    "print('F1:', f1 / anzahl )\n",
    "print('Hausdorff:', hausdorff / anzahl)\n",
    "print('Anzahl io.: ', anzahl)\n",
    "print('Errors: ', i_error)\n",
    "\n",
    "protokolldatei.write(f'\\n Mittelwerte: dice_img: { dice / anzahl }, f1_img:  {f1 / anzahl }, hausdorff: {hausdorff / anzahl}\\n') #+\n",
    "protokolldatei.close() \n"
   ]
  },
  {
   "cell_type": "markdown",
   "metadata": {
    "id": "apkCn2ttYMah"
   },
   "source": [
    "## Draw code in an array and in an image"
   ]
  },
  {
   "cell_type": "code",
   "execution_count": null,
   "metadata": {
    "id": "RgQiq-E_YMah"
   },
   "outputs": [],
   "source": [
    "class DrawInArray():\n",
    "    ''' 2. Zeichnet in ein Array, hier eine Kontur\n",
    "    HINWEIS: Schnellere Berechnung wenn Klasse im Notebook'''\n",
    "    #Konstruktor\n",
    "    def __init__(self, verbose):\n",
    "        super(DrawInArray, self).__init__()\n",
    "        # Steuert Ausgabe zur Kontrolle    \n",
    "        self.verbose = verbose\n",
    "\n",
    "    ### IN WORK ###\n",
    "    def all_contours(self, contour_array, contour_codes, element_value=255, depth=1):\n",
    "        '''\n",
    "        2.2 Verwendet den Code um eine Kontur in eine Array zu übertragen.\n",
    "            \n",
    "        Eingang Methode:\n",
    "            contour_array - Array, dass verändert wird\n",
    "            contour_codes - Koordinaten der Konturen (mehrere pro array)\n",
    "            element_value - Wert, den die Konturpunkte erhalten\n",
    "            depth - Dicke des Konturzuges (Konturdicke)\n",
    "        Rückgabe:\n",
    "            contour_array- Array mit Kontur entsprechend des Konturcods\n",
    "        '''\n",
    "        #print(contour_codes[0][0][0])\n",
    "\n",
    "        for contour in contour_codes:\n",
    "            for point in contour:\n",
    "                #print(point[0], point[1]) #x, y\n",
    "                contour_array[int(point[0]), int(point[1])]=element_value\n",
    "                try:\n",
    "                    for d in range(0, depth): # Kontour dicker zeichnen\n",
    "                        contour_array[int(point[0]+d), int(point[1])+d]=element_value\n",
    "                        contour_array[int(point[0]-d), int(point[1])-d]=element_value\n",
    "                except:\n",
    "                    pass\n",
    "                \n",
    "        return contour_array"
   ]
  },
  {
   "cell_type": "code",
   "execution_count": null,
   "metadata": {
    "colab": {
     "base_uri": "https://localhost:8080/"
    },
    "executionInfo": {
     "elapsed": 1553,
     "status": "ok",
     "timestamp": 1629904708928,
     "user": {
      "displayName": "jon jon",
      "photoUrl": "",
      "userId": "11545148206954630185"
     },
     "user_tz": -120
    },
    "id": "FhFaiYC8YMah",
    "outputId": "d050d2ed-8dee-4785-e28f-b0e2d4199bc9"
   },
   "outputs": [],
   "source": [
    "# -> contourcodes_list[0][0][1][0])\n",
    "# [listenelement], [contour eines Listenelementes], [Punkt]  , [Punktkoordinaten_x_y]\n",
    "# Contour as an array\n",
    "contourarray_list=[]\n",
    "for idx in range(sample_anzahl):\n",
    "    # It is drawn in here\n",
    "    contour_array=np.zeros(predict_objects[idx].shape, dtype=int)\n",
    "    drawInArray=DrawInArray(True)\n",
    "    # Contour of a mask\n",
    "    conturcodes=contourcodes_list[idx]\n",
    "    print(f'{idx}', end=', ')\n",
    "    contourarray=drawInArray.all_contours(contour_array,conturcodes, 255, 2)\n",
    "    contourarray_list.append(contourarray)  "
   ]
  },
  {
   "cell_type": "code",
   "execution_count": null,
   "metadata": {
    "colab": {
     "base_uri": "https://localhost:8080/"
    },
    "executionInfo": {
     "elapsed": 3685,
     "status": "ok",
     "timestamp": 1629904712601,
     "user": {
      "displayName": "jon jon",
      "photoUrl": "",
      "userId": "11545148206954630185"
     },
     "user_tz": -120
    },
    "id": "K78FrsiwYMai",
    "outputId": "1621b3db-232f-4604-f176-81fb35670661"
   },
   "outputs": [],
   "source": [
    "# Draw the contour in the input image\n",
    "contourimage_list=[]\n",
    "for idx in range(sample_anzahl):\n",
    "    # Hier wird eingezeichnet\n",
    "    contourimage=np.array(input_images[idx], copy=True) \n",
    "    # Instanz der Klasse erhlt Zielarray\n",
    "    drawInArray=DrawInArray(True)\n",
    "    # alle Konturen einer Maske\n",
    "    print(f'{idx}', end=', ')\n",
    "    contourimage=drawInArray.all_contours(contourimage,contourcodes_list[idx], 0, 4)\n",
    "    contourimage_list.append(contourimage) "
   ]
  },
  {
   "cell_type": "markdown",
   "metadata": {
    "id": "DmaskitjYMai"
   },
   "source": [
    "## Comparison of visualization"
   ]
  },
  {
   "cell_type": "code",
   "execution_count": null,
   "metadata": {
    "id": "pdFeEhK1YMai"
   },
   "outputs": [],
   "source": [
    "from importlib import reload\n",
    "import MODULE.JH.visualize\n",
    "reload(MODULE.JH.visualize)\n",
    "from MODULE.JH.visualize import Show as SHOW\n",
    "show=SHOW(experiment=EXPERIMENT, figsize=(20,30), fontsize=26)"
   ]
  },
  {
   "cell_type": "code",
   "execution_count": null,
   "metadata": {
    "colab": {
     "base_uri": "https://localhost:8080/",
     "height": 1000
    },
    "executionInfo": {
     "elapsed": 4831,
     "status": "ok",
     "timestamp": 1629904717427,
     "user": {
      "displayName": "jon jon",
      "photoUrl": "",
      "userId": "11545148206954630185"
     },
     "user_tz": -120
    },
    "id": "bo1OEqZDYMai",
    "outputId": "241b2cf1-ddb3-4a15-9513-3724c769a114"
   },
   "outputs": [],
   "source": [
    "idx_list=list([14,24,51])\n",
    "path_set= path_experiment  / f'images_masks_listset_(P7-05)_{str(idx_list)}.png'\n",
    "listset=list([input_images, actual_masks,         predict_masks,\\\n",
    "              predict_masks_morph,     predict_objects,  contourimage_list ] )\n",
    "titles=list(['Image', 'Actual mask', 'Predicted mask',\\\n",
    "             'Post-processed',    'Predicted glands', 'Images with contours'])\n",
    "show.list_set(idx_list, listset,titles, path=path_set)"
   ]
  },
  {
   "cell_type": "code",
   "execution_count": null,
   "metadata": {
    "colab": {
     "base_uri": "https://localhost:8080/",
     "height": 1000
    },
    "executionInfo": {
     "elapsed": 3206,
     "status": "ok",
     "timestamp": 1629904720618,
     "user": {
      "displayName": "jon jon",
      "photoUrl": "",
      "userId": "11545148206954630185"
     },
     "user_tz": -120
    },
    "id": "XnLpmu2TYMai",
    "outputId": "2afef072-9093-4355-a19b-cba40bea8c0c"
   },
   "outputs": [],
   "source": [
    "idx_list=list([53,11,35])\n",
    "path_set= path_experiment  / f'images_masks_listset_(P7-05)_{str(idx_list)}.png'\n",
    "listset=list([input_images, actual_masks,         predict_masks,\\\n",
    "              predict_masks_morph,     predict_objects,  contourimage_list ] )\n",
    "titles=list(['Image', 'Actual mask', 'Predicted mask',\\\n",
    "             'Post-processed',    'Predicted glands', 'Images with contours'])\n",
    "show.list_set(idx_list, listset,titles, path=path_set)"
   ]
  },
  {
   "cell_type": "code",
   "execution_count": null,
   "metadata": {
    "colab": {
     "base_uri": "https://localhost:8080/"
    },
    "executionInfo": {
     "elapsed": 18,
     "status": "ok",
     "timestamp": 1629904720619,
     "user": {
      "displayName": "jon jon",
      "photoUrl": "",
      "userId": "11545148206954630185"
     },
     "user_tz": -120
    },
    "id": "HXUZXybFYMai",
    "outputId": "ac67b7c9-4d82-41cc-d74b-47750006ccf0"
   },
   "outputs": [],
   "source": [
    "print('End of visualizing')"
   ]
  },
  {
   "cell_type": "code",
   "execution_count": null,
   "metadata": {
    "id": "J7GQpPY8YMai"
   },
   "outputs": [],
   "source": []
  }
 ],
 "metadata": {
  "accelerator": "GPU",
  "colab": {
   "collapsed_sections": [],
   "machine_shape": "hm",
   "name": "P7-05_result_visualization_QU.ipynb",
   "provenance": []
  },
  "kernelspec": {
   "display_name": "Python 3",
   "language": "python",
   "name": "python3"
  },
  "language_info": {
   "codemirror_mode": {
    "name": "ipython",
    "version": 3
   },
   "file_extension": ".py",
   "mimetype": "text/x-python",
   "name": "python",
   "nbconvert_exporter": "python",
   "pygments_lexer": "ipython3",
   "version": "3.8.8"
  }
 },
 "nbformat": 4,
 "nbformat_minor": 1
}

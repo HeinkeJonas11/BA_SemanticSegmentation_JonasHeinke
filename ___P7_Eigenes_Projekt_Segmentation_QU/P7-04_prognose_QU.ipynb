{
 "cells": [
  {
   "cell_type": "markdown",
   "metadata": {
    "id": "NFybGhH1OtDT"
   },
   "source": [
    "# P7-04: Prediction and post-processing of the masks\n",
    "Post-processing with two versions:\n",
    "- Contour code, standard library\n",
    "- Chain code in python"
   ]
  },
  {
   "cell_type": "markdown",
   "metadata": {
    "id": "r96hU2CSQUtD"
   },
   "source": [
    "## Libraries, modules"
   ]
  },
  {
   "cell_type": "code",
   "execution_count": null,
   "metadata": {
    "id": "wOHAcw_pOtDU"
   },
   "outputs": [],
   "source": [
    "# Imports\n",
    "import pathlib\n",
    "import numpy as np\n",
    "import torch\n",
    "from skimage.io import imread\n",
    "from skimage.transform import resize\n",
    "import os\n",
    "import matplotlib.pyplot as plt\n",
    "from PIL import Image\n",
    "import pickle # zum speichern\n",
    "#------------------------------------------------------------------\n",
    "from  MODULE.PL.metrics import ObjectDice, ObjectHausdorff, F1score\n",
    "#---------------\n",
    "#from MODULE.JS.inference import predict\n",
    "from MODULE.JS.transformations import normalize_01, re_normalize\n",
    "from MODULE.JS.unet import UNet\n",
    "#------------\n",
    "# Konfigurationsdaten\n",
    "from configuration_QU import Path   as PATH   # Pfade und Dateinamen\n",
    "from configuration_QU import Inputs as INPUT    # Imageparameter\n",
    "from configuration_QU import CfgModel as CFG_MODEL  # Modellparameter\n",
    "from configuration_QU import Postprocess as POST  # Nachbearbeitung\n",
    "from configuration_QU import EXPERIMENT          # Name des Experiments\n",
    "# Transformationen und Anpassungen\n",
    "from MODULE.JH.img_array_transform import ArrayTransform as TRANSFORM\n",
    "# Bildoperationen, Kettencode\n",
    "import MODULE.JH.image_processing as IP\n",
    "# Prognose mit Anpassungen\n",
    "from MODULE.JH.prediction import Prediction as PREDICTION\n",
    "# View Bild-Masken-Sets\n",
    "from MODULE.JH.visualize import Show as SHOW\n",
    "# Instanzen von Klassen ggf.\n",
    "transform=TRANSFORM() # Klassenistanz"
   ]
  },
  {
   "cell_type": "code",
   "execution_count": null,
   "metadata": {
    "colab": {
     "base_uri": "https://localhost:8080/"
    },
    "executionInfo": {
     "elapsed": 43,
     "status": "ok",
     "timestamp": 1629976458932,
     "user": {
      "displayName": "jon jon",
      "photoUrl": "",
      "userId": "11545148206954630185"
     },
     "user_tz": -120
    },
    "id": "yywp3K0uOtDV",
    "outputId": "f0ee2503-6b8d-4d3e-b285-4f7a4e6fa9b9"
   },
   "outputs": [],
   "source": [
    "# Printkontrolle\n",
    "VERBOSE=True\n",
    "# Experiment, Daten aus dem Training\n",
    "print(EXPERIMENT)"
   ]
  },
  {
   "cell_type": "markdown",
   "metadata": {
    "id": "-T9H1DdBOtDW"
   },
   "source": [
    "## List of file paths of the test data"
   ]
  },
  {
   "cell_type": "code",
   "execution_count": null,
   "metadata": {
    "colab": {
     "base_uri": "https://localhost:8080/"
    },
    "executionInfo": {
     "elapsed": 36,
     "status": "ok",
     "timestamp": 1629976458932,
     "user": {
      "displayName": "jon jon",
      "photoUrl": "",
      "userId": "11545148206954630185"
     },
     "user_tz": -120
    },
    "id": "tPfh23Y1OtDW",
    "outputId": "36c48da4-7f9f-4e6e-9779-ad44e94df03f"
   },
   "outputs": [],
   "source": [
    "path=PATH() # Instanz der Klasse für Methodenaufruf erforderlich\n",
    "path_images=path.testimages\n",
    "path_masks=path.testmasks\n",
    "# Source path of the trained model.\n",
    "path_model_experiment=path.model / EXPERIMENT\n",
    "# Destination path for results of the experiment\n",
    "path_result_experiment   = path.results  / EXPERIMENT\n",
    "if not os.path.exists(path_result_experiment):\n",
    "    os.mkdir(path_result_experiment)\n",
    "# Filter 0 - 9\n",
    "imgfilter_1= ['train_?.bmp',       'testA_?.bmp',     'testB_?.bmp']           #*\n",
    "maskfilter_1=['train_?_anno.bmp', 'testA_?_anno.bmp', 'testB_?_anno.bmp']\n",
    "# fILTER 10 - ...\n",
    "imgfilter= ['train_??.bmp',       'testA_??.bmp',     'testB_??.bmp']\n",
    "maskfilter=['train_??_anno.bmp', 'testA_??_anno.bmp', 'testB_??_anno.bmp']\n",
    "fidx=1\n",
    "if path.serie=='B':\n",
    "    fidx=2\n",
    "# input and target files -TRAIN[0], TESTA[1], TESTB[2]\n",
    "image_filenames = path.get_filenames(path_images, dateifilter= imgfilter_1[fidx],  sort=True) #*\n",
    "mask_filenames  = path.get_filenames(path_masks,  dateifilter= maskfilter_1[fidx], sort=True) #*\n",
    "\n",
    "image_filenames += path.get_filenames(path_images, dateifilter= imgfilter[fidx],  sort=True)\n",
    "mask_filenames  += path.get_filenames(path_masks,  dateifilter= maskfilter[fidx], sort=True)\n",
    "\n",
    "if VERBOSE:\n",
    "    print('Serie: ', path.serie)\n",
    "    print(path_images)\n",
    "    print(path_masks)"
   ]
  },
  {
   "cell_type": "code",
   "execution_count": null,
   "metadata": {
    "colab": {
     "base_uri": "https://localhost:8080/"
    },
    "executionInfo": {
     "elapsed": 30,
     "status": "ok",
     "timestamp": 1629976458933,
     "user": {
      "displayName": "jon jon",
      "photoUrl": "",
      "userId": "11545148206954630185"
     },
     "user_tz": -120
    },
    "id": "7UeZ3GByOtDW",
    "outputId": "10b3e346-1b2c-4944-c6fe-f8da31bb2823"
   },
   "outputs": [],
   "source": [
    "print('Anzahl der Bild-Masken-Paare (Samples) für Prognose: ',len(image_filenames),' : ', len(mask_filenames))\n",
    "if VERBOSE:\n",
    "    for idx in range(len(image_filenames)):\n",
    "        print(idx, ' | ', os.path.basename(image_filenames[idx]),'\\t-> ', os.path.basename(mask_filenames[idx]))"
   ]
  },
  {
   "cell_type": "markdown",
   "metadata": {
    "id": "N5y9VCTfOtDX"
   },
   "source": [
    "## Read in images and masks\n",
    "- The size of the test images and test masks correspond to the training. Scaling is done accordingly."
   ]
  },
  {
   "cell_type": "code",
   "execution_count": null,
   "metadata": {
    "id": "SIOWcZQpOtDX"
   },
   "outputs": [],
   "source": [
    "# read images and store them in memory\n",
    "images = [imread(img_name) for img_name in image_filenames]\n",
    "actual_masks = [imread(mask_name) for mask_name in mask_filenames]\n",
    "# Resize images and targets\n",
    "images_res = [resize(img, (INPUT.h_res, INPUT.w_res, INPUT.c_res)) for img in images]\n",
    "resize_kwargs = {'order': 0, 'anti_aliasing': False, 'preserve_range': True}\n",
    "actual_masks_res = [resize(mask, (INPUT.h_res, INPUT.w_res), **resize_kwargs) for mask in actual_masks]\n",
    "\n",
    "# Anzahl der Stichproben\n",
    "sample_anzahl=len(images)"
   ]
  },
  {
   "cell_type": "markdown",
   "metadata": {
    "id": "E-TApwzNOtDY"
   },
   "source": [
    "## Set up the model\n",
    "Prediction parameters must correspond to the training parameters. Common configuration supports this process."
   ]
  },
  {
   "cell_type": "code",
   "execution_count": null,
   "metadata": {
    "colab": {
     "base_uri": "https://localhost:8080/",
     "height": 1000
    },
    "executionInfo": {
     "elapsed": 7299,
     "status": "error",
     "timestamp": 1629976874030,
     "user": {
      "displayName": "jon jon",
      "photoUrl": "",
      "userId": "11545148206954630185"
     },
     "user_tz": -120
    },
    "id": "JCtepA7YOtDY",
    "outputId": "d6cea655-7d37-4f91-cab0-04d820a63558"
   },
   "outputs": [],
   "source": [
    "# Determination of the available device (CPU, GPU).\n",
    "device = torch.device(\"cuda\" if torch.cuda.is_available() else \"cpu\")\n",
    "# model\n",
    "model = UNet(in_channels=INPUT.c_res,\n",
    "             out_channels= CFG_MODEL.c_out,\n",
    "             n_blocks=CFG_MODEL.n_blocks,\n",
    "             start_filters=CFG_MODEL.ft,\n",
    "             activation='relu',\n",
    "             normalization='batch',\n",
    "             conv_mode='same',\n",
    "             dim=2).to(device)\n",
    "model_weights = torch.load(path_model_experiment/ 'model')\n",
    "model.load_state_dict(model_weights)"
   ]
  },
  {
   "cell_type": "code",
   "execution_count": null,
   "metadata": {
    "id": "l_c5FD0IOtDY",
    "pycharm": {
     "name": "#%%\n"
    }
   },
   "outputs": [],
   "source": [
    "# Prediction of the segmentation mask\n",
    "prediction=PREDICTION(model, device, True)\n",
    "predict_masks = [prediction.mask(img) for img in images_res]"
   ]
  },
  {
   "cell_type": "markdown",
   "metadata": {
    "id": "APoxAuRVOtDY"
   },
   "source": [
    "## Evaluation of the prognosis of the test set\n",
    "- Here just for checking purposes, see project \"P7-05 result visualization\""
   ]
  },
  {
   "cell_type": "code",
   "execution_count": null,
   "metadata": {
    "id": "graPWRpwOtDZ"
   },
   "outputs": [],
   "source": [
    "transform=TRANSFORM()\n",
    "dice, hausdorff, f1, dice_full = 0, 0, 0, 0\n",
    "i_error=0\n",
    "anzahl=0\n",
    "# Table header\n",
    "print_string=(f' idx | dice_img  | f1_img    | hausdorff_img | result-filename | input-filename')\n",
    "print(print_string)\n",
    "for idx in range(sample_anzahl):\n",
    "    try:\n",
    "        predict_mask_two= transform.twoClasses(predict_masks[idx])\n",
    "        actual_masks_two= transform.twoClasses(actual_masks_res[idx])\n",
    "        dice_img = ObjectDice(predict_mask_two,        actual_masks_two)\n",
    "        f1_img = F1score(predict_mask_two,              actual_masks_two)\n",
    "        hausdorff_img = ObjectHausdorff(predict_mask_two,  actual_masks_two)\n",
    "        dice += dice_img\n",
    "        f1 += f1_img\n",
    "        hausdorff += hausdorff_img\n",
    "        print_string=(f' {idx:3d} | {dice_img:9.3f} | {f1_img:9.3f} | {hausdorff_img:13.3f} | result_test_{idx:-02d}  | {os.path.basename(mask_filenames[idx])}')\n",
    "        print(print_string)\n",
    "        anzahl +=1\n",
    "    except:\n",
    "        i_error +=1\n",
    "        print('Error: ',i_error, 'Cycle: ', idx)\n"
   ]
  },
  {
   "cell_type": "code",
   "execution_count": null,
   "metadata": {
    "id": "xQ7kzTz5OtDZ"
   },
   "outputs": [],
   "source": [
    "print('-- Mean values ------------------------------------')\n",
    "print('ObjectDice:', dice / anzahl )\n",
    "print('F1:', f1 / anzahl )\n",
    "print('Weighted shape:', hausdorff / anzahl)\n",
    "print('Number io.: ', anzahl)\n",
    "print('Errors: ', i_error)\n"
   ]
  },
  {
   "cell_type": "markdown",
   "metadata": {
    "id": "hqSe7EKCOtDZ"
   },
   "source": [
    "## Post-processing of the predicted masks (-> object masks) and code to outline the predicted glands and their identification\n",
    "Two alternative variants\n",
    "- Remove small objects\n",
    "- Separate objects as far as possible (binary intensity morphology)\n",
    "- Outline\n",
    "- Set IDs\n",
    "\n",
    "Binary intensity morphology with module: scipy.ndimage\n",
    "- Separating objects.\n",
    "- Can only differentiate between two states (background and object).\n",
    "- But can emphasize a very specific object and separate it from one another.\n",
    "Konur code with module: skimage.measure\n",
    "- Can outline objects and assign object-specific IDs\n",
    "- Empty areas of the objects can be filled"
   ]
  },
  {
   "cell_type": "code",
   "execution_count": null,
   "metadata": {
    "id": "IMgeW5m-OtDa"
   },
   "outputs": [],
   "source": [
    "from scipy import ndimage\n",
    "from importlib import reload\n",
    "import MODULE.JH.image_processing\n",
    "reload(MODULE.JH.image_processing)\n",
    "import MODULE.JH.image_processing as IP"
   ]
  },
  {
   "cell_type": "code",
   "execution_count": null,
   "metadata": {
    "id": "COrh2oPPUysC"
   },
   "outputs": [],
   "source": [
    "# Lists\n",
    "contour_codes_list=[]\n",
    "# object_filled_list=[]\n",
    "predict_masks_morph_list=[]\n",
    "object_array_list=[]"
   ]
  },
  {
   "cell_type": "code",
   "execution_count": null,
   "metadata": {
    "id": "ShBZlKpv132M"
   },
   "outputs": [],
   "source": [
    "# VARIANT 2 - contour code (library / module: skimage.measure)\n",
    "# Identification of the objects, variant 2\n",
    "if POST.ident=='measure':\n",
    "    # Fill holes\n",
    "    idObjects= IP.ObjectIDsOfArray()\n",
    "    for idx in range(sample_anzahl):\n",
    "        mask_morph=idObjects.fill_objects(predict_masks[idx], POST.opening_structure)\n",
    "        contur_codes, object_array=idObjects.getObjects(mask_morph)\n",
    "        predict_masks_morph_list.append(mask_morph)\n",
    "        object_array_list.append(object_array)\n",
    "        contour_codes_list.append(contur_codes) \n",
    "\n"
   ]
  },
  {
   "cell_type": "code",
   "execution_count": null,
   "metadata": {
    "id": "Vi-HcbEoU2i-"
   },
   "outputs": [],
   "source": [
    "convert=IP.Convert() # Instance to convert\n",
    "# VARIANT 1: CHAINCODE (Python)\n",
    "if POST.ident=='chain':\n",
    "    for idx in range(sample_anzahl):\n",
    "        mask_morph=ndimage.binary_opening(predict_masks[idx], structure=np.ones(POST.opening_structure)).astype(int)\n",
    "        # -> Returns: 0 = no object or 1 = object\n",
    "        print('\\n--- Mask idx: ', idx)\n",
    "        idObject= IP.IdentifyObject(mask_morph, False) # Klasseninstanz MODUL\n",
    "        # class-id - areas with this id are processed\n",
    "        # id_ - The elements of the area receive this id\n",
    "        chaincodes, object_array, fill_array=idObject.chaincode(class_id=1, id_=1)       # Klassenmethode\n",
    "        # Converts chain code to contour array\n",
    "        contour_codes=convert.chains_to_contourcodes_2(chaincodes)\n",
    "        predict_masks_morph_list.append(mask_morph)\n",
    "        contour_codes_list.append(contour_codes)\n",
    "        object_array_list.append(object_array) "
   ]
  },
  {
   "cell_type": "markdown",
   "metadata": {
    "id": "Nby3U7SlV11u"
   },
   "source": [
    "## Save object arrays and contour codes"
   ]
  },
  {
   "cell_type": "code",
   "execution_count": null,
   "metadata": {
    "id": "Uhx6OdTdOtDh"
   },
   "outputs": [],
   "source": [
    "# Control dimensions\n",
    "if VERBOSE:\n",
    "    print('Input images:   ', images_res[0].shape)\n",
    "    print('Actual masks:  ',  actual_masks_res[0].shape)\n",
    "    print('Prediction masks: ', predict_masks[0].shape)\n",
    "    print('Path of model: ', path_model_experiment)\n",
    "    print('Path of result: ', path_result_experiment)\n",
    "\n",
    "# Verzeichnisse zum Abspeichern der Bilder vorbereiten\n",
    "path_inputImages = path_result_experiment / 'images'    # Bilder skaliert entsprechend Trainingsvorgabe\n",
    "path_actualMasks= path_result_experiment / 'actualMasks'        # Tatsächliche Masken\n",
    "path_predictMasks= path_result_experiment / 'predictMasks'      # Prognostizierte Masken\n",
    "path_predictMasksMorph= path_result_experiment / 'predictMasksMorph'          # mit opening (morph)\n",
    "path_predictObjects= path_result_experiment / 'predictObjects'  # Nachbearbeitete prognostizierte Masken\n",
    "path_predictContourCodes = path_result_experiment / 'predictContourCodes' # Kontur der Objekte als Kettencode\n",
    "# New subdirectories    \n",
    "os.chdir(path_result_experiment)\n",
    "os.mkdir(path_inputImages)\n",
    "os.mkdir(path_actualMasks)\n",
    "os.mkdir(path_predictMasks)\n",
    "os.mkdir(path_predictMasksMorph)\n",
    "os.mkdir(path_predictObjects)\n",
    "os.mkdir(path_predictContourCodes)"
   ]
  },
  {
   "cell_type": "code",
   "execution_count": null,
   "metadata": {
    "id": "WzLbs8ovOtDh"
   },
   "outputs": [],
   "source": [
    "from importlib import reload\n",
    "import MODULE.JH.visualize\n",
    "reload(MODULE.JH.visualize)\n",
    "from MODULE.JH.visualize import Show as SHOW\n",
    "show=SHOW(figsize=(18,25))"
   ]
  },
  {
   "cell_type": "code",
   "execution_count": null,
   "metadata": {
    "id": "M7A2rtDmOtDh"
   },
   "outputs": [],
   "source": [
    "print(len(contour_codes_list)) # Listenelemente\n",
    "print(len(contour_codes_list[0])) # konturen drs Arrays 0'"
   ]
  },
  {
   "cell_type": "code",
   "execution_count": null,
   "metadata": {
    "id": "Sk4L9d9cOtDh"
   },
   "outputs": [],
   "source": [
    "idx_list=list([25,29,23])\n",
    "#idx_list=list([10,11,12,13])\n",
    "listset=list([images,  actual_masks,         predict_masks, predict_masks_morph_list,  object_array_list])\n",
    "titles=list(['Image', 'Aktual mask', 'Predicted mask', 'with morphology',    'IDs - identify'])\n",
    "path_set= path_result_experiment  / f'images_masks_listset_(P7-04)_{str(idx_list)}.png'\n",
    "show.list_set(idx_list, listset, titles, path=path_set)"
   ]
  },
  {
   "cell_type": "markdown",
   "metadata": {
    "id": "xTgv4Nd-OtDh"
   },
   "source": [
    "## Save the results"
   ]
  },
  {
   "cell_type": "code",
   "execution_count": null,
   "metadata": {
    "id": "QSf5FQd-OtDh"
   },
   "outputs": [],
   "source": [
    "# Images, Masken und Ergebnsimasken der Testbilder speichern\n",
    "for idx in range(sample_anzahl):\n",
    "    print('idx:', idx, end=', ')\n",
    "    # Alle Dateien haben den gleichen Dateinamen,\n",
    "    # werden aber in unterschiedlichen Verzeichnissen gespeichert\n",
    "    file_name=f'result_test_{idx:02d}.png'\n",
    "    # Portieren von ndarray nach *.png\n",
    "    input_image         = Image.fromarray((images_res[idx]*255).astype(np.uint8))\n",
    "    actual_mask_img     = Image.fromarray((actual_masks_res[idx]).astype(np.uint8))\n",
    "    predict_mask_img    = Image.fromarray((predict_masks[idx]).astype(np.uint8))\n",
    "    predict_masks_morph_img = Image.fromarray((predict_masks_morph_list[idx]).astype(np.uint8))\n",
    "    object_image        = Image.fromarray((object_array_list[idx]).astype(np.uint8))\n",
    "    \n",
    "    # Speichern der Arrays=Bilder einschließlich Zwischenergebnisse\n",
    "    input_image.save(path_inputImages / file_name)\n",
    "    actual_mask_img.save(path_actualMasks / file_name)\n",
    "    predict_mask_img.save(path_predictMasks / file_name)\n",
    "    predict_masks_morph_img.save(path_predictMasksMorph / file_name)\n",
    "    object_image.save(path_predictObjects / file_name)\n",
    "    # Code der Konturen \n",
    "    file_name=f'result_test_{idx:02d}.pkl'\n",
    "    file_codes=open(path_predictContourCodes / file_name, 'wb')\n",
    "    pickle.dump(contour_codes_list[idx], file_codes)\n",
    "    file_codes.close()"
   ]
  },
  {
   "cell_type": "code",
   "execution_count": null,
   "metadata": {
    "id": "XCX-wi74OtDi"
   },
   "outputs": [],
   "source": [
    "print('ENDE')"
   ]
  }
 ],
 "metadata": {
  "accelerator": "GPU",
  "colab": {
   "collapsed_sections": [],
   "machine_shape": "hm",
   "name": "P7-04_prognose_QU.ipynb",
   "provenance": []
  },
  "kernelspec": {
   "display_name": "Python 3",
   "language": "python",
   "name": "python3"
  },
  "language_info": {
   "codemirror_mode": {
    "name": "ipython",
    "version": 3
   },
   "file_extension": ".py",
   "mimetype": "text/x-python",
   "name": "python",
   "nbconvert_exporter": "python",
   "pygments_lexer": "ipython3",
   "version": "3.8.8"
  }
 },
 "nbformat": 4,
 "nbformat_minor": 1
}
